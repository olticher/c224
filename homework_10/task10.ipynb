{
  "nbformat": 4,
  "nbformat_minor": 5,
  "metadata": {
    "colab": {
      "name": "task10.ipynb",
      "provenance": [],
      "collapsed_sections": []
    },
    "kernelspec": {
      "display_name": "cs224",
      "language": "python",
      "name": "cs224"
    },
    "language_info": {
      "codemirror_mode": {
        "name": "ipython",
        "version": 3
      },
      "file_extension": ".py",
      "mimetype": "text/x-python",
      "name": "python",
      "nbconvert_exporter": "python",
      "pygments_lexer": "ipython3",
      "version": "3.8.5"
    }
  },
  "cells": [
    {
      "cell_type": "code",
      "metadata": {
        "colab": {
          "base_uri": "https://localhost:8080/"
        },
        "id": "tested-sugar",
        "outputId": "59ca54f9-c1af-4d77-c3f0-71d951dafa38"
      },
      "source": [
        "!pip install pymorphy2"
      ],
      "id": "tested-sugar",
      "execution_count": 1,
      "outputs": [
        {
          "output_type": "stream",
          "text": [
            "Requirement already satisfied: pymorphy2 in /usr/local/lib/python3.7/dist-packages (0.9.1)\n",
            "Requirement already satisfied: pymorphy2-dicts-ru<3.0,>=2.4 in /usr/local/lib/python3.7/dist-packages (from pymorphy2) (2.4.417127.4579844)\n",
            "Requirement already satisfied: docopt>=0.6 in /usr/local/lib/python3.7/dist-packages (from pymorphy2) (0.6.2)\n",
            "Requirement already satisfied: dawg-python>=0.7.1 in /usr/local/lib/python3.7/dist-packages (from pymorphy2) (0.7.2)\n"
          ],
          "name": "stdout"
        }
      ]
    },
    {
      "cell_type": "code",
      "metadata": {
        "colab": {
          "base_uri": "https://localhost:8080/"
        },
        "id": "DRdOfJwOo9Ku",
        "outputId": "7b7443c3-325f-4a80-b901-0468b6054e50"
      },
      "source": [
        "!pip install —upgrade pandas==1.1.5"
      ],
      "id": "DRdOfJwOo9Ku",
      "execution_count": 2,
      "outputs": [
        {
          "output_type": "stream",
          "text": [
            "\u001b[31mERROR: Invalid requirement: '—upgrade'\u001b[0m\n"
          ],
          "name": "stdout"
        }
      ]
    },
    {
      "cell_type": "code",
      "metadata": {
        "colab": {
          "base_uri": "https://localhost:8080/"
        },
        "id": "-qZ3D896pC2X",
        "outputId": "69bb904b-0d85-4df8-f4cb-d62e8776685d"
      },
      "source": [
        "!pip install —upgrade numpy==1.19.5"
      ],
      "id": "-qZ3D896pC2X",
      "execution_count": 3,
      "outputs": [
        {
          "output_type": "stream",
          "text": [
            "\u001b[31mERROR: Invalid requirement: '—upgrade'\u001b[0m\n"
          ],
          "name": "stdout"
        }
      ]
    },
    {
      "cell_type": "code",
      "metadata": {
        "colab": {
          "base_uri": "https://localhost:8080/"
        },
        "id": "piy41ibjpGbT",
        "outputId": "92367fb4-9c8a-4010-c5c6-1b3169dbd1cc"
      },
      "source": [
        "! pip uninstall pyLDAvis"
      ],
      "id": "piy41ibjpGbT",
      "execution_count": 4,
      "outputs": [
        {
          "output_type": "stream",
          "text": [
            "Uninstalling pyLDAvis-3.3.1:\n",
            "  Would remove:\n",
            "    /usr/local/lib/python3.7/dist-packages/pyLDAvis-3.3.1.dist-info/*\n",
            "    /usr/local/lib/python3.7/dist-packages/pyLDAvis/*\n",
            "Proceed (y/n)? y\n",
            "  Successfully uninstalled pyLDAvis-3.3.1\n"
          ],
          "name": "stdout"
        }
      ]
    },
    {
      "cell_type": "code",
      "metadata": {
        "colab": {
          "base_uri": "https://localhost:8080/"
        },
        "id": "4cN9UlR7pMRY",
        "outputId": "42b08f63-36a4-46c0-c400-2bd87a3aa955"
      },
      "source": [
        "! pip install pyLDAvis"
      ],
      "id": "4cN9UlR7pMRY",
      "execution_count": 5,
      "outputs": [
        {
          "output_type": "stream",
          "text": [
            "Processing /root/.cache/pip/wheels/a0/9c/fc/c6e00689d35c82cf96a8adc70edfe7ba7904374fdac3240ac2/pyLDAvis-3.3.1-cp37-none-any.whl\n",
            "Requirement already satisfied: scikit-learn in /usr/local/lib/python3.7/dist-packages (from pyLDAvis) (0.22.2.post1)\n",
            "Requirement already satisfied: setuptools in /usr/local/lib/python3.7/dist-packages (from pyLDAvis) (57.0.0)\n",
            "Requirement already satisfied: pandas>=1.2.0 in /usr/local/lib/python3.7/dist-packages (from pyLDAvis) (1.2.0)\n",
            "Requirement already satisfied: joblib in /usr/local/lib/python3.7/dist-packages (from pyLDAvis) (1.0.1)\n",
            "Requirement already satisfied: numpy>=1.20.0 in /usr/local/lib/python3.7/dist-packages (from pyLDAvis) (1.20.3)\n",
            "Requirement already satisfied: funcy in /usr/local/lib/python3.7/dist-packages (from pyLDAvis) (1.16)\n",
            "Requirement already satisfied: future in /usr/local/lib/python3.7/dist-packages (from pyLDAvis) (0.16.0)\n",
            "Requirement already satisfied: numexpr in /usr/local/lib/python3.7/dist-packages (from pyLDAvis) (2.7.3)\n",
            "Requirement already satisfied: sklearn in /usr/local/lib/python3.7/dist-packages (from pyLDAvis) (0.0)\n",
            "Requirement already satisfied: gensim in /usr/local/lib/python3.7/dist-packages (from pyLDAvis) (3.6.0)\n",
            "Requirement already satisfied: jinja2 in /usr/local/lib/python3.7/dist-packages (from pyLDAvis) (2.11.3)\n",
            "Requirement already satisfied: scipy in /usr/local/lib/python3.7/dist-packages (from pyLDAvis) (1.4.1)\n",
            "Requirement already satisfied: pytz>=2017.3 in /usr/local/lib/python3.7/dist-packages (from pandas>=1.2.0->pyLDAvis) (2018.9)\n",
            "Requirement already satisfied: python-dateutil>=2.7.3 in /usr/local/lib/python3.7/dist-packages (from pandas>=1.2.0->pyLDAvis) (2.8.1)\n",
            "Requirement already satisfied: six>=1.5.0 in /usr/local/lib/python3.7/dist-packages (from gensim->pyLDAvis) (1.15.0)\n",
            "Requirement already satisfied: smart-open>=1.2.1 in /usr/local/lib/python3.7/dist-packages (from gensim->pyLDAvis) (5.0.0)\n",
            "Requirement already satisfied: MarkupSafe>=0.23 in /usr/local/lib/python3.7/dist-packages (from jinja2->pyLDAvis) (2.0.1)\n",
            "Installing collected packages: pyLDAvis\n",
            "Successfully installed pyLDAvis-3.3.1\n"
          ],
          "name": "stdout"
        }
      ]
    },
    {
      "cell_type": "code",
      "metadata": {
        "colab": {
          "base_uri": "https://localhost:8080/"
        },
        "id": "b9vOVKmFcTL4",
        "outputId": "f12f3805-f0c8-4033-b5c0-d90a15f6b48b"
      },
      "source": [
        "import json\n",
        "import nltk\n",
        "import string\n",
        "from nltk.corpus import stopwords\n",
        "import re\n",
        "import pymorphy2\n",
        "import gensim.corpora as corpora\n",
        "import pyLDAvis.gensim_models\n",
        "import pyLDAvis\n",
        "import pickle\n",
        "import os\n",
        "\n",
        "nltk.download('stopwords')\n",
        "\n",
        "analyzer = pymorphy2.MorphAnalyzer()"
      ],
      "id": "b9vOVKmFcTL4",
      "execution_count": 6,
      "outputs": [
        {
          "output_type": "stream",
          "text": [
            "/usr/local/lib/python3.7/dist-packages/past/types/oldstr.py:5: DeprecationWarning: Using or importing the ABCs from 'collections' instead of from 'collections.abc' is deprecated since Python 3.3,and in 3.9 it will stop working\n",
            "  from collections import Iterable\n",
            "/usr/local/lib/python3.7/dist-packages/sklearn/decomposition/_lda.py:29: DeprecationWarning: `np.float` is a deprecated alias for the builtin `float`. To silence this warning, use `float` by itself. Doing this will not modify any behavior and is safe. If you specifically wanted the numpy scalar type, use `np.float64` here.\n",
            "Deprecated in NumPy 1.20; for more details and guidance: https://numpy.org/devdocs/release/1.20.0-notes.html#deprecations\n",
            "  EPS = np.finfo(np.float).eps\n"
          ],
          "name": "stderr"
        },
        {
          "output_type": "stream",
          "text": [
            "[nltk_data] Downloading package stopwords to /root/nltk_data...\n",
            "[nltk_data]   Package stopwords is already up-to-date!\n"
          ],
          "name": "stdout"
        },
        {
          "output_type": "stream",
          "text": [
            "/usr/local/lib/python3.7/dist-packages/pymorphy2/units/base.py:70: DeprecationWarning: inspect.getargspec() is deprecated since Python 3.0, use inspect.signature() or inspect.getfullargspec()\n",
            "  args, varargs, kw, default = inspect.getargspec(cls.__init__)\n",
            "/usr/local/lib/python3.7/dist-packages/pymorphy2/units/base.py:70: DeprecationWarning: inspect.getargspec() is deprecated since Python 3.0, use inspect.signature() or inspect.getfullargspec()\n",
            "  args, varargs, kw, default = inspect.getargspec(cls.__init__)\n",
            "/usr/local/lib/python3.7/dist-packages/pymorphy2/units/base.py:70: DeprecationWarning: inspect.getargspec() is deprecated since Python 3.0, use inspect.signature() or inspect.getfullargspec()\n",
            "  args, varargs, kw, default = inspect.getargspec(cls.__init__)\n",
            "/usr/local/lib/python3.7/dist-packages/pymorphy2/units/base.py:70: DeprecationWarning: inspect.getargspec() is deprecated since Python 3.0, use inspect.signature() or inspect.getfullargspec()\n",
            "  args, varargs, kw, default = inspect.getargspec(cls.__init__)\n",
            "/usr/local/lib/python3.7/dist-packages/pymorphy2/units/base.py:70: DeprecationWarning: inspect.getargspec() is deprecated since Python 3.0, use inspect.signature() or inspect.getfullargspec()\n",
            "  args, varargs, kw, default = inspect.getargspec(cls.__init__)\n",
            "/usr/local/lib/python3.7/dist-packages/pymorphy2/units/base.py:70: DeprecationWarning: inspect.getargspec() is deprecated since Python 3.0, use inspect.signature() or inspect.getfullargspec()\n",
            "  args, varargs, kw, default = inspect.getargspec(cls.__init__)\n",
            "/usr/local/lib/python3.7/dist-packages/pymorphy2/units/base.py:70: DeprecationWarning: inspect.getargspec() is deprecated since Python 3.0, use inspect.signature() or inspect.getfullargspec()\n",
            "  args, varargs, kw, default = inspect.getargspec(cls.__init__)\n",
            "/usr/local/lib/python3.7/dist-packages/pymorphy2/units/base.py:70: DeprecationWarning: inspect.getargspec() is deprecated since Python 3.0, use inspect.signature() or inspect.getfullargspec()\n",
            "  args, varargs, kw, default = inspect.getargspec(cls.__init__)\n",
            "/usr/local/lib/python3.7/dist-packages/pymorphy2/units/base.py:70: DeprecationWarning: inspect.getargspec() is deprecated since Python 3.0, use inspect.signature() or inspect.getfullargspec()\n",
            "  args, varargs, kw, default = inspect.getargspec(cls.__init__)\n",
            "/usr/local/lib/python3.7/dist-packages/pymorphy2/units/base.py:70: DeprecationWarning: inspect.getargspec() is deprecated since Python 3.0, use inspect.signature() or inspect.getfullargspec()\n",
            "  args, varargs, kw, default = inspect.getargspec(cls.__init__)\n",
            "/usr/local/lib/python3.7/dist-packages/pymorphy2/units/base.py:70: DeprecationWarning: inspect.getargspec() is deprecated since Python 3.0, use inspect.signature() or inspect.getfullargspec()\n",
            "  args, varargs, kw, default = inspect.getargspec(cls.__init__)\n",
            "/usr/local/lib/python3.7/dist-packages/pymorphy2/units/base.py:70: DeprecationWarning: inspect.getargspec() is deprecated since Python 3.0, use inspect.signature() or inspect.getfullargspec()\n",
            "  args, varargs, kw, default = inspect.getargspec(cls.__init__)\n"
          ],
          "name": "stderr"
        }
      ]
    },
    {
      "cell_type": "markdown",
      "metadata": {
        "id": "moved-chemistry"
      },
      "source": [
        "### Предобработка"
      ],
      "id": "moved-chemistry"
    },
    {
      "cell_type": "markdown",
      "metadata": {
        "id": "spoken-philosophy"
      },
      "source": [
        "Подгружаем словарь, где ключи - заголовки документов, ключи - токены этого документа в начальной форме"
      ],
      "id": "spoken-philosophy"
    },
    {
      "cell_type": "code",
      "metadata": {
        "id": "understanding-demand"
      },
      "source": [
        "with open(\"new_corpus.json\") as f:\n",
        "  corpus = json.load(f)"
      ],
      "id": "understanding-demand",
      "execution_count": 7,
      "outputs": []
    },
    {
      "cell_type": "code",
      "metadata": {
        "id": "fifteen-sixth"
      },
      "source": [
        "corpus_arr = [] # здесь мы будем хранить нормализованные документы, состоит из corpus_arr_little\n",
        "for doc in corpus.values():\n",
        "  corpus_arr_little = [] # массив для каждого нормализованного документа\n",
        "  array = doc.split()\n",
        "  for word in array:\n",
        "    normal_word = analyzer.parse(word)[0]\n",
        "    corpus_arr_little.append(normal_word.normal_form)\n",
        "  corpus_arr.append(corpus_arr_little)"
      ],
      "id": "fifteen-sixth",
      "execution_count": 8,
      "outputs": []
    },
    {
      "cell_type": "code",
      "metadata": {
        "id": "secure-george"
      },
      "source": [
        "def del_stops(word):\n",
        "    \"\"\"\n",
        "    Функция удаления стоп-слов\n",
        "    \"\"\"\n",
        "    punct = string.punctuation + \"—\" + \"«\" + \"»\" + \"[\" + \"]\" + \"{\" + \"}\" \n",
        "    if (word in punct) or (word == '{\\\\displaystyle') or (analyzer.parse(word)[0].tag.POS in ['CONJ', 'PRCL', 'INTJ', 'PREP', 'NPRO', 'NUMR']) or (len(word) <= 2) or ('x' in word):\n",
        "      return False\n",
        "\n",
        "    else:\n",
        "    # Удаление служебных частей речи и личных местоимений\n",
        "      word = word.replace(',','')\n",
        "      stops = stopwords.words(\"english\") + stopwords.words(\"russian\") + [\"это\", \"который\", \"наш\", \"мочь\", \"год\", \n",
        "                                            \"такой\", \"знать\", \"мы\", \"свой\", \"один\", \"другой\", \"хотеть\",\n",
        "                                            \"человек\", \"всё\", \"все\", \"весь\", \"очень\", \"думать\", \"нужно\",\n",
        "                                            \"большой\", \"время\", \"использовать\", \"говорить\", \"сказать\",\n",
        "                                            \"иметь\", \"сделать\", \"первый\", \"каждый\", \"день\", \"её\", \"ваш\",\n",
        "                                            \"стать\", \"больший\", \"ваше\", \"день\", \"самый\", \"понять\",\n",
        "                                            \"просто\", \"ещё\", \"проблема\", \"также\", \"например\", \"м\", \"c\", \"cos\", \"sin\", \"x\"]\n",
        "      if word in stops:\n",
        "        return False\n",
        "      else:\n",
        "        return word"
      ],
      "id": "secure-george",
      "execution_count": 9,
      "outputs": []
    },
    {
      "cell_type": "code",
      "metadata": {
        "id": "ancient-rendering"
      },
      "source": [
        "corpus = []\n",
        "for i in corpus_arr:\n",
        "  clean_arr_words = []\n",
        "  for j in i:\n",
        "    new_form = del_stops(j)\n",
        "    if not new_form == False:\n",
        "      clean_arr_words.append(new_form)\n",
        "  corpus.append(clean_arr_words)"
      ],
      "id": "ancient-rendering",
      "execution_count": 10,
      "outputs": []
    },
    {
      "cell_type": "markdown",
      "metadata": {
        "id": "improved-colonial"
      },
      "source": [
        "### Работа с LDA"
      ],
      "id": "improved-colonial"
    },
    {
      "cell_type": "code",
      "metadata": {
        "id": "cathedral-ballet"
      },
      "source": [
        "id2word = corpora.Dictionary(corpus)"
      ],
      "id": "cathedral-ballet",
      "execution_count": 11,
      "outputs": []
    },
    {
      "cell_type": "code",
      "metadata": {
        "id": "acute-airplane"
      },
      "source": [
        "docs = corpus\n",
        "corpus = [id2word.doc2bow(doc) for doc in docs]"
      ],
      "id": "acute-airplane",
      "execution_count": 12,
      "outputs": []
    },
    {
      "cell_type": "code",
      "metadata": {
        "colab": {
          "base_uri": "https://localhost:8080/"
        },
        "id": "functioning-switzerland",
        "outputId": "cd37e035-58fc-4fd9-f2a6-e850e567d183"
      },
      "source": [
        "print(corpus[0])"
      ],
      "id": "functioning-switzerland",
      "execution_count": 13,
      "outputs": [
        {
          "output_type": "stream",
          "text": [
            "[(0, 1), (1, 1), (2, 1), (3, 1), (4, 1), (5, 1), (6, 1), (7, 1), (8, 1), (9, 1), (10, 1), (11, 1), (12, 1), (13, 4), (14, 1), (15, 1), (16, 1), (17, 1), (18, 2), (19, 1), (20, 2), (21, 1), (22, 1), (23, 1), (24, 1), (25, 2), (26, 1), (27, 1), (28, 1), (29, 1), (30, 1), (31, 1), (32, 1), (33, 1), (34, 3), (35, 1), (36, 1), (37, 1), (38, 1), (39, 2), (40, 1), (41, 1), (42, 1), (43, 1), (44, 1)]\n"
          ],
          "name": "stdout"
        }
      ]
    },
    {
      "cell_type": "code",
      "metadata": {
        "colab": {
          "base_uri": "https://localhost:8080/"
        },
        "id": "incorrect-disorder",
        "outputId": "ee174d32-bbf5-4066-c221-8272f431389c"
      },
      "source": [
        "from gensim.models import LdaMulticore\n",
        "lda_model = LdaMulticore(corpus=corpus, id2word=id2word, num_topics=4)"
      ],
      "id": "incorrect-disorder",
      "execution_count": 30,
      "outputs": [
        {
          "output_type": "stream",
          "text": [
            "/usr/local/lib/python3.7/dist-packages/gensim/models/ldamodel.py:1077: DeprecationWarning: Calling np.sum(generator) is deprecated, and in the future will give a different result. Use np.sum(np.fromiter(generator)) or the python sum builtin instead.\n",
            "  score += np.sum(cnt * logsumexp(Elogthetad + Elogbeta[:, int(id)]) for id, cnt in doc)\n",
            "/usr/local/lib/python3.7/dist-packages/gensim/models/ldamodel.py:1077: DeprecationWarning: Calling np.sum(generator) is deprecated, and in the future will give a different result. Use np.sum(np.fromiter(generator)) or the python sum builtin instead.\n",
            "  score += np.sum(cnt * logsumexp(Elogthetad + Elogbeta[:, int(id)]) for id, cnt in doc)\n",
            "/usr/local/lib/python3.7/dist-packages/gensim/models/ldamodel.py:1077: DeprecationWarning: Calling np.sum(generator) is deprecated, and in the future will give a different result. Use np.sum(np.fromiter(generator)) or the python sum builtin instead.\n",
            "  score += np.sum(cnt * logsumexp(Elogthetad + Elogbeta[:, int(id)]) for id, cnt in doc)\n",
            "/usr/local/lib/python3.7/dist-packages/gensim/models/ldamodel.py:1077: DeprecationWarning: Calling np.sum(generator) is deprecated, and in the future will give a different result. Use np.sum(np.fromiter(generator)) or the python sum builtin instead.\n",
            "  score += np.sum(cnt * logsumexp(Elogthetad + Elogbeta[:, int(id)]) for id, cnt in doc)\n",
            "/usr/local/lib/python3.7/dist-packages/gensim/models/ldamodel.py:1077: DeprecationWarning: Calling np.sum(generator) is deprecated, and in the future will give a different result. Use np.sum(np.fromiter(generator)) or the python sum builtin instead.\n",
            "  score += np.sum(cnt * logsumexp(Elogthetad + Elogbeta[:, int(id)]) for id, cnt in doc)\n",
            "/usr/local/lib/python3.7/dist-packages/gensim/models/ldamodel.py:1077: DeprecationWarning: Calling np.sum(generator) is deprecated, and in the future will give a different result. Use np.sum(np.fromiter(generator)) or the python sum builtin instead.\n",
            "  score += np.sum(cnt * logsumexp(Elogthetad + Elogbeta[:, int(id)]) for id, cnt in doc)\n",
            "/usr/local/lib/python3.7/dist-packages/gensim/models/ldamodel.py:1077: DeprecationWarning: Calling np.sum(generator) is deprecated, and in the future will give a different result. Use np.sum(np.fromiter(generator)) or the python sum builtin instead.\n",
            "  score += np.sum(cnt * logsumexp(Elogthetad + Elogbeta[:, int(id)]) for id, cnt in doc)\n",
            "/usr/local/lib/python3.7/dist-packages/gensim/models/ldamodel.py:1077: DeprecationWarning: Calling np.sum(generator) is deprecated, and in the future will give a different result. Use np.sum(np.fromiter(generator)) or the python sum builtin instead.\n",
            "  score += np.sum(cnt * logsumexp(Elogthetad + Elogbeta[:, int(id)]) for id, cnt in doc)\n",
            "/usr/local/lib/python3.7/dist-packages/gensim/models/ldamodel.py:1077: DeprecationWarning: Calling np.sum(generator) is deprecated, and in the future will give a different result. Use np.sum(np.fromiter(generator)) or the python sum builtin instead.\n",
            "  score += np.sum(cnt * logsumexp(Elogthetad + Elogbeta[:, int(id)]) for id, cnt in doc)\n",
            "/usr/local/lib/python3.7/dist-packages/gensim/models/ldamodel.py:1077: DeprecationWarning: Calling np.sum(generator) is deprecated, and in the future will give a different result. Use np.sum(np.fromiter(generator)) or the python sum builtin instead.\n",
            "  score += np.sum(cnt * logsumexp(Elogthetad + Elogbeta[:, int(id)]) for id, cnt in doc)\n",
            "/usr/local/lib/python3.7/dist-packages/gensim/models/ldamodel.py:1077: DeprecationWarning: Calling np.sum(generator) is deprecated, and in the future will give a different result. Use np.sum(np.fromiter(generator)) or the python sum builtin instead.\n",
            "  score += np.sum(cnt * logsumexp(Elogthetad + Elogbeta[:, int(id)]) for id, cnt in doc)\n",
            "/usr/local/lib/python3.7/dist-packages/gensim/models/ldamodel.py:1077: DeprecationWarning: Calling np.sum(generator) is deprecated, and in the future will give a different result. Use np.sum(np.fromiter(generator)) or the python sum builtin instead.\n",
            "  score += np.sum(cnt * logsumexp(Elogthetad + Elogbeta[:, int(id)]) for id, cnt in doc)\n",
            "/usr/local/lib/python3.7/dist-packages/gensim/models/ldamodel.py:1077: DeprecationWarning: Calling np.sum(generator) is deprecated, and in the future will give a different result. Use np.sum(np.fromiter(generator)) or the python sum builtin instead.\n",
            "  score += np.sum(cnt * logsumexp(Elogthetad + Elogbeta[:, int(id)]) for id, cnt in doc)\n",
            "/usr/local/lib/python3.7/dist-packages/gensim/models/ldamodel.py:1077: DeprecationWarning: Calling np.sum(generator) is deprecated, and in the future will give a different result. Use np.sum(np.fromiter(generator)) or the python sum builtin instead.\n",
            "  score += np.sum(cnt * logsumexp(Elogthetad + Elogbeta[:, int(id)]) for id, cnt in doc)\n",
            "/usr/local/lib/python3.7/dist-packages/gensim/models/ldamodel.py:1077: DeprecationWarning: Calling np.sum(generator) is deprecated, and in the future will give a different result. Use np.sum(np.fromiter(generator)) or the python sum builtin instead.\n",
            "  score += np.sum(cnt * logsumexp(Elogthetad + Elogbeta[:, int(id)]) for id, cnt in doc)\n",
            "/usr/local/lib/python3.7/dist-packages/gensim/models/ldamodel.py:1077: DeprecationWarning: Calling np.sum(generator) is deprecated, and in the future will give a different result. Use np.sum(np.fromiter(generator)) or the python sum builtin instead.\n",
            "  score += np.sum(cnt * logsumexp(Elogthetad + Elogbeta[:, int(id)]) for id, cnt in doc)\n",
            "/usr/local/lib/python3.7/dist-packages/gensim/models/ldamodel.py:1077: DeprecationWarning: Calling np.sum(generator) is deprecated, and in the future will give a different result. Use np.sum(np.fromiter(generator)) or the python sum builtin instead.\n",
            "  score += np.sum(cnt * logsumexp(Elogthetad + Elogbeta[:, int(id)]) for id, cnt in doc)\n",
            "/usr/local/lib/python3.7/dist-packages/gensim/models/ldamodel.py:1077: DeprecationWarning: Calling np.sum(generator) is deprecated, and in the future will give a different result. Use np.sum(np.fromiter(generator)) or the python sum builtin instead.\n",
            "  score += np.sum(cnt * logsumexp(Elogthetad + Elogbeta[:, int(id)]) for id, cnt in doc)\n",
            "/usr/local/lib/python3.7/dist-packages/gensim/models/ldamodel.py:1077: DeprecationWarning: Calling np.sum(generator) is deprecated, and in the future will give a different result. Use np.sum(np.fromiter(generator)) or the python sum builtin instead.\n",
            "  score += np.sum(cnt * logsumexp(Elogthetad + Elogbeta[:, int(id)]) for id, cnt in doc)\n",
            "/usr/local/lib/python3.7/dist-packages/gensim/models/ldamodel.py:1077: DeprecationWarning: Calling np.sum(generator) is deprecated, and in the future will give a different result. Use np.sum(np.fromiter(generator)) or the python sum builtin instead.\n",
            "  score += np.sum(cnt * logsumexp(Elogthetad + Elogbeta[:, int(id)]) for id, cnt in doc)\n",
            "/usr/local/lib/python3.7/dist-packages/gensim/models/ldamodel.py:1077: DeprecationWarning: Calling np.sum(generator) is deprecated, and in the future will give a different result. Use np.sum(np.fromiter(generator)) or the python sum builtin instead.\n",
            "  score += np.sum(cnt * logsumexp(Elogthetad + Elogbeta[:, int(id)]) for id, cnt in doc)\n",
            "/usr/local/lib/python3.7/dist-packages/gensim/models/ldamodel.py:1077: DeprecationWarning: Calling np.sum(generator) is deprecated, and in the future will give a different result. Use np.sum(np.fromiter(generator)) or the python sum builtin instead.\n",
            "  score += np.sum(cnt * logsumexp(Elogthetad + Elogbeta[:, int(id)]) for id, cnt in doc)\n",
            "/usr/local/lib/python3.7/dist-packages/gensim/models/ldamodel.py:1077: DeprecationWarning: Calling np.sum(generator) is deprecated, and in the future will give a different result. Use np.sum(np.fromiter(generator)) or the python sum builtin instead.\n",
            "  score += np.sum(cnt * logsumexp(Elogthetad + Elogbeta[:, int(id)]) for id, cnt in doc)\n",
            "/usr/local/lib/python3.7/dist-packages/gensim/models/ldamodel.py:1077: DeprecationWarning: Calling np.sum(generator) is deprecated, and in the future will give a different result. Use np.sum(np.fromiter(generator)) or the python sum builtin instead.\n",
            "  score += np.sum(cnt * logsumexp(Elogthetad + Elogbeta[:, int(id)]) for id, cnt in doc)\n",
            "/usr/local/lib/python3.7/dist-packages/gensim/models/ldamodel.py:1077: DeprecationWarning: Calling np.sum(generator) is deprecated, and in the future will give a different result. Use np.sum(np.fromiter(generator)) or the python sum builtin instead.\n",
            "  score += np.sum(cnt * logsumexp(Elogthetad + Elogbeta[:, int(id)]) for id, cnt in doc)\n",
            "/usr/local/lib/python3.7/dist-packages/gensim/models/ldamodel.py:1077: DeprecationWarning: Calling np.sum(generator) is deprecated, and in the future will give a different result. Use np.sum(np.fromiter(generator)) or the python sum builtin instead.\n",
            "  score += np.sum(cnt * logsumexp(Elogthetad + Elogbeta[:, int(id)]) for id, cnt in doc)\n",
            "/usr/local/lib/python3.7/dist-packages/gensim/models/ldamodel.py:1077: DeprecationWarning: Calling np.sum(generator) is deprecated, and in the future will give a different result. Use np.sum(np.fromiter(generator)) or the python sum builtin instead.\n",
            "  score += np.sum(cnt * logsumexp(Elogthetad + Elogbeta[:, int(id)]) for id, cnt in doc)\n",
            "/usr/local/lib/python3.7/dist-packages/gensim/models/ldamodel.py:1077: DeprecationWarning: Calling np.sum(generator) is deprecated, and in the future will give a different result. Use np.sum(np.fromiter(generator)) or the python sum builtin instead.\n",
            "  score += np.sum(cnt * logsumexp(Elogthetad + Elogbeta[:, int(id)]) for id, cnt in doc)\n",
            "/usr/local/lib/python3.7/dist-packages/gensim/models/ldamodel.py:1077: DeprecationWarning: Calling np.sum(generator) is deprecated, and in the future will give a different result. Use np.sum(np.fromiter(generator)) or the python sum builtin instead.\n",
            "  score += np.sum(cnt * logsumexp(Elogthetad + Elogbeta[:, int(id)]) for id, cnt in doc)\n",
            "/usr/local/lib/python3.7/dist-packages/gensim/models/ldamodel.py:1077: DeprecationWarning: Calling np.sum(generator) is deprecated, and in the future will give a different result. Use np.sum(np.fromiter(generator)) or the python sum builtin instead.\n",
            "  score += np.sum(cnt * logsumexp(Elogthetad + Elogbeta[:, int(id)]) for id, cnt in doc)\n",
            "/usr/local/lib/python3.7/dist-packages/gensim/models/ldamodel.py:1077: DeprecationWarning: Calling np.sum(generator) is deprecated, and in the future will give a different result. Use np.sum(np.fromiter(generator)) or the python sum builtin instead.\n",
            "  score += np.sum(cnt * logsumexp(Elogthetad + Elogbeta[:, int(id)]) for id, cnt in doc)\n",
            "/usr/local/lib/python3.7/dist-packages/gensim/models/ldamodel.py:1077: DeprecationWarning: Calling np.sum(generator) is deprecated, and in the future will give a different result. Use np.sum(np.fromiter(generator)) or the python sum builtin instead.\n",
            "  score += np.sum(cnt * logsumexp(Elogthetad + Elogbeta[:, int(id)]) for id, cnt in doc)\n",
            "/usr/local/lib/python3.7/dist-packages/gensim/models/ldamodel.py:1077: DeprecationWarning: Calling np.sum(generator) is deprecated, and in the future will give a different result. Use np.sum(np.fromiter(generator)) or the python sum builtin instead.\n",
            "  score += np.sum(cnt * logsumexp(Elogthetad + Elogbeta[:, int(id)]) for id, cnt in doc)\n",
            "/usr/local/lib/python3.7/dist-packages/gensim/models/ldamodel.py:1077: DeprecationWarning: Calling np.sum(generator) is deprecated, and in the future will give a different result. Use np.sum(np.fromiter(generator)) or the python sum builtin instead.\n",
            "  score += np.sum(cnt * logsumexp(Elogthetad + Elogbeta[:, int(id)]) for id, cnt in doc)\n",
            "/usr/local/lib/python3.7/dist-packages/gensim/models/ldamodel.py:1077: DeprecationWarning: Calling np.sum(generator) is deprecated, and in the future will give a different result. Use np.sum(np.fromiter(generator)) or the python sum builtin instead.\n",
            "  score += np.sum(cnt * logsumexp(Elogthetad + Elogbeta[:, int(id)]) for id, cnt in doc)\n",
            "/usr/local/lib/python3.7/dist-packages/gensim/models/ldamodel.py:1077: DeprecationWarning: Calling np.sum(generator) is deprecated, and in the future will give a different result. Use np.sum(np.fromiter(generator)) or the python sum builtin instead.\n",
            "  score += np.sum(cnt * logsumexp(Elogthetad + Elogbeta[:, int(id)]) for id, cnt in doc)\n",
            "/usr/local/lib/python3.7/dist-packages/gensim/models/ldamodel.py:1077: DeprecationWarning: Calling np.sum(generator) is deprecated, and in the future will give a different result. Use np.sum(np.fromiter(generator)) or the python sum builtin instead.\n",
            "  score += np.sum(cnt * logsumexp(Elogthetad + Elogbeta[:, int(id)]) for id, cnt in doc)\n",
            "/usr/local/lib/python3.7/dist-packages/gensim/models/ldamodel.py:1077: DeprecationWarning: Calling np.sum(generator) is deprecated, and in the future will give a different result. Use np.sum(np.fromiter(generator)) or the python sum builtin instead.\n",
            "  score += np.sum(cnt * logsumexp(Elogthetad + Elogbeta[:, int(id)]) for id, cnt in doc)\n",
            "/usr/local/lib/python3.7/dist-packages/gensim/models/ldamodel.py:1077: DeprecationWarning: Calling np.sum(generator) is deprecated, and in the future will give a different result. Use np.sum(np.fromiter(generator)) or the python sum builtin instead.\n",
            "  score += np.sum(cnt * logsumexp(Elogthetad + Elogbeta[:, int(id)]) for id, cnt in doc)\n",
            "/usr/local/lib/python3.7/dist-packages/gensim/models/ldamodel.py:1077: DeprecationWarning: Calling np.sum(generator) is deprecated, and in the future will give a different result. Use np.sum(np.fromiter(generator)) or the python sum builtin instead.\n",
            "  score += np.sum(cnt * logsumexp(Elogthetad + Elogbeta[:, int(id)]) for id, cnt in doc)\n",
            "/usr/local/lib/python3.7/dist-packages/gensim/models/ldamodel.py:1077: DeprecationWarning: Calling np.sum(generator) is deprecated, and in the future will give a different result. Use np.sum(np.fromiter(generator)) or the python sum builtin instead.\n",
            "  score += np.sum(cnt * logsumexp(Elogthetad + Elogbeta[:, int(id)]) for id, cnt in doc)\n",
            "/usr/local/lib/python3.7/dist-packages/gensim/models/ldamodel.py:1077: DeprecationWarning: Calling np.sum(generator) is deprecated, and in the future will give a different result. Use np.sum(np.fromiter(generator)) or the python sum builtin instead.\n",
            "  score += np.sum(cnt * logsumexp(Elogthetad + Elogbeta[:, int(id)]) for id, cnt in doc)\n",
            "/usr/local/lib/python3.7/dist-packages/gensim/models/ldamodel.py:1077: DeprecationWarning: Calling np.sum(generator) is deprecated, and in the future will give a different result. Use np.sum(np.fromiter(generator)) or the python sum builtin instead.\n",
            "  score += np.sum(cnt * logsumexp(Elogthetad + Elogbeta[:, int(id)]) for id, cnt in doc)\n",
            "/usr/local/lib/python3.7/dist-packages/gensim/models/ldamodel.py:1077: DeprecationWarning: Calling np.sum(generator) is deprecated, and in the future will give a different result. Use np.sum(np.fromiter(generator)) or the python sum builtin instead.\n",
            "  score += np.sum(cnt * logsumexp(Elogthetad + Elogbeta[:, int(id)]) for id, cnt in doc)\n",
            "/usr/local/lib/python3.7/dist-packages/gensim/models/ldamodel.py:1077: DeprecationWarning: Calling np.sum(generator) is deprecated, and in the future will give a different result. Use np.sum(np.fromiter(generator)) or the python sum builtin instead.\n",
            "  score += np.sum(cnt * logsumexp(Elogthetad + Elogbeta[:, int(id)]) for id, cnt in doc)\n",
            "/usr/local/lib/python3.7/dist-packages/gensim/models/ldamodel.py:1077: DeprecationWarning: Calling np.sum(generator) is deprecated, and in the future will give a different result. Use np.sum(np.fromiter(generator)) or the python sum builtin instead.\n",
            "  score += np.sum(cnt * logsumexp(Elogthetad + Elogbeta[:, int(id)]) for id, cnt in doc)\n",
            "/usr/local/lib/python3.7/dist-packages/gensim/models/ldamodel.py:1077: DeprecationWarning: Calling np.sum(generator) is deprecated, and in the future will give a different result. Use np.sum(np.fromiter(generator)) or the python sum builtin instead.\n",
            "  score += np.sum(cnt * logsumexp(Elogthetad + Elogbeta[:, int(id)]) for id, cnt in doc)\n",
            "/usr/local/lib/python3.7/dist-packages/gensim/models/ldamodel.py:1077: DeprecationWarning: Calling np.sum(generator) is deprecated, and in the future will give a different result. Use np.sum(np.fromiter(generator)) or the python sum builtin instead.\n",
            "  score += np.sum(cnt * logsumexp(Elogthetad + Elogbeta[:, int(id)]) for id, cnt in doc)\n",
            "/usr/local/lib/python3.7/dist-packages/gensim/models/ldamodel.py:1077: DeprecationWarning: Calling np.sum(generator) is deprecated, and in the future will give a different result. Use np.sum(np.fromiter(generator)) or the python sum builtin instead.\n",
            "  score += np.sum(cnt * logsumexp(Elogthetad + Elogbeta[:, int(id)]) for id, cnt in doc)\n",
            "/usr/local/lib/python3.7/dist-packages/gensim/models/ldamodel.py:1077: DeprecationWarning: Calling np.sum(generator) is deprecated, and in the future will give a different result. Use np.sum(np.fromiter(generator)) or the python sum builtin instead.\n",
            "  score += np.sum(cnt * logsumexp(Elogthetad + Elogbeta[:, int(id)]) for id, cnt in doc)\n",
            "/usr/local/lib/python3.7/dist-packages/gensim/models/ldamodel.py:1077: DeprecationWarning: Calling np.sum(generator) is deprecated, and in the future will give a different result. Use np.sum(np.fromiter(generator)) or the python sum builtin instead.\n",
            "  score += np.sum(cnt * logsumexp(Elogthetad + Elogbeta[:, int(id)]) for id, cnt in doc)\n",
            "/usr/local/lib/python3.7/dist-packages/gensim/models/ldamodel.py:1077: DeprecationWarning: Calling np.sum(generator) is deprecated, and in the future will give a different result. Use np.sum(np.fromiter(generator)) or the python sum builtin instead.\n",
            "  score += np.sum(cnt * logsumexp(Elogthetad + Elogbeta[:, int(id)]) for id, cnt in doc)\n",
            "/usr/local/lib/python3.7/dist-packages/gensim/models/ldamodel.py:1077: DeprecationWarning: Calling np.sum(generator) is deprecated, and in the future will give a different result. Use np.sum(np.fromiter(generator)) or the python sum builtin instead.\n",
            "  score += np.sum(cnt * logsumexp(Elogthetad + Elogbeta[:, int(id)]) for id, cnt in doc)\n",
            "/usr/local/lib/python3.7/dist-packages/gensim/models/ldamodel.py:1077: DeprecationWarning: Calling np.sum(generator) is deprecated, and in the future will give a different result. Use np.sum(np.fromiter(generator)) or the python sum builtin instead.\n",
            "  score += np.sum(cnt * logsumexp(Elogthetad + Elogbeta[:, int(id)]) for id, cnt in doc)\n",
            "/usr/local/lib/python3.7/dist-packages/gensim/models/ldamodel.py:1077: DeprecationWarning: Calling np.sum(generator) is deprecated, and in the future will give a different result. Use np.sum(np.fromiter(generator)) or the python sum builtin instead.\n",
            "  score += np.sum(cnt * logsumexp(Elogthetad + Elogbeta[:, int(id)]) for id, cnt in doc)\n",
            "/usr/local/lib/python3.7/dist-packages/gensim/models/ldamodel.py:1077: DeprecationWarning: Calling np.sum(generator) is deprecated, and in the future will give a different result. Use np.sum(np.fromiter(generator)) or the python sum builtin instead.\n",
            "  score += np.sum(cnt * logsumexp(Elogthetad + Elogbeta[:, int(id)]) for id, cnt in doc)\n",
            "/usr/local/lib/python3.7/dist-packages/gensim/models/ldamodel.py:1077: DeprecationWarning: Calling np.sum(generator) is deprecated, and in the future will give a different result. Use np.sum(np.fromiter(generator)) or the python sum builtin instead.\n",
            "  score += np.sum(cnt * logsumexp(Elogthetad + Elogbeta[:, int(id)]) for id, cnt in doc)\n",
            "/usr/local/lib/python3.7/dist-packages/gensim/models/ldamodel.py:1077: DeprecationWarning: Calling np.sum(generator) is deprecated, and in the future will give a different result. Use np.sum(np.fromiter(generator)) or the python sum builtin instead.\n",
            "  score += np.sum(cnt * logsumexp(Elogthetad + Elogbeta[:, int(id)]) for id, cnt in doc)\n",
            "/usr/local/lib/python3.7/dist-packages/gensim/models/ldamodel.py:1077: DeprecationWarning: Calling np.sum(generator) is deprecated, and in the future will give a different result. Use np.sum(np.fromiter(generator)) or the python sum builtin instead.\n",
            "  score += np.sum(cnt * logsumexp(Elogthetad + Elogbeta[:, int(id)]) for id, cnt in doc)\n",
            "/usr/local/lib/python3.7/dist-packages/gensim/models/ldamodel.py:1077: DeprecationWarning: Calling np.sum(generator) is deprecated, and in the future will give a different result. Use np.sum(np.fromiter(generator)) or the python sum builtin instead.\n",
            "  score += np.sum(cnt * logsumexp(Elogthetad + Elogbeta[:, int(id)]) for id, cnt in doc)\n",
            "/usr/local/lib/python3.7/dist-packages/gensim/models/ldamodel.py:1077: DeprecationWarning: Calling np.sum(generator) is deprecated, and in the future will give a different result. Use np.sum(np.fromiter(generator)) or the python sum builtin instead.\n",
            "  score += np.sum(cnt * logsumexp(Elogthetad + Elogbeta[:, int(id)]) for id, cnt in doc)\n",
            "/usr/local/lib/python3.7/dist-packages/gensim/models/ldamodel.py:1077: DeprecationWarning: Calling np.sum(generator) is deprecated, and in the future will give a different result. Use np.sum(np.fromiter(generator)) or the python sum builtin instead.\n",
            "  score += np.sum(cnt * logsumexp(Elogthetad + Elogbeta[:, int(id)]) for id, cnt in doc)\n",
            "/usr/local/lib/python3.7/dist-packages/gensim/models/ldamodel.py:1077: DeprecationWarning: Calling np.sum(generator) is deprecated, and in the future will give a different result. Use np.sum(np.fromiter(generator)) or the python sum builtin instead.\n",
            "  score += np.sum(cnt * logsumexp(Elogthetad + Elogbeta[:, int(id)]) for id, cnt in doc)\n",
            "/usr/local/lib/python3.7/dist-packages/gensim/models/ldamodel.py:1077: DeprecationWarning: Calling np.sum(generator) is deprecated, and in the future will give a different result. Use np.sum(np.fromiter(generator)) or the python sum builtin instead.\n",
            "  score += np.sum(cnt * logsumexp(Elogthetad + Elogbeta[:, int(id)]) for id, cnt in doc)\n",
            "/usr/local/lib/python3.7/dist-packages/gensim/models/ldamodel.py:1077: DeprecationWarning: Calling np.sum(generator) is deprecated, and in the future will give a different result. Use np.sum(np.fromiter(generator)) or the python sum builtin instead.\n",
            "  score += np.sum(cnt * logsumexp(Elogthetad + Elogbeta[:, int(id)]) for id, cnt in doc)\n",
            "/usr/local/lib/python3.7/dist-packages/gensim/models/ldamodel.py:1077: DeprecationWarning: Calling np.sum(generator) is deprecated, and in the future will give a different result. Use np.sum(np.fromiter(generator)) or the python sum builtin instead.\n",
            "  score += np.sum(cnt * logsumexp(Elogthetad + Elogbeta[:, int(id)]) for id, cnt in doc)\n",
            "/usr/local/lib/python3.7/dist-packages/gensim/models/ldamodel.py:1077: DeprecationWarning: Calling np.sum(generator) is deprecated, and in the future will give a different result. Use np.sum(np.fromiter(generator)) or the python sum builtin instead.\n",
            "  score += np.sum(cnt * logsumexp(Elogthetad + Elogbeta[:, int(id)]) for id, cnt in doc)\n",
            "/usr/local/lib/python3.7/dist-packages/gensim/models/ldamodel.py:1077: DeprecationWarning: Calling np.sum(generator) is deprecated, and in the future will give a different result. Use np.sum(np.fromiter(generator)) or the python sum builtin instead.\n",
            "  score += np.sum(cnt * logsumexp(Elogthetad + Elogbeta[:, int(id)]) for id, cnt in doc)\n",
            "/usr/local/lib/python3.7/dist-packages/gensim/models/ldamodel.py:1077: DeprecationWarning: Calling np.sum(generator) is deprecated, and in the future will give a different result. Use np.sum(np.fromiter(generator)) or the python sum builtin instead.\n",
            "  score += np.sum(cnt * logsumexp(Elogthetad + Elogbeta[:, int(id)]) for id, cnt in doc)\n",
            "/usr/local/lib/python3.7/dist-packages/gensim/models/ldamodel.py:1077: DeprecationWarning: Calling np.sum(generator) is deprecated, and in the future will give a different result. Use np.sum(np.fromiter(generator)) or the python sum builtin instead.\n",
            "  score += np.sum(cnt * logsumexp(Elogthetad + Elogbeta[:, int(id)]) for id, cnt in doc)\n",
            "/usr/local/lib/python3.7/dist-packages/gensim/models/ldamodel.py:1077: DeprecationWarning: Calling np.sum(generator) is deprecated, and in the future will give a different result. Use np.sum(np.fromiter(generator)) or the python sum builtin instead.\n",
            "  score += np.sum(cnt * logsumexp(Elogthetad + Elogbeta[:, int(id)]) for id, cnt in doc)\n",
            "/usr/local/lib/python3.7/dist-packages/gensim/models/ldamodel.py:1077: DeprecationWarning: Calling np.sum(generator) is deprecated, and in the future will give a different result. Use np.sum(np.fromiter(generator)) or the python sum builtin instead.\n",
            "  score += np.sum(cnt * logsumexp(Elogthetad + Elogbeta[:, int(id)]) for id, cnt in doc)\n",
            "/usr/local/lib/python3.7/dist-packages/gensim/models/ldamodel.py:1077: DeprecationWarning: Calling np.sum(generator) is deprecated, and in the future will give a different result. Use np.sum(np.fromiter(generator)) or the python sum builtin instead.\n",
            "  score += np.sum(cnt * logsumexp(Elogthetad + Elogbeta[:, int(id)]) for id, cnt in doc)\n",
            "/usr/local/lib/python3.7/dist-packages/gensim/models/ldamodel.py:1077: DeprecationWarning: Calling np.sum(generator) is deprecated, and in the future will give a different result. Use np.sum(np.fromiter(generator)) or the python sum builtin instead.\n",
            "  score += np.sum(cnt * logsumexp(Elogthetad + Elogbeta[:, int(id)]) for id, cnt in doc)\n",
            "/usr/local/lib/python3.7/dist-packages/gensim/models/ldamodel.py:1077: DeprecationWarning: Calling np.sum(generator) is deprecated, and in the future will give a different result. Use np.sum(np.fromiter(generator)) or the python sum builtin instead.\n",
            "  score += np.sum(cnt * logsumexp(Elogthetad + Elogbeta[:, int(id)]) for id, cnt in doc)\n",
            "/usr/local/lib/python3.7/dist-packages/gensim/models/ldamodel.py:1077: DeprecationWarning: Calling np.sum(generator) is deprecated, and in the future will give a different result. Use np.sum(np.fromiter(generator)) or the python sum builtin instead.\n",
            "  score += np.sum(cnt * logsumexp(Elogthetad + Elogbeta[:, int(id)]) for id, cnt in doc)\n",
            "/usr/local/lib/python3.7/dist-packages/gensim/models/ldamodel.py:1077: DeprecationWarning: Calling np.sum(generator) is deprecated, and in the future will give a different result. Use np.sum(np.fromiter(generator)) or the python sum builtin instead.\n",
            "  score += np.sum(cnt * logsumexp(Elogthetad + Elogbeta[:, int(id)]) for id, cnt in doc)\n",
            "/usr/local/lib/python3.7/dist-packages/gensim/models/ldamodel.py:1077: DeprecationWarning: Calling np.sum(generator) is deprecated, and in the future will give a different result. Use np.sum(np.fromiter(generator)) or the python sum builtin instead.\n",
            "  score += np.sum(cnt * logsumexp(Elogthetad + Elogbeta[:, int(id)]) for id, cnt in doc)\n",
            "/usr/local/lib/python3.7/dist-packages/gensim/models/ldamodel.py:1077: DeprecationWarning: Calling np.sum(generator) is deprecated, and in the future will give a different result. Use np.sum(np.fromiter(generator)) or the python sum builtin instead.\n",
            "  score += np.sum(cnt * logsumexp(Elogthetad + Elogbeta[:, int(id)]) for id, cnt in doc)\n",
            "/usr/local/lib/python3.7/dist-packages/gensim/models/ldamodel.py:1077: DeprecationWarning: Calling np.sum(generator) is deprecated, and in the future will give a different result. Use np.sum(np.fromiter(generator)) or the python sum builtin instead.\n",
            "  score += np.sum(cnt * logsumexp(Elogthetad + Elogbeta[:, int(id)]) for id, cnt in doc)\n",
            "/usr/local/lib/python3.7/dist-packages/gensim/models/ldamodel.py:1077: DeprecationWarning: Calling np.sum(generator) is deprecated, and in the future will give a different result. Use np.sum(np.fromiter(generator)) or the python sum builtin instead.\n",
            "  score += np.sum(cnt * logsumexp(Elogthetad + Elogbeta[:, int(id)]) for id, cnt in doc)\n",
            "/usr/local/lib/python3.7/dist-packages/gensim/models/ldamodel.py:1077: DeprecationWarning: Calling np.sum(generator) is deprecated, and in the future will give a different result. Use np.sum(np.fromiter(generator)) or the python sum builtin instead.\n",
            "  score += np.sum(cnt * logsumexp(Elogthetad + Elogbeta[:, int(id)]) for id, cnt in doc)\n",
            "/usr/local/lib/python3.7/dist-packages/gensim/models/ldamodel.py:1077: DeprecationWarning: Calling np.sum(generator) is deprecated, and in the future will give a different result. Use np.sum(np.fromiter(generator)) or the python sum builtin instead.\n",
            "  score += np.sum(cnt * logsumexp(Elogthetad + Elogbeta[:, int(id)]) for id, cnt in doc)\n",
            "/usr/local/lib/python3.7/dist-packages/gensim/models/ldamodel.py:1077: DeprecationWarning: Calling np.sum(generator) is deprecated, and in the future will give a different result. Use np.sum(np.fromiter(generator)) or the python sum builtin instead.\n",
            "  score += np.sum(cnt * logsumexp(Elogthetad + Elogbeta[:, int(id)]) for id, cnt in doc)\n",
            "/usr/local/lib/python3.7/dist-packages/gensim/models/ldamodel.py:1077: DeprecationWarning: Calling np.sum(generator) is deprecated, and in the future will give a different result. Use np.sum(np.fromiter(generator)) or the python sum builtin instead.\n",
            "  score += np.sum(cnt * logsumexp(Elogthetad + Elogbeta[:, int(id)]) for id, cnt in doc)\n",
            "/usr/local/lib/python3.7/dist-packages/gensim/models/ldamodel.py:1077: DeprecationWarning: Calling np.sum(generator) is deprecated, and in the future will give a different result. Use np.sum(np.fromiter(generator)) or the python sum builtin instead.\n",
            "  score += np.sum(cnt * logsumexp(Elogthetad + Elogbeta[:, int(id)]) for id, cnt in doc)\n",
            "/usr/local/lib/python3.7/dist-packages/gensim/models/ldamodel.py:1077: DeprecationWarning: Calling np.sum(generator) is deprecated, and in the future will give a different result. Use np.sum(np.fromiter(generator)) or the python sum builtin instead.\n",
            "  score += np.sum(cnt * logsumexp(Elogthetad + Elogbeta[:, int(id)]) for id, cnt in doc)\n",
            "/usr/local/lib/python3.7/dist-packages/gensim/models/ldamodel.py:1077: DeprecationWarning: Calling np.sum(generator) is deprecated, and in the future will give a different result. Use np.sum(np.fromiter(generator)) or the python sum builtin instead.\n",
            "  score += np.sum(cnt * logsumexp(Elogthetad + Elogbeta[:, int(id)]) for id, cnt in doc)\n",
            "/usr/local/lib/python3.7/dist-packages/gensim/models/ldamodel.py:1077: DeprecationWarning: Calling np.sum(generator) is deprecated, and in the future will give a different result. Use np.sum(np.fromiter(generator)) or the python sum builtin instead.\n",
            "  score += np.sum(cnt * logsumexp(Elogthetad + Elogbeta[:, int(id)]) for id, cnt in doc)\n",
            "/usr/local/lib/python3.7/dist-packages/gensim/models/ldamodel.py:1077: DeprecationWarning: Calling np.sum(generator) is deprecated, and in the future will give a different result. Use np.sum(np.fromiter(generator)) or the python sum builtin instead.\n",
            "  score += np.sum(cnt * logsumexp(Elogthetad + Elogbeta[:, int(id)]) for id, cnt in doc)\n",
            "/usr/local/lib/python3.7/dist-packages/gensim/models/ldamodel.py:1077: DeprecationWarning: Calling np.sum(generator) is deprecated, and in the future will give a different result. Use np.sum(np.fromiter(generator)) or the python sum builtin instead.\n",
            "  score += np.sum(cnt * logsumexp(Elogthetad + Elogbeta[:, int(id)]) for id, cnt in doc)\n",
            "/usr/local/lib/python3.7/dist-packages/gensim/models/ldamodel.py:1077: DeprecationWarning: Calling np.sum(generator) is deprecated, and in the future will give a different result. Use np.sum(np.fromiter(generator)) or the python sum builtin instead.\n",
            "  score += np.sum(cnt * logsumexp(Elogthetad + Elogbeta[:, int(id)]) for id, cnt in doc)\n",
            "/usr/local/lib/python3.7/dist-packages/gensim/models/ldamodel.py:1077: DeprecationWarning: Calling np.sum(generator) is deprecated, and in the future will give a different result. Use np.sum(np.fromiter(generator)) or the python sum builtin instead.\n",
            "  score += np.sum(cnt * logsumexp(Elogthetad + Elogbeta[:, int(id)]) for id, cnt in doc)\n",
            "/usr/local/lib/python3.7/dist-packages/gensim/models/ldamodel.py:1077: DeprecationWarning: Calling np.sum(generator) is deprecated, and in the future will give a different result. Use np.sum(np.fromiter(generator)) or the python sum builtin instead.\n",
            "  score += np.sum(cnt * logsumexp(Elogthetad + Elogbeta[:, int(id)]) for id, cnt in doc)\n",
            "/usr/local/lib/python3.7/dist-packages/gensim/models/ldamodel.py:1077: DeprecationWarning: Calling np.sum(generator) is deprecated, and in the future will give a different result. Use np.sum(np.fromiter(generator)) or the python sum builtin instead.\n",
            "  score += np.sum(cnt * logsumexp(Elogthetad + Elogbeta[:, int(id)]) for id, cnt in doc)\n",
            "/usr/local/lib/python3.7/dist-packages/gensim/models/ldamodel.py:1077: DeprecationWarning: Calling np.sum(generator) is deprecated, and in the future will give a different result. Use np.sum(np.fromiter(generator)) or the python sum builtin instead.\n",
            "  score += np.sum(cnt * logsumexp(Elogthetad + Elogbeta[:, int(id)]) for id, cnt in doc)\n",
            "/usr/local/lib/python3.7/dist-packages/gensim/models/ldamodel.py:1077: DeprecationWarning: Calling np.sum(generator) is deprecated, and in the future will give a different result. Use np.sum(np.fromiter(generator)) or the python sum builtin instead.\n",
            "  score += np.sum(cnt * logsumexp(Elogthetad + Elogbeta[:, int(id)]) for id, cnt in doc)\n",
            "/usr/local/lib/python3.7/dist-packages/gensim/models/ldamodel.py:1077: DeprecationWarning: Calling np.sum(generator) is deprecated, and in the future will give a different result. Use np.sum(np.fromiter(generator)) or the python sum builtin instead.\n",
            "  score += np.sum(cnt * logsumexp(Elogthetad + Elogbeta[:, int(id)]) for id, cnt in doc)\n",
            "/usr/local/lib/python3.7/dist-packages/gensim/models/ldamodel.py:1077: DeprecationWarning: Calling np.sum(generator) is deprecated, and in the future will give a different result. Use np.sum(np.fromiter(generator)) or the python sum builtin instead.\n",
            "  score += np.sum(cnt * logsumexp(Elogthetad + Elogbeta[:, int(id)]) for id, cnt in doc)\n",
            "/usr/local/lib/python3.7/dist-packages/gensim/models/ldamodel.py:1077: DeprecationWarning: Calling np.sum(generator) is deprecated, and in the future will give a different result. Use np.sum(np.fromiter(generator)) or the python sum builtin instead.\n",
            "  score += np.sum(cnt * logsumexp(Elogthetad + Elogbeta[:, int(id)]) for id, cnt in doc)\n",
            "/usr/local/lib/python3.7/dist-packages/gensim/models/ldamodel.py:1077: DeprecationWarning: Calling np.sum(generator) is deprecated, and in the future will give a different result. Use np.sum(np.fromiter(generator)) or the python sum builtin instead.\n",
            "  score += np.sum(cnt * logsumexp(Elogthetad + Elogbeta[:, int(id)]) for id, cnt in doc)\n",
            "/usr/local/lib/python3.7/dist-packages/gensim/models/ldamodel.py:1077: DeprecationWarning: Calling np.sum(generator) is deprecated, and in the future will give a different result. Use np.sum(np.fromiter(generator)) or the python sum builtin instead.\n",
            "  score += np.sum(cnt * logsumexp(Elogthetad + Elogbeta[:, int(id)]) for id, cnt in doc)\n",
            "/usr/local/lib/python3.7/dist-packages/gensim/models/ldamodel.py:1077: DeprecationWarning: Calling np.sum(generator) is deprecated, and in the future will give a different result. Use np.sum(np.fromiter(generator)) or the python sum builtin instead.\n",
            "  score += np.sum(cnt * logsumexp(Elogthetad + Elogbeta[:, int(id)]) for id, cnt in doc)\n",
            "/usr/local/lib/python3.7/dist-packages/gensim/models/ldamodel.py:1077: DeprecationWarning: Calling np.sum(generator) is deprecated, and in the future will give a different result. Use np.sum(np.fromiter(generator)) or the python sum builtin instead.\n",
            "  score += np.sum(cnt * logsumexp(Elogthetad + Elogbeta[:, int(id)]) for id, cnt in doc)\n",
            "/usr/local/lib/python3.7/dist-packages/gensim/models/ldamodel.py:1077: DeprecationWarning: Calling np.sum(generator) is deprecated, and in the future will give a different result. Use np.sum(np.fromiter(generator)) or the python sum builtin instead.\n",
            "  score += np.sum(cnt * logsumexp(Elogthetad + Elogbeta[:, int(id)]) for id, cnt in doc)\n",
            "/usr/local/lib/python3.7/dist-packages/gensim/models/ldamodel.py:1077: DeprecationWarning: Calling np.sum(generator) is deprecated, and in the future will give a different result. Use np.sum(np.fromiter(generator)) or the python sum builtin instead.\n",
            "  score += np.sum(cnt * logsumexp(Elogthetad + Elogbeta[:, int(id)]) for id, cnt in doc)\n",
            "/usr/local/lib/python3.7/dist-packages/gensim/models/ldamodel.py:1077: DeprecationWarning: Calling np.sum(generator) is deprecated, and in the future will give a different result. Use np.sum(np.fromiter(generator)) or the python sum builtin instead.\n",
            "  score += np.sum(cnt * logsumexp(Elogthetad + Elogbeta[:, int(id)]) for id, cnt in doc)\n",
            "/usr/local/lib/python3.7/dist-packages/gensim/models/ldamodel.py:1077: DeprecationWarning: Calling np.sum(generator) is deprecated, and in the future will give a different result. Use np.sum(np.fromiter(generator)) or the python sum builtin instead.\n",
            "  score += np.sum(cnt * logsumexp(Elogthetad + Elogbeta[:, int(id)]) for id, cnt in doc)\n",
            "/usr/local/lib/python3.7/dist-packages/gensim/models/ldamodel.py:1077: DeprecationWarning: Calling np.sum(generator) is deprecated, and in the future will give a different result. Use np.sum(np.fromiter(generator)) or the python sum builtin instead.\n",
            "  score += np.sum(cnt * logsumexp(Elogthetad + Elogbeta[:, int(id)]) for id, cnt in doc)\n",
            "/usr/local/lib/python3.7/dist-packages/gensim/models/ldamodel.py:1077: DeprecationWarning: Calling np.sum(generator) is deprecated, and in the future will give a different result. Use np.sum(np.fromiter(generator)) or the python sum builtin instead.\n",
            "  score += np.sum(cnt * logsumexp(Elogthetad + Elogbeta[:, int(id)]) for id, cnt in doc)\n",
            "/usr/local/lib/python3.7/dist-packages/gensim/models/ldamodel.py:1077: DeprecationWarning: Calling np.sum(generator) is deprecated, and in the future will give a different result. Use np.sum(np.fromiter(generator)) or the python sum builtin instead.\n",
            "  score += np.sum(cnt * logsumexp(Elogthetad + Elogbeta[:, int(id)]) for id, cnt in doc)\n",
            "/usr/local/lib/python3.7/dist-packages/gensim/models/ldamodel.py:1077: DeprecationWarning: Calling np.sum(generator) is deprecated, and in the future will give a different result. Use np.sum(np.fromiter(generator)) or the python sum builtin instead.\n",
            "  score += np.sum(cnt * logsumexp(Elogthetad + Elogbeta[:, int(id)]) for id, cnt in doc)\n",
            "/usr/local/lib/python3.7/dist-packages/gensim/models/ldamodel.py:1077: DeprecationWarning: Calling np.sum(generator) is deprecated, and in the future will give a different result. Use np.sum(np.fromiter(generator)) or the python sum builtin instead.\n",
            "  score += np.sum(cnt * logsumexp(Elogthetad + Elogbeta[:, int(id)]) for id, cnt in doc)\n",
            "/usr/local/lib/python3.7/dist-packages/gensim/models/ldamodel.py:1077: DeprecationWarning: Calling np.sum(generator) is deprecated, and in the future will give a different result. Use np.sum(np.fromiter(generator)) or the python sum builtin instead.\n",
            "  score += np.sum(cnt * logsumexp(Elogthetad + Elogbeta[:, int(id)]) for id, cnt in doc)\n",
            "/usr/local/lib/python3.7/dist-packages/gensim/models/ldamodel.py:1077: DeprecationWarning: Calling np.sum(generator) is deprecated, and in the future will give a different result. Use np.sum(np.fromiter(generator)) or the python sum builtin instead.\n",
            "  score += np.sum(cnt * logsumexp(Elogthetad + Elogbeta[:, int(id)]) for id, cnt in doc)\n",
            "/usr/local/lib/python3.7/dist-packages/gensim/models/ldamodel.py:1077: DeprecationWarning: Calling np.sum(generator) is deprecated, and in the future will give a different result. Use np.sum(np.fromiter(generator)) or the python sum builtin instead.\n",
            "  score += np.sum(cnt * logsumexp(Elogthetad + Elogbeta[:, int(id)]) for id, cnt in doc)\n",
            "/usr/local/lib/python3.7/dist-packages/gensim/models/ldamodel.py:1077: DeprecationWarning: Calling np.sum(generator) is deprecated, and in the future will give a different result. Use np.sum(np.fromiter(generator)) or the python sum builtin instead.\n",
            "  score += np.sum(cnt * logsumexp(Elogthetad + Elogbeta[:, int(id)]) for id, cnt in doc)\n",
            "/usr/local/lib/python3.7/dist-packages/gensim/models/ldamodel.py:1077: DeprecationWarning: Calling np.sum(generator) is deprecated, and in the future will give a different result. Use np.sum(np.fromiter(generator)) or the python sum builtin instead.\n",
            "  score += np.sum(cnt * logsumexp(Elogthetad + Elogbeta[:, int(id)]) for id, cnt in doc)\n",
            "/usr/local/lib/python3.7/dist-packages/gensim/models/ldamodel.py:1077: DeprecationWarning: Calling np.sum(generator) is deprecated, and in the future will give a different result. Use np.sum(np.fromiter(generator)) or the python sum builtin instead.\n",
            "  score += np.sum(cnt * logsumexp(Elogthetad + Elogbeta[:, int(id)]) for id, cnt in doc)\n",
            "/usr/local/lib/python3.7/dist-packages/gensim/models/ldamodel.py:1077: DeprecationWarning: Calling np.sum(generator) is deprecated, and in the future will give a different result. Use np.sum(np.fromiter(generator)) or the python sum builtin instead.\n",
            "  score += np.sum(cnt * logsumexp(Elogthetad + Elogbeta[:, int(id)]) for id, cnt in doc)\n",
            "/usr/local/lib/python3.7/dist-packages/gensim/models/ldamodel.py:1077: DeprecationWarning: Calling np.sum(generator) is deprecated, and in the future will give a different result. Use np.sum(np.fromiter(generator)) or the python sum builtin instead.\n",
            "  score += np.sum(cnt * logsumexp(Elogthetad + Elogbeta[:, int(id)]) for id, cnt in doc)\n",
            "/usr/local/lib/python3.7/dist-packages/gensim/models/ldamodel.py:1077: DeprecationWarning: Calling np.sum(generator) is deprecated, and in the future will give a different result. Use np.sum(np.fromiter(generator)) or the python sum builtin instead.\n",
            "  score += np.sum(cnt * logsumexp(Elogthetad + Elogbeta[:, int(id)]) for id, cnt in doc)\n",
            "/usr/local/lib/python3.7/dist-packages/gensim/models/ldamodel.py:1077: DeprecationWarning: Calling np.sum(generator) is deprecated, and in the future will give a different result. Use np.sum(np.fromiter(generator)) or the python sum builtin instead.\n",
            "  score += np.sum(cnt * logsumexp(Elogthetad + Elogbeta[:, int(id)]) for id, cnt in doc)\n",
            "/usr/local/lib/python3.7/dist-packages/gensim/models/ldamodel.py:1077: DeprecationWarning: Calling np.sum(generator) is deprecated, and in the future will give a different result. Use np.sum(np.fromiter(generator)) or the python sum builtin instead.\n",
            "  score += np.sum(cnt * logsumexp(Elogthetad + Elogbeta[:, int(id)]) for id, cnt in doc)\n",
            "/usr/local/lib/python3.7/dist-packages/gensim/models/ldamodel.py:1077: DeprecationWarning: Calling np.sum(generator) is deprecated, and in the future will give a different result. Use np.sum(np.fromiter(generator)) or the python sum builtin instead.\n",
            "  score += np.sum(cnt * logsumexp(Elogthetad + Elogbeta[:, int(id)]) for id, cnt in doc)\n",
            "/usr/local/lib/python3.7/dist-packages/gensim/models/ldamodel.py:1077: DeprecationWarning: Calling np.sum(generator) is deprecated, and in the future will give a different result. Use np.sum(np.fromiter(generator)) or the python sum builtin instead.\n",
            "  score += np.sum(cnt * logsumexp(Elogthetad + Elogbeta[:, int(id)]) for id, cnt in doc)\n",
            "/usr/local/lib/python3.7/dist-packages/gensim/models/ldamodel.py:1077: DeprecationWarning: Calling np.sum(generator) is deprecated, and in the future will give a different result. Use np.sum(np.fromiter(generator)) or the python sum builtin instead.\n",
            "  score += np.sum(cnt * logsumexp(Elogthetad + Elogbeta[:, int(id)]) for id, cnt in doc)\n",
            "/usr/local/lib/python3.7/dist-packages/gensim/models/ldamodel.py:1077: DeprecationWarning: Calling np.sum(generator) is deprecated, and in the future will give a different result. Use np.sum(np.fromiter(generator)) or the python sum builtin instead.\n",
            "  score += np.sum(cnt * logsumexp(Elogthetad + Elogbeta[:, int(id)]) for id, cnt in doc)\n",
            "/usr/local/lib/python3.7/dist-packages/gensim/models/ldamodel.py:1077: DeprecationWarning: Calling np.sum(generator) is deprecated, and in the future will give a different result. Use np.sum(np.fromiter(generator)) or the python sum builtin instead.\n",
            "  score += np.sum(cnt * logsumexp(Elogthetad + Elogbeta[:, int(id)]) for id, cnt in doc)\n",
            "/usr/local/lib/python3.7/dist-packages/gensim/models/ldamodel.py:1077: DeprecationWarning: Calling np.sum(generator) is deprecated, and in the future will give a different result. Use np.sum(np.fromiter(generator)) or the python sum builtin instead.\n",
            "  score += np.sum(cnt * logsumexp(Elogthetad + Elogbeta[:, int(id)]) for id, cnt in doc)\n",
            "/usr/local/lib/python3.7/dist-packages/gensim/models/ldamodel.py:1077: DeprecationWarning: Calling np.sum(generator) is deprecated, and in the future will give a different result. Use np.sum(np.fromiter(generator)) or the python sum builtin instead.\n",
            "  score += np.sum(cnt * logsumexp(Elogthetad + Elogbeta[:, int(id)]) for id, cnt in doc)\n",
            "/usr/local/lib/python3.7/dist-packages/gensim/models/ldamodel.py:1077: DeprecationWarning: Calling np.sum(generator) is deprecated, and in the future will give a different result. Use np.sum(np.fromiter(generator)) or the python sum builtin instead.\n",
            "  score += np.sum(cnt * logsumexp(Elogthetad + Elogbeta[:, int(id)]) for id, cnt in doc)\n",
            "/usr/local/lib/python3.7/dist-packages/gensim/models/ldamodel.py:1077: DeprecationWarning: Calling np.sum(generator) is deprecated, and in the future will give a different result. Use np.sum(np.fromiter(generator)) or the python sum builtin instead.\n",
            "  score += np.sum(cnt * logsumexp(Elogthetad + Elogbeta[:, int(id)]) for id, cnt in doc)\n",
            "/usr/local/lib/python3.7/dist-packages/gensim/models/ldamodel.py:1077: DeprecationWarning: Calling np.sum(generator) is deprecated, and in the future will give a different result. Use np.sum(np.fromiter(generator)) or the python sum builtin instead.\n",
            "  score += np.sum(cnt * logsumexp(Elogthetad + Elogbeta[:, int(id)]) for id, cnt in doc)\n",
            "/usr/local/lib/python3.7/dist-packages/gensim/models/ldamodel.py:1077: DeprecationWarning: Calling np.sum(generator) is deprecated, and in the future will give a different result. Use np.sum(np.fromiter(generator)) or the python sum builtin instead.\n",
            "  score += np.sum(cnt * logsumexp(Elogthetad + Elogbeta[:, int(id)]) for id, cnt in doc)\n",
            "/usr/local/lib/python3.7/dist-packages/gensim/models/ldamodel.py:1077: DeprecationWarning: Calling np.sum(generator) is deprecated, and in the future will give a different result. Use np.sum(np.fromiter(generator)) or the python sum builtin instead.\n",
            "  score += np.sum(cnt * logsumexp(Elogthetad + Elogbeta[:, int(id)]) for id, cnt in doc)\n",
            "/usr/local/lib/python3.7/dist-packages/gensim/models/ldamodel.py:1077: DeprecationWarning: Calling np.sum(generator) is deprecated, and in the future will give a different result. Use np.sum(np.fromiter(generator)) or the python sum builtin instead.\n",
            "  score += np.sum(cnt * logsumexp(Elogthetad + Elogbeta[:, int(id)]) for id, cnt in doc)\n",
            "/usr/local/lib/python3.7/dist-packages/gensim/models/ldamodel.py:1077: DeprecationWarning: Calling np.sum(generator) is deprecated, and in the future will give a different result. Use np.sum(np.fromiter(generator)) or the python sum builtin instead.\n",
            "  score += np.sum(cnt * logsumexp(Elogthetad + Elogbeta[:, int(id)]) for id, cnt in doc)\n",
            "/usr/local/lib/python3.7/dist-packages/gensim/models/ldamodel.py:1077: DeprecationWarning: Calling np.sum(generator) is deprecated, and in the future will give a different result. Use np.sum(np.fromiter(generator)) or the python sum builtin instead.\n",
            "  score += np.sum(cnt * logsumexp(Elogthetad + Elogbeta[:, int(id)]) for id, cnt in doc)\n",
            "/usr/local/lib/python3.7/dist-packages/gensim/models/ldamodel.py:1077: DeprecationWarning: Calling np.sum(generator) is deprecated, and in the future will give a different result. Use np.sum(np.fromiter(generator)) or the python sum builtin instead.\n",
            "  score += np.sum(cnt * logsumexp(Elogthetad + Elogbeta[:, int(id)]) for id, cnt in doc)\n",
            "/usr/local/lib/python3.7/dist-packages/gensim/models/ldamodel.py:1077: DeprecationWarning: Calling np.sum(generator) is deprecated, and in the future will give a different result. Use np.sum(np.fromiter(generator)) or the python sum builtin instead.\n",
            "  score += np.sum(cnt * logsumexp(Elogthetad + Elogbeta[:, int(id)]) for id, cnt in doc)\n",
            "/usr/local/lib/python3.7/dist-packages/gensim/models/ldamodel.py:1077: DeprecationWarning: Calling np.sum(generator) is deprecated, and in the future will give a different result. Use np.sum(np.fromiter(generator)) or the python sum builtin instead.\n",
            "  score += np.sum(cnt * logsumexp(Elogthetad + Elogbeta[:, int(id)]) for id, cnt in doc)\n",
            "/usr/local/lib/python3.7/dist-packages/gensim/models/ldamodel.py:1077: DeprecationWarning: Calling np.sum(generator) is deprecated, and in the future will give a different result. Use np.sum(np.fromiter(generator)) or the python sum builtin instead.\n",
            "  score += np.sum(cnt * logsumexp(Elogthetad + Elogbeta[:, int(id)]) for id, cnt in doc)\n",
            "/usr/local/lib/python3.7/dist-packages/gensim/models/ldamodel.py:1077: DeprecationWarning: Calling np.sum(generator) is deprecated, and in the future will give a different result. Use np.sum(np.fromiter(generator)) or the python sum builtin instead.\n",
            "  score += np.sum(cnt * logsumexp(Elogthetad + Elogbeta[:, int(id)]) for id, cnt in doc)\n",
            "/usr/local/lib/python3.7/dist-packages/gensim/models/ldamodel.py:1077: DeprecationWarning: Calling np.sum(generator) is deprecated, and in the future will give a different result. Use np.sum(np.fromiter(generator)) or the python sum builtin instead.\n",
            "  score += np.sum(cnt * logsumexp(Elogthetad + Elogbeta[:, int(id)]) for id, cnt in doc)\n",
            "/usr/local/lib/python3.7/dist-packages/gensim/models/ldamodel.py:1077: DeprecationWarning: Calling np.sum(generator) is deprecated, and in the future will give a different result. Use np.sum(np.fromiter(generator)) or the python sum builtin instead.\n",
            "  score += np.sum(cnt * logsumexp(Elogthetad + Elogbeta[:, int(id)]) for id, cnt in doc)\n",
            "/usr/local/lib/python3.7/dist-packages/gensim/models/ldamodel.py:1077: DeprecationWarning: Calling np.sum(generator) is deprecated, and in the future will give a different result. Use np.sum(np.fromiter(generator)) or the python sum builtin instead.\n",
            "  score += np.sum(cnt * logsumexp(Elogthetad + Elogbeta[:, int(id)]) for id, cnt in doc)\n",
            "/usr/local/lib/python3.7/dist-packages/gensim/models/ldamodel.py:1077: DeprecationWarning: Calling np.sum(generator) is deprecated, and in the future will give a different result. Use np.sum(np.fromiter(generator)) or the python sum builtin instead.\n",
            "  score += np.sum(cnt * logsumexp(Elogthetad + Elogbeta[:, int(id)]) for id, cnt in doc)\n",
            "/usr/local/lib/python3.7/dist-packages/gensim/models/ldamodel.py:1077: DeprecationWarning: Calling np.sum(generator) is deprecated, and in the future will give a different result. Use np.sum(np.fromiter(generator)) or the python sum builtin instead.\n",
            "  score += np.sum(cnt * logsumexp(Elogthetad + Elogbeta[:, int(id)]) for id, cnt in doc)\n",
            "/usr/local/lib/python3.7/dist-packages/gensim/models/ldamodel.py:1077: DeprecationWarning: Calling np.sum(generator) is deprecated, and in the future will give a different result. Use np.sum(np.fromiter(generator)) or the python sum builtin instead.\n",
            "  score += np.sum(cnt * logsumexp(Elogthetad + Elogbeta[:, int(id)]) for id, cnt in doc)\n",
            "/usr/local/lib/python3.7/dist-packages/gensim/models/ldamodel.py:1077: DeprecationWarning: Calling np.sum(generator) is deprecated, and in the future will give a different result. Use np.sum(np.fromiter(generator)) or the python sum builtin instead.\n",
            "  score += np.sum(cnt * logsumexp(Elogthetad + Elogbeta[:, int(id)]) for id, cnt in doc)\n",
            "/usr/local/lib/python3.7/dist-packages/gensim/models/ldamodel.py:1077: DeprecationWarning: Calling np.sum(generator) is deprecated, and in the future will give a different result. Use np.sum(np.fromiter(generator)) or the python sum builtin instead.\n",
            "  score += np.sum(cnt * logsumexp(Elogthetad + Elogbeta[:, int(id)]) for id, cnt in doc)\n",
            "/usr/local/lib/python3.7/dist-packages/gensim/models/ldamodel.py:1077: DeprecationWarning: Calling np.sum(generator) is deprecated, and in the future will give a different result. Use np.sum(np.fromiter(generator)) or the python sum builtin instead.\n",
            "  score += np.sum(cnt * logsumexp(Elogthetad + Elogbeta[:, int(id)]) for id, cnt in doc)\n",
            "/usr/local/lib/python3.7/dist-packages/gensim/models/ldamodel.py:1077: DeprecationWarning: Calling np.sum(generator) is deprecated, and in the future will give a different result. Use np.sum(np.fromiter(generator)) or the python sum builtin instead.\n",
            "  score += np.sum(cnt * logsumexp(Elogthetad + Elogbeta[:, int(id)]) for id, cnt in doc)\n",
            "/usr/local/lib/python3.7/dist-packages/gensim/models/ldamodel.py:1077: DeprecationWarning: Calling np.sum(generator) is deprecated, and in the future will give a different result. Use np.sum(np.fromiter(generator)) or the python sum builtin instead.\n",
            "  score += np.sum(cnt * logsumexp(Elogthetad + Elogbeta[:, int(id)]) for id, cnt in doc)\n",
            "/usr/local/lib/python3.7/dist-packages/gensim/models/ldamodel.py:1077: DeprecationWarning: Calling np.sum(generator) is deprecated, and in the future will give a different result. Use np.sum(np.fromiter(generator)) or the python sum builtin instead.\n",
            "  score += np.sum(cnt * logsumexp(Elogthetad + Elogbeta[:, int(id)]) for id, cnt in doc)\n",
            "/usr/local/lib/python3.7/dist-packages/gensim/models/ldamodel.py:1077: DeprecationWarning: Calling np.sum(generator) is deprecated, and in the future will give a different result. Use np.sum(np.fromiter(generator)) or the python sum builtin instead.\n",
            "  score += np.sum(cnt * logsumexp(Elogthetad + Elogbeta[:, int(id)]) for id, cnt in doc)\n",
            "/usr/local/lib/python3.7/dist-packages/gensim/models/ldamodel.py:1077: DeprecationWarning: Calling np.sum(generator) is deprecated, and in the future will give a different result. Use np.sum(np.fromiter(generator)) or the python sum builtin instead.\n",
            "  score += np.sum(cnt * logsumexp(Elogthetad + Elogbeta[:, int(id)]) for id, cnt in doc)\n",
            "/usr/local/lib/python3.7/dist-packages/gensim/models/ldamodel.py:1077: DeprecationWarning: Calling np.sum(generator) is deprecated, and in the future will give a different result. Use np.sum(np.fromiter(generator)) or the python sum builtin instead.\n",
            "  score += np.sum(cnt * logsumexp(Elogthetad + Elogbeta[:, int(id)]) for id, cnt in doc)\n",
            "/usr/local/lib/python3.7/dist-packages/gensim/models/ldamodel.py:1077: DeprecationWarning: Calling np.sum(generator) is deprecated, and in the future will give a different result. Use np.sum(np.fromiter(generator)) or the python sum builtin instead.\n",
            "  score += np.sum(cnt * logsumexp(Elogthetad + Elogbeta[:, int(id)]) for id, cnt in doc)\n",
            "/usr/local/lib/python3.7/dist-packages/gensim/models/ldamodel.py:1077: DeprecationWarning: Calling np.sum(generator) is deprecated, and in the future will give a different result. Use np.sum(np.fromiter(generator)) or the python sum builtin instead.\n",
            "  score += np.sum(cnt * logsumexp(Elogthetad + Elogbeta[:, int(id)]) for id, cnt in doc)\n",
            "/usr/local/lib/python3.7/dist-packages/gensim/models/ldamodel.py:1077: DeprecationWarning: Calling np.sum(generator) is deprecated, and in the future will give a different result. Use np.sum(np.fromiter(generator)) or the python sum builtin instead.\n",
            "  score += np.sum(cnt * logsumexp(Elogthetad + Elogbeta[:, int(id)]) for id, cnt in doc)\n",
            "/usr/local/lib/python3.7/dist-packages/gensim/models/ldamodel.py:1077: DeprecationWarning: Calling np.sum(generator) is deprecated, and in the future will give a different result. Use np.sum(np.fromiter(generator)) or the python sum builtin instead.\n",
            "  score += np.sum(cnt * logsumexp(Elogthetad + Elogbeta[:, int(id)]) for id, cnt in doc)\n",
            "/usr/local/lib/python3.7/dist-packages/gensim/models/ldamodel.py:1077: DeprecationWarning: Calling np.sum(generator) is deprecated, and in the future will give a different result. Use np.sum(np.fromiter(generator)) or the python sum builtin instead.\n",
            "  score += np.sum(cnt * logsumexp(Elogthetad + Elogbeta[:, int(id)]) for id, cnt in doc)\n",
            "/usr/local/lib/python3.7/dist-packages/gensim/models/ldamodel.py:1077: DeprecationWarning: Calling np.sum(generator) is deprecated, and in the future will give a different result. Use np.sum(np.fromiter(generator)) or the python sum builtin instead.\n",
            "  score += np.sum(cnt * logsumexp(Elogthetad + Elogbeta[:, int(id)]) for id, cnt in doc)\n",
            "/usr/local/lib/python3.7/dist-packages/gensim/models/ldamodel.py:1077: DeprecationWarning: Calling np.sum(generator) is deprecated, and in the future will give a different result. Use np.sum(np.fromiter(generator)) or the python sum builtin instead.\n",
            "  score += np.sum(cnt * logsumexp(Elogthetad + Elogbeta[:, int(id)]) for id, cnt in doc)\n",
            "/usr/local/lib/python3.7/dist-packages/gensim/models/ldamodel.py:1077: DeprecationWarning: Calling np.sum(generator) is deprecated, and in the future will give a different result. Use np.sum(np.fromiter(generator)) or the python sum builtin instead.\n",
            "  score += np.sum(cnt * logsumexp(Elogthetad + Elogbeta[:, int(id)]) for id, cnt in doc)\n",
            "/usr/local/lib/python3.7/dist-packages/gensim/models/ldamodel.py:1077: DeprecationWarning: Calling np.sum(generator) is deprecated, and in the future will give a different result. Use np.sum(np.fromiter(generator)) or the python sum builtin instead.\n",
            "  score += np.sum(cnt * logsumexp(Elogthetad + Elogbeta[:, int(id)]) for id, cnt in doc)\n",
            "/usr/local/lib/python3.7/dist-packages/gensim/models/ldamodel.py:1077: DeprecationWarning: Calling np.sum(generator) is deprecated, and in the future will give a different result. Use np.sum(np.fromiter(generator)) or the python sum builtin instead.\n",
            "  score += np.sum(cnt * logsumexp(Elogthetad + Elogbeta[:, int(id)]) for id, cnt in doc)\n",
            "/usr/local/lib/python3.7/dist-packages/gensim/models/ldamodel.py:1077: DeprecationWarning: Calling np.sum(generator) is deprecated, and in the future will give a different result. Use np.sum(np.fromiter(generator)) or the python sum builtin instead.\n",
            "  score += np.sum(cnt * logsumexp(Elogthetad + Elogbeta[:, int(id)]) for id, cnt in doc)\n",
            "/usr/local/lib/python3.7/dist-packages/gensim/models/ldamodel.py:1077: DeprecationWarning: Calling np.sum(generator) is deprecated, and in the future will give a different result. Use np.sum(np.fromiter(generator)) or the python sum builtin instead.\n",
            "  score += np.sum(cnt * logsumexp(Elogthetad + Elogbeta[:, int(id)]) for id, cnt in doc)\n",
            "/usr/local/lib/python3.7/dist-packages/gensim/models/ldamodel.py:1077: DeprecationWarning: Calling np.sum(generator) is deprecated, and in the future will give a different result. Use np.sum(np.fromiter(generator)) or the python sum builtin instead.\n",
            "  score += np.sum(cnt * logsumexp(Elogthetad + Elogbeta[:, int(id)]) for id, cnt in doc)\n",
            "/usr/local/lib/python3.7/dist-packages/gensim/models/ldamodel.py:1077: DeprecationWarning: Calling np.sum(generator) is deprecated, and in the future will give a different result. Use np.sum(np.fromiter(generator)) or the python sum builtin instead.\n",
            "  score += np.sum(cnt * logsumexp(Elogthetad + Elogbeta[:, int(id)]) for id, cnt in doc)\n",
            "/usr/local/lib/python3.7/dist-packages/gensim/models/ldamodel.py:1077: DeprecationWarning: Calling np.sum(generator) is deprecated, and in the future will give a different result. Use np.sum(np.fromiter(generator)) or the python sum builtin instead.\n",
            "  score += np.sum(cnt * logsumexp(Elogthetad + Elogbeta[:, int(id)]) for id, cnt in doc)\n",
            "/usr/local/lib/python3.7/dist-packages/gensim/models/ldamodel.py:1077: DeprecationWarning: Calling np.sum(generator) is deprecated, and in the future will give a different result. Use np.sum(np.fromiter(generator)) or the python sum builtin instead.\n",
            "  score += np.sum(cnt * logsumexp(Elogthetad + Elogbeta[:, int(id)]) for id, cnt in doc)\n",
            "/usr/local/lib/python3.7/dist-packages/gensim/models/ldamodel.py:1077: DeprecationWarning: Calling np.sum(generator) is deprecated, and in the future will give a different result. Use np.sum(np.fromiter(generator)) or the python sum builtin instead.\n",
            "  score += np.sum(cnt * logsumexp(Elogthetad + Elogbeta[:, int(id)]) for id, cnt in doc)\n",
            "/usr/local/lib/python3.7/dist-packages/gensim/models/ldamodel.py:1077: DeprecationWarning: Calling np.sum(generator) is deprecated, and in the future will give a different result. Use np.sum(np.fromiter(generator)) or the python sum builtin instead.\n",
            "  score += np.sum(cnt * logsumexp(Elogthetad + Elogbeta[:, int(id)]) for id, cnt in doc)\n",
            "/usr/local/lib/python3.7/dist-packages/gensim/models/ldamodel.py:1077: DeprecationWarning: Calling np.sum(generator) is deprecated, and in the future will give a different result. Use np.sum(np.fromiter(generator)) or the python sum builtin instead.\n",
            "  score += np.sum(cnt * logsumexp(Elogthetad + Elogbeta[:, int(id)]) for id, cnt in doc)\n",
            "/usr/local/lib/python3.7/dist-packages/gensim/models/ldamodel.py:1077: DeprecationWarning: Calling np.sum(generator) is deprecated, and in the future will give a different result. Use np.sum(np.fromiter(generator)) or the python sum builtin instead.\n",
            "  score += np.sum(cnt * logsumexp(Elogthetad + Elogbeta[:, int(id)]) for id, cnt in doc)\n",
            "/usr/local/lib/python3.7/dist-packages/gensim/models/ldamodel.py:1077: DeprecationWarning: Calling np.sum(generator) is deprecated, and in the future will give a different result. Use np.sum(np.fromiter(generator)) or the python sum builtin instead.\n",
            "  score += np.sum(cnt * logsumexp(Elogthetad + Elogbeta[:, int(id)]) for id, cnt in doc)\n",
            "/usr/local/lib/python3.7/dist-packages/gensim/models/ldamodel.py:1077: DeprecationWarning: Calling np.sum(generator) is deprecated, and in the future will give a different result. Use np.sum(np.fromiter(generator)) or the python sum builtin instead.\n",
            "  score += np.sum(cnt * logsumexp(Elogthetad + Elogbeta[:, int(id)]) for id, cnt in doc)\n",
            "/usr/local/lib/python3.7/dist-packages/gensim/models/ldamodel.py:1077: DeprecationWarning: Calling np.sum(generator) is deprecated, and in the future will give a different result. Use np.sum(np.fromiter(generator)) or the python sum builtin instead.\n",
            "  score += np.sum(cnt * logsumexp(Elogthetad + Elogbeta[:, int(id)]) for id, cnt in doc)\n",
            "/usr/local/lib/python3.7/dist-packages/gensim/models/ldamodel.py:1077: DeprecationWarning: Calling np.sum(generator) is deprecated, and in the future will give a different result. Use np.sum(np.fromiter(generator)) or the python sum builtin instead.\n",
            "  score += np.sum(cnt * logsumexp(Elogthetad + Elogbeta[:, int(id)]) for id, cnt in doc)\n",
            "/usr/local/lib/python3.7/dist-packages/gensim/models/ldamodel.py:1077: DeprecationWarning: Calling np.sum(generator) is deprecated, and in the future will give a different result. Use np.sum(np.fromiter(generator)) or the python sum builtin instead.\n",
            "  score += np.sum(cnt * logsumexp(Elogthetad + Elogbeta[:, int(id)]) for id, cnt in doc)\n",
            "/usr/local/lib/python3.7/dist-packages/gensim/models/ldamodel.py:1077: DeprecationWarning: Calling np.sum(generator) is deprecated, and in the future will give a different result. Use np.sum(np.fromiter(generator)) or the python sum builtin instead.\n",
            "  score += np.sum(cnt * logsumexp(Elogthetad + Elogbeta[:, int(id)]) for id, cnt in doc)\n",
            "/usr/local/lib/python3.7/dist-packages/gensim/models/ldamodel.py:1077: DeprecationWarning: Calling np.sum(generator) is deprecated, and in the future will give a different result. Use np.sum(np.fromiter(generator)) or the python sum builtin instead.\n",
            "  score += np.sum(cnt * logsumexp(Elogthetad + Elogbeta[:, int(id)]) for id, cnt in doc)\n",
            "/usr/local/lib/python3.7/dist-packages/gensim/models/ldamodel.py:1077: DeprecationWarning: Calling np.sum(generator) is deprecated, and in the future will give a different result. Use np.sum(np.fromiter(generator)) or the python sum builtin instead.\n",
            "  score += np.sum(cnt * logsumexp(Elogthetad + Elogbeta[:, int(id)]) for id, cnt in doc)\n",
            "/usr/local/lib/python3.7/dist-packages/gensim/models/ldamodel.py:1077: DeprecationWarning: Calling np.sum(generator) is deprecated, and in the future will give a different result. Use np.sum(np.fromiter(generator)) or the python sum builtin instead.\n",
            "  score += np.sum(cnt * logsumexp(Elogthetad + Elogbeta[:, int(id)]) for id, cnt in doc)\n",
            "/usr/local/lib/python3.7/dist-packages/gensim/models/ldamodel.py:1077: DeprecationWarning: Calling np.sum(generator) is deprecated, and in the future will give a different result. Use np.sum(np.fromiter(generator)) or the python sum builtin instead.\n",
            "  score += np.sum(cnt * logsumexp(Elogthetad + Elogbeta[:, int(id)]) for id, cnt in doc)\n",
            "/usr/local/lib/python3.7/dist-packages/gensim/models/ldamodel.py:1077: DeprecationWarning: Calling np.sum(generator) is deprecated, and in the future will give a different result. Use np.sum(np.fromiter(generator)) or the python sum builtin instead.\n",
            "  score += np.sum(cnt * logsumexp(Elogthetad + Elogbeta[:, int(id)]) for id, cnt in doc)\n",
            "/usr/local/lib/python3.7/dist-packages/gensim/models/ldamodel.py:1077: DeprecationWarning: Calling np.sum(generator) is deprecated, and in the future will give a different result. Use np.sum(np.fromiter(generator)) or the python sum builtin instead.\n",
            "  score += np.sum(cnt * logsumexp(Elogthetad + Elogbeta[:, int(id)]) for id, cnt in doc)\n",
            "/usr/local/lib/python3.7/dist-packages/gensim/models/ldamodel.py:1077: DeprecationWarning: Calling np.sum(generator) is deprecated, and in the future will give a different result. Use np.sum(np.fromiter(generator)) or the python sum builtin instead.\n",
            "  score += np.sum(cnt * logsumexp(Elogthetad + Elogbeta[:, int(id)]) for id, cnt in doc)\n",
            "/usr/local/lib/python3.7/dist-packages/gensim/models/ldamodel.py:1077: DeprecationWarning: Calling np.sum(generator) is deprecated, and in the future will give a different result. Use np.sum(np.fromiter(generator)) or the python sum builtin instead.\n",
            "  score += np.sum(cnt * logsumexp(Elogthetad + Elogbeta[:, int(id)]) for id, cnt in doc)\n",
            "/usr/local/lib/python3.7/dist-packages/gensim/models/ldamodel.py:1077: DeprecationWarning: Calling np.sum(generator) is deprecated, and in the future will give a different result. Use np.sum(np.fromiter(generator)) or the python sum builtin instead.\n",
            "  score += np.sum(cnt * logsumexp(Elogthetad + Elogbeta[:, int(id)]) for id, cnt in doc)\n",
            "/usr/local/lib/python3.7/dist-packages/gensim/models/ldamodel.py:1077: DeprecationWarning: Calling np.sum(generator) is deprecated, and in the future will give a different result. Use np.sum(np.fromiter(generator)) or the python sum builtin instead.\n",
            "  score += np.sum(cnt * logsumexp(Elogthetad + Elogbeta[:, int(id)]) for id, cnt in doc)\n",
            "/usr/local/lib/python3.7/dist-packages/gensim/models/ldamodel.py:1077: DeprecationWarning: Calling np.sum(generator) is deprecated, and in the future will give a different result. Use np.sum(np.fromiter(generator)) or the python sum builtin instead.\n",
            "  score += np.sum(cnt * logsumexp(Elogthetad + Elogbeta[:, int(id)]) for id, cnt in doc)\n",
            "/usr/local/lib/python3.7/dist-packages/gensim/models/ldamodel.py:1077: DeprecationWarning: Calling np.sum(generator) is deprecated, and in the future will give a different result. Use np.sum(np.fromiter(generator)) or the python sum builtin instead.\n",
            "  score += np.sum(cnt * logsumexp(Elogthetad + Elogbeta[:, int(id)]) for id, cnt in doc)\n",
            "/usr/local/lib/python3.7/dist-packages/gensim/models/ldamodel.py:1077: DeprecationWarning: Calling np.sum(generator) is deprecated, and in the future will give a different result. Use np.sum(np.fromiter(generator)) or the python sum builtin instead.\n",
            "  score += np.sum(cnt * logsumexp(Elogthetad + Elogbeta[:, int(id)]) for id, cnt in doc)\n",
            "/usr/local/lib/python3.7/dist-packages/gensim/models/ldamodel.py:1077: DeprecationWarning: Calling np.sum(generator) is deprecated, and in the future will give a different result. Use np.sum(np.fromiter(generator)) or the python sum builtin instead.\n",
            "  score += np.sum(cnt * logsumexp(Elogthetad + Elogbeta[:, int(id)]) for id, cnt in doc)\n",
            "/usr/local/lib/python3.7/dist-packages/gensim/models/ldamodel.py:1077: DeprecationWarning: Calling np.sum(generator) is deprecated, and in the future will give a different result. Use np.sum(np.fromiter(generator)) or the python sum builtin instead.\n",
            "  score += np.sum(cnt * logsumexp(Elogthetad + Elogbeta[:, int(id)]) for id, cnt in doc)\n",
            "/usr/local/lib/python3.7/dist-packages/gensim/models/ldamodel.py:1077: DeprecationWarning: Calling np.sum(generator) is deprecated, and in the future will give a different result. Use np.sum(np.fromiter(generator)) or the python sum builtin instead.\n",
            "  score += np.sum(cnt * logsumexp(Elogthetad + Elogbeta[:, int(id)]) for id, cnt in doc)\n"
          ],
          "name": "stderr"
        }
      ]
    },
    {
      "cell_type": "code",
      "metadata": {
        "id": "vertical-marina",
        "colab": {
          "base_uri": "https://localhost:8080/"
        },
        "outputId": "b5faedea-0275-444b-e936-0d2e5712d25e"
      },
      "source": [
        "lda_model.print_topics()"
      ],
      "id": "vertical-marina",
      "execution_count": 31,
      "outputs": [
        {
          "output_type": "execute_result",
          "data": {
            "text/plain": [
              "[(0,\n",
              "  '0.009*\"город\" + 0.004*\"россия\" + 0.004*\"антициклон\" + 0.003*\"российский\" + 0.003*\"городской\" + 0.003*\"область\" + 0.003*\"война\" + 0.003*\"часть\" + 0.003*\"центр\" + 0.003*\"архангельский\"'),\n",
              " (1,\n",
              "  '0.009*\"город\" + 0.007*\"район\" + 0.007*\"архангельский\" + 0.007*\"российский\" + 0.005*\"область\" + 0.005*\"центр\" + 0.005*\"состав\" + 0.005*\"часть\" + 0.004*\"административный\" + 0.004*\"образование\"'),\n",
              " (2,\n",
              "  '0.006*\"архангельский\" + 0.006*\"город\" + 0.005*\"являться\" + 0.005*\"область\" + 0.004*\"российский\" + 0.004*\"крупный\" + 0.004*\"территория\" + 0.004*\"совет\" + 0.003*\"центр\" + 0.003*\"северный\"'),\n",
              " (3,\n",
              "  '0.006*\"город\" + 0.006*\"северный\" + 0.005*\"центр\" + 0.005*\"являться\" + 0.004*\"крупный\" + 0.004*\"область\" + 0.003*\"государство\" + 0.003*\"россия\" + 0.003*\"река\" + 0.003*\"население\"')]"
            ]
          },
          "metadata": {
            "tags": []
          },
          "execution_count": 31
        }
      ]
    },
    {
      "cell_type": "code",
      "metadata": {
        "id": "refined-consolidation",
        "colab": {
          "base_uri": "https://localhost:8080/",
          "height": 881
        },
        "outputId": "9e5d48b3-104f-47e7-cfee-a17577515415"
      },
      "source": [
        "pyLDAvis.enable_notebook()\n",
        "LDAvis_prepared = pyLDAvis.gensim_models.prepare(lda_model, corpus, id2word)\n",
        "LDAvis_prepared"
      ],
      "id": "refined-consolidation",
      "execution_count": 32,
      "outputs": [
        {
          "output_type": "execute_result",
          "data": {
            "text/html": [
              "\n",
              "<link rel=\"stylesheet\" type=\"text/css\" href=\"https://cdn.jsdelivr.net/gh/bmabey/pyLDAvis@3.3.1/pyLDAvis/js/ldavis.v1.0.0.css\">\n",
              "\n",
              "\n",
              "<div id=\"ldavis_el21191402300273516321081028571\"></div>\n",
              "<script type=\"text/javascript\">\n",
              "\n",
              "var ldavis_el21191402300273516321081028571_data = {\"mdsDat\": {\"x\": [0.006918394334990225, 0.015848305117193668, -0.04175073998548619, 0.018984040533302292], \"y\": [-0.028353706772719506, -0.00952104221786958, 0.006124353466562553, 0.03175039552402653], \"topics\": [1, 2, 3, 4], \"cluster\": [1, 1, 1, 1], \"Freq\": [34.09139475764859, 23.090372889116168, 21.73636706862763, 21.08186528460762]}, \"tinfo\": {\"Term\": [\"\\u0440\\u0430\\u0439\\u043e\\u043d\", \"\\u0431\\u0430\\u043b\\u0442\\u0438\\u0439\\u0441\\u043a\\u0438\\u0439\", \"\\u0430\\u043d\\u0442\\u0438\\u0446\\u0438\\u043a\\u043b\\u043e\\u043d\", \"\\u0433\\u043e\\u0440\\u043e\\u0434\", \"\\u0441\\u043e\\u0432\\u0435\\u0442\", \"\\u0444\\u043b\\u043e\\u0442\", \"\\u0441\\u0435\\u043b\\u044c\\u0441\\u043a\\u0438\\u0439\", \"\\u043e\\u0431\\u043b\\u0430\\u0441\\u0442\\u0438.\", \"\\u043e\\u0437\\u0435\\u0440\\u043e\", \"\\u043c\\u0443\\u043d\\u0438\\u0446\\u0438\\u043f\\u0430\\u043b\\u044c\\u043d\\u044b\\u0439\", \"\\u0441\\u043e\\u0441\\u0442\\u0430\\u0432\", \"\\u043f\\u043e\\u0441\\u0435\\u043b\\u0435\\u043d\\u0438\\u044f.\", \"\\u0431\\u0430\\u0437\\u0430\", \"\\u0440\\u043e\\u0441\\u0441\\u0438\\u0439\\u0441\\u043a\\u0438\\u0439\", \"\\u0432\\u043e\\u0435\\u043d\\u043d\\u043e-\\u043c\\u043e\\u0440\\u0441\\u043a\\u043e\\u0439\", \"\\u0432\\u0435\\u0440\\u0445\\u043e\\u0432\\u043d\\u044b\\u0439\", \"\\u0430\\u0434\\u043c\\u0438\\u043d\\u0438\\u0441\\u0442\\u0440\\u0430\\u0442\\u0438\\u0432\\u043d\\u044b\\u0439\", \"\\u043a\\u043e\\u0440\\u043e\\u043b\\u0435\\u0432\\u0441\\u0442\\u0432\\u043e\", \"\\u0430\\u0440\\u0445\\u0430\\u043d\\u0433\\u0435\\u043b\\u044c\\u0441\\u043a\\u0438\\u0439\", \"\\u0446\\u0435\\u043d\\u0442\\u0440\", \"\\u0444\\u0435\\u0434\\u0435\\u0440\\u0430\\u0446\\u0438\\u0438.\", \"\\u043e\\u0431\\u0440\\u0430\\u0437\\u043e\\u0432\\u0430\\u043d\\u0438\\u0435\", \"\\u0441\\u0435\\u0432\\u0435\\u0440\\u043d\\u044b\\u0439\", \"\\u00ab\\u0433\\u0430\\u0437\\u043f\\u0440\\u043e\\u043c\\u00bb\", \"\\u043f\\u043e\\u0434\\u0432\\u043e\\u0434\\u043d\\u044b\\u0439\", \"\\u0432\\u0435\\u043b\\u0438\\u043a\\u043e\\u0431\\u0440\\u0438\\u0442\\u0430\\u043d\\u0438\\u044f\", \"\\u0440\\u0435\\u043a\\u0430\", \"\\u0440\\u043e\\u0441\\u0441\\u0438\\u0438\", \"\\u0432\\u043e\\u0439\\u043d\\u0430\", \"\\u0433\\u043e\\u0440\\u043e\\u0434\\u0441\\u043a\\u043e\\u0439\", \"\\u00ab\\u0433\\u0430\\u0437\\u043f\\u0440\\u043e\\u043c\\u00bb\", \"\\u0434\\u0435\\u043f\\u0443\\u0442\\u0430\\u0442\", \"\\u043f\\u043b\\u0430\\u0432\\u0443\\u0447\\u0438\\u0439\", \"\\u0441\\u043e\\u0432\\u0435\\u0442\", \"\\u0434\\u043b\\u0438\\u043d\\u043d\\u044b\\u0439\", \"\\u0438\\u0441\\u0441\\u043b\\u0435\\u0434\\u043e\\u0432\\u0430\\u043d\\u0438\\u0435\", \"\\u0433\\u0430\\u0437\\u0430.\", \"\\u0432\\u0435\\u0440\\u0445\\u043e\\u0432\\u043d\\u044b\\u0439\", \"\\u0441\\u044a\\u0435\\u0437\\u0434\", \"1993\", \"\\u0430\\u043a\\u0446\\u0438\\u044f\", \"\\u0433\\u043e\\u0434\\u0430\\u0445.\", \"\\u0433\\u0433.\", \"\\u0433\\u0443\\u0431\\u0435\\u0440\\u043d\\u0438\\u0438\", \"\\u00ab\\u0433\\u0430\\u0437\\u043f\\u0440\\u043e\\u043c\\u0430\\u00bb\", \"\\u043c\\u0438\\u043b\\u043b\\u0438\\u043c\\u0435\\u0442\\u0440\", \"\\u0441\\u043e\\u043b\\u043d\\u0446\\u0435\\u0441\\u0442\\u043e\\u044f\\u043d\\u0438\\u0435\", \"\\u0440\\u0435\\u0430\\u043b\\u0438\\u0437\\u043e\\u0432\\u0430\\u0442\\u044c\", \"\\u0438\\u0437\\u0431\\u0440\\u0430\\u0442\\u044c\", \"\\u043f\\u0440\\u043e\\u0438\\u0437\\u0432\\u043e\\u0434\\u0438\\u0442\\u0435\\u043b\\u044c\", \"\\u043e\\u0441\\u0435\\u0442\\u0438\\u0438\", \"\\u0431\\u0443\\u0434\\u0443\\u0449\\u0435\\u043c.\", \"\\u0434\\u043e\\u0441\\u0442\\u0430\\u0442\\u043e\\u0447\\u043d\\u043e\", \"\\u0432\\u044b\\u0441\\u043e\\u043a\\u0438\\u043c\", \"\\u043d\\u0435\\u0433\\u043e.\", \"\\u0433\\u0430\\u0437\\u043f\\u0440\\u043e\\u043c\", \"\\u0434\\u043e\\u043a\\u0442\\u043e\\u0440\", \"\\u0431\\u0435\\u043b\\u044b\\u0435\", \"\\u0441\\u0443\\u043c\\u0435\\u0440\\u0435\\u043a.\", \"\\u043e\\u0441\\u0432\\u0435\\u0449\\u0435\\u043d\\u0438\\u0435\", \"\\u0441\\u043e\\u0437\\u044b\\u0432\", \"\\u043f\\u0440\\u0435\\u043c\\u0438\\u044f\", \"\\u043a\\u043f\\u0441\\u0441\", \"\\u043f\\u0440\\u043e\\u0438\\u0437\\u0432\\u043e\\u0434\\u0441\\u0442\\u0432\\u043e\", \"\\u043a\\u043e\\u043d\\u0441\\u0442\\u0438\\u0442\\u0443\\u0446\\u0438\\u044f\", \"\\u0433\\u0430\\u0437\", \"\\u0430\\u0433\\u043b\\u043e\\u043c\\u0435\\u0440\\u0430\\u0446\\u0438\\u044f\", \"\\u0434\\u0435\\u0439\\u0441\\u0442\\u0432\\u043e\\u0432\\u0430\\u0442\\u044c\", \"\\u0440\\u0441\\u0444\\u0441\\u0440\", \"\\u043d\\u0430\\u0440\\u043e\\u0434\\u043d\\u044b\\u0439\", \"\\u043a\\u043e\\u043c\\u043f\\u0430\\u043d\\u0438\\u044f\", \"\\u043a\\u043e\\u0441\\u043c\\u0438\\u0447\\u0435\\u0441\\u043a\\u0438\\u0439\", \"\\u0441\\u0441\\u0441\\u0440\", \"\\u043a\\u043e\\u043d\\u0441\\u0442\\u0438\\u0442\\u0443\\u0446\\u0438\\u043e\\u043d\\u043d\\u044b\\u0439\", \"\\u0440\\u0435\\u0441\\u043f\\u0443\\u0431\\u043b\\u0438\\u043a\\u0430\", \"\\u0433\\u0435\\u0440\\u043e\\u0439\", \"\\u0441\\u043e\\u0432\\u0435\\u0442\\u0441\\u043a\\u0438\\u0439\", \"\\u0432\\u043b\\u0430\\u0441\\u0442\\u044c\", \"\\u0441\\u0435\\u043d\\u0442\\u044f\\u0431\\u0440\\u044c\", \"\\u043f\\u0440\\u0430\\u0432\\u043e\", \"\\u044f\\u0432\\u043b\\u044f\\u0442\\u044c\\u0441\\u044f\", \"\\u0430\\u0440\\u0445\\u0430\\u043d\\u0433\\u0435\\u043b\\u044c\\u0441\\u043a\\u0438\\u0439\", \"\\u0442\\u0435\\u0440\\u0440\\u0438\\u0442\\u043e\\u0440\\u0438\\u044f\", \"\\u043e\\u0442\\u043d\\u043e\\u0448\\u0435\\u043d\\u0438\\u0435\", \"\\u043a\\u0440\\u0443\\u043f\\u043d\\u044b\\u0439\", \"\\u0434\\u0438\\u043f\\u043b\\u043e\\u043c\\u0430\\u0442\\u0438\\u0447\\u0435\\u0441\\u043a\\u0438\\u0439\", \"\\u0441\\u0442\\u0440\\u0430\\u043d\\u0430\", \"\\u043e\\u0431\\u043b\\u0430\\u0441\\u0442\\u044c\", \"\\u0440\\u043e\\u0441\\u0441\\u0438\\u0439\\u0441\\u043a\\u0438\\u0439\", \"\\u0432\\u0438\\u043a\\u0438\\u043f\\u0435\\u0434\\u0438\\u044f\", \"\\u0441\\u043e\\u0441\\u0442\\u0430\\u0432\\u043b\\u044f\\u0442\\u044c\", \"\\u0433\\u043e\\u0441\\u0443\\u0434\\u0430\\u0440\\u0441\\u0442\\u0432\\u0435\\u043d\\u043d\\u044b\\u0439\", \"\\u0433\\u043e\\u0440\\u043e\\u0434\", \"\\u0433\\u043e\\u0441\\u0443\\u0434\\u0430\\u0440\\u0441\\u0442\\u0432\\u043e\", \"\\u0441\\u0435\\u0432\\u0435\\u0440\\u043d\\u044b\\u0439\", \"\\u0440\\u043e\\u0441\\u0441\\u0438\\u044f\", \"\\u0446\\u0435\\u043d\\u0442\\u0440\", \"\\u0447\\u0430\\u0441\\u0442\\u044c\", \"\\u0441\\u043e\\u0441\\u0442\\u0430\\u0432\", \"\\u043e\\u0431\\u0440\\u0430\\u0437\\u043e\\u0432\\u0430\\u0442\\u044c\", \"\\u0430\\u0434\\u043c\\u0438\\u043d\\u0438\\u0441\\u0442\\u0440\\u0430\\u0442\\u0438\\u0432\\u043d\\u044b\\u0439\", \"\\u0440\\u0430\\u0439\\u043e\\u043d\", \"\\u0440\\u0443\\u0441\\u0441\\u043a\\u0438\\u0439\", \"\\u0432\\u044b\\u0441\\u043e\\u043a\\u0438\\u0439\", \"\\u043e\\u0431\\u0440\\u0430\\u0437\\u043e\\u0432\\u0430\\u043d\\u0438\\u0435\", \"\\u043d\\u0430\\u0441\\u0435\\u043b\\u0435\\u043d\\u0438\\u0435\", \"\\u043b\\u043e\\u043a\\u0430\\u043b\\u044c\\u043d\\u044b\\u0439\", \"\\u0433\\u0435\\u0440\\u0430\\u043b\\u044c\\u0434\\u0438\\u0447\\u0435\\u0441\\u043a\\u0438\\u0439\", \"\\u0449\\u0438\\u0442\", \"\\u0434\\u043e\\u043d\\u0443\\u0437\\u043b\\u0430\\u0432\", \"\\u043b\\u0430\\u043f\\u043b\\u0430\\u043d\\u0434\\u0438\\u044f\", \"\\u043e\\u0437\\u0435\\u0440\\u043e\", \"\\u0441\\u0430\\u0433\\u0430\", \"\\u0431\\u044c\\u044f\\u0440\\u043c\\u0438\\u044f\", \"\\u0431\\u044c\\u044f\\u0440\\u043c\\u0430\\u043b\\u0430\\u043d\\u0434\\u0430\", \"\\u0431\\u0438\\u0430\\u0440\\u043c\\u0438\\u044f\", \"\\u0443\\u043d\\u0438\\u0432\\u0435\\u0440\\u0441\\u0438\\u0442\\u0435\\u0442\", \"\\u0432\\u043e\\u0441\\u043a\\u0440\\u0435\\u0441\\u043d\\u044b\\u0439\", \"\\u0434\\u0430\\u043b\\u044c\\u043d\\u0435\\u0432\\u043e\\u0441\\u0442\\u043e\\u0447\\u043d\\u044b\\u0439\", \"\\u0441\\u0435\\u0442\\u044c\\u044e\", \"\\u0433\\u0435\\u0440\\u0431\\u043e\\u0432\\u044b\\u0439\", \"lan\", \"\\u043d\\u0435\\u0441\\u0443\\u0449\\u0438\\u0439\", \"\\u043a\\u043e\\u043d\\u0444\\u043b\\u0438\\u043a\\u0442\", \"\\u0433\\u0435\\u0440\\u0431\\u0430.\", \"\\u0432\\u044b\\u0447\\u0438\\u0441\\u043b\\u0438\\u0442\\u0435\\u043b\\u044c\\u043d\\u044b\\u0439\", \"\\u0438\\u0437\\u043e\\u0431\\u0440\\u0430\\u0437\\u0438\\u0442\\u044c\", \"\\u0444\\u0438\\u0433\\u0443\\u0440.\", \"\\u043a\\u043e\\u043c\\u043f\\u044c\\u044e\\u0442\\u0435\\u0440\\u043d\\u044b\\u0439\", \"\\u043f\\u0440\\u0438\\u0431\\u0440\\u0435\\u0436\\u043d\\u043e-\\u0432\\u043e\\u0434\\u043d\\u044b\\u0439\", \"\\u0438\\u0433\\u0440\\u043e\\u043a\", \"\\u043a\\u0438\\u0431\\u0435\\u0440\\u0441\\u043f\\u043e\\u0440\\u0442\", \"\\u0442\\u0440\\u0430\\u0434\\u0438\\u0446\\u0438\\u044f\", \"\\u0434\\u043e\\u043c\", \"\\u0438\\u043d\\u0442\\u0435\\u0440\\u043d\\u0435\\u0442.\", \"\\u0444\\u043e\\u0440\\u043c\\u044b\", \"\\u0443\\u0447\\u0435\\u0431\\u043d\\u044b\\u0439\", \"\\u0440\\u0435\\u043a\\u0438\", \"\\u043a\\u043e\\u043b\\u043b\\u0435\\u0434\\u0436\", \"\\u043f\\u0440\\u043e\\u0438\\u0441\\u0445\\u043e\\u0436\\u0434\\u0435\\u043d\\u0438\\u0435\", \"\\u0431\\u043e\\u043b\\u043e\\u0442\\u043e\", \"\\u043a\\u043e\\u043b\\u0435\\u0441\\u043e\", \"\\u044d\\u0441\\u0442\\u0443\\u0430\\u0440\\u0438\\u0439\", \"\\u0441\\u0435\\u0442\\u044c\", \"\\u0435\\u0432\\u0440\\u043e\\u043f\\u044b.\", \"\\u0430\\u043d\\u0433\\u043b\\u0438\\u044f\", \"\\u0445\\u043e\\u043b\\u043c\\u043e\\u0433\\u043e\\u0440\", \"\\u043a\\u043e\\u0430\\u043b\\u0438\\u0446\\u0438\\u044f\", \"\\u0441\\u0435\\u0432\\u0435\\u0440\\u043d\\u044b\\u0439\", \"\\u043a\\u043e\\u0440\\u043e\\u043b\\u0435\\u0432\\u0441\\u0442\\u0432\\u043e\", \"\\u043d\\u0435\\u0431\\u043e\\u043b\\u044c\\u0448\\u043e\\u0439\", \"\\u0432\\u0435\\u043b\\u0438\\u043a\\u043e\\u0431\\u0440\\u0438\\u0442\\u0430\\u043d\\u0438\\u044f\", \"\\u043c\\u043e\\u0441\\u043a\\u0432\\u0430\", \"\\u0440\\u0435\\u043a\\u0430\", \"\\u0446\\u0435\\u043d\\u0442\\u0440\", \"\\u0433\\u043e\\u0441\\u0443\\u0434\\u0430\\u0440\\u0441\\u0442\\u0432\\u043e\", \"\\u043e\\u0431\\u044b\\u0447\\u043d\\u043e\", \"\\u044f\\u0432\\u043b\\u044f\\u0442\\u044c\\u0441\\u044f\", \"\\u0447\\u0438\\u0441\\u043b\\u043e\", \"\\u0441\\u0442\\u0440\\u0430\\u043d\\u0430\", \"\\u043a\\u0440\\u0443\\u043f\\u043d\\u044b\\u0439\", \"\\u0433\\u043e\\u0440\\u043e\\u0434\", \"\\u0432\\u043e\\u0439\\u043d\\u0430\", \"\\u043c\\u0438\\u0440\\u043e\\u0432\\u043e\\u0439\", \"\\u043d\\u0430\\u0441\\u0435\\u043b\\u0435\\u043d\\u0438\\u0435\", \"\\u043e\\u0440\\u0433\\u0430\\u043d\\u0438\\u0437\\u0430\\u0446\\u0438\\u044f\", \"\\u0441\\u043e\\u0435\\u0434\\u0438\\u043d\\u0438\\u0442\\u044c\", \"\\u0432\\u0442\\u043e\\u0440\\u043e\\u0439\", \"\\u0440\\u043e\\u0441\\u0441\\u0438\\u044f\", \"\\u043e\\u0431\\u043b\\u0430\\u0441\\u0442\\u044c\", \"\\u0440\\u0430\\u0441\\u043f\\u043e\\u043b\\u043e\\u0436\\u0438\\u0442\\u044c\", \"\\u0440\\u0443\\u0441\\u0441\\u043a\\u0438\\u0439\", \"\\u0442\\u0435\\u0440\\u0440\\u0438\\u0442\\u043e\\u0440\\u0438\\u044f\", \"\\u043c\\u0435\\u0436\\u0434\\u0443\\u043d\\u0430\\u0440\\u043e\\u0434\\u043d\\u044b\\u0439\", \"\\u0444\\u0435\\u0434\\u0435\\u0440\\u0430\\u043b\\u044c\\u043d\\u044b\\u0439\", \"\\u043e\\u0441\\u0442\\u0440\\u043e\\u0432\", \"\\u043e\\u0431\\u0440\\u0430\\u0437\\u043e\\u0432\\u0430\\u0442\\u044c\", \"\\u0430\\u0440\\u0445\\u0430\\u043d\\u0433\\u0435\\u043b\\u044c\\u0441\\u043a\\u0438\\u0439\", \"\\u0447\\u0430\\u0441\\u0442\\u044c\", \"\\u0440\\u0430\\u0439\\u043e\\u043d\", \"\\u0440\\u043e\\u0441\\u0441\\u0438\\u0439\\u0441\\u043a\\u0438\\u0439\", \"\\u0441\\u043e\\u0441\\u0442\\u0430\\u0432\", \"\\u043e\\u0431\\u0440\\u0430\\u0437\\u043e\\u0432\\u0430\\u043d\\u0438\\u0435\", \"\\u0443\\u0433\\u043e\\u043b\\u044c\", \"\\u0431\\u0430\\u043b\\u0442\\u0438\\u0439\\u0441\\u043a\\u0438\\u0439\", \"\\u043b\\u0435\\u0434\\u043d\\u0438\\u043a\\u043e\\u0432\\u044b\\u0439\", \"\\u0437\\u0430\\u043a\\u0430\\u0437\", \"\\u0434\\u0432\\u0438\\u0436\\u0438\\u0442\\u0435\\u043b\\u044c\", \"\\u0434\\u0435\\u0440\\u0435\\u0432\\u043d\\u044f\", \"\\u0430\\u043b\\u0435\\u043a\\u0441\\u0435\\u0439\", \"\\u043a\\u043e\\u043c\\u0430\\u043d\\u0434\\u0443\\u044e\\u0449\\u0438\\u0439\", \"\\u043f\\u043e\\u0441\\u0435\\u043b\\u0435\\u043d\\u0438\\u044f.\", \"\\u043a\\u043b\\u0438\\u043c\\u043e\\u0432\", \"\\u043c\\u0430\\u0442\\u0438\\u0433\\u043e\\u0440\\u0441\\u043a\\u0438\\u0439\", \"\\u0433\\u0438\\u043c\\u043d\\u0430\\u0441\\u0442\\u043a\\u0430\", \"\\u043c\\u043e\\u043d\\u043e\\u0433\\u043e\\u0440\\u043e\\u0434\\u043e\\u0432\\u00bb\", \"\\u043c\\u0435\\u0434\\u0430\\u043b\\u0438\\u0441\\u0442\\u043a\\u0430\", \"\\u00ab\\u043c\\u043e\\u043d\\u043e\\u043f\\u0440\\u043e\\u0444\\u0438\\u043b\\u044c\\u043d\\u044b\\u0439\", \"\\u043b\\u0435\\u0432\\u044b\\u0439\", \"668-\\u0440\", \"2016\", \"\\u0444\\u043b\\u043e\\u0442\", \"\\u043a\\u0440\\u0430\\u0441\\u043d\\u043e\\u0437\\u043d\\u0430\\u043c\\u0451\\u043d\\u043d\\u044b\\u0439\", \"\\u043b\\u0435\\u043d\\u0438\\u043d\\u0433\\u0440\\u0430\\u0434\\u0441\\u043a\\u0438\\u0439\", \"\\u043a\\u0440\\u0430\\u0439\\u043d\\u0438\\u0439\", \"\\u0441\\u0442\\u0430\\u0431\\u0438\\u043b\\u044c\\u043d\\u044b\\u0439\", \"\\u043a\\u043e\\u043c\\u0430\\u043d\\u0434\\u0430\", \"\\u0440\\u0430\\u0441\\u043f\\u043e\\u0440\\u044f\\u0436\\u0435\\u043d\\u0438\\u0435\", \"\\u0441\\u0438\\u0442\\u0443\\u0430\\u0446\\u0438\\u0435\\u0439\\u00bb.\", \"\\u043a\\u0440\\u0430\\u0441\\u043d\\u043e\\u0431\\u043e\\u0440\\u0441\\u043a\\u0438\\u0439\", \"\\u0431\\u0430\\u0437\\u0430\", \"\\u0434\\u043e\\u0431\\u043b\\u0435\\u0441\\u0442\\u044c\", \"\\u043e\\u0431\\u0435\\u0441\\u043f\\u0435\\u0447\\u0435\\u043d\\u0438\\u044f.\", \"\\u0433\\u043e\\u0434\\u0443.\", \"\\u0432\\u043e\\u0435\\u043d\\u043d\\u043e-\\u043c\\u043e\\u0440\\u0441\\u043a\\u043e\\u0439\", \"\\u0440\\u0430\\u0439\\u043e\\u043d\", \"\\u0441\\u0435\\u043b\\u044c\\u0441\\u043a\\u0438\\u0439\", \"\\u043e\\u0431\\u043b\\u0430\\u0441\\u0442\\u0438.\", \"\\u0438\\u0437\\u043b\\u0443\\u0447\\u0435\\u043d\\u0438\\u0435\", \"\\u0444\\u0435\\u0434\\u0435\\u0440\\u0430\\u0446\\u0438\\u0438.\", \"\\u0441\\u0435\\u0432\\u0435\\u0440\\u043e\\u0434\\u0432\\u0438\\u043d\\u0441\\u043a\", \"\\u043f\\u0443\\u0442\\u044c\", \"\\u0431\\u0430\\u043b\\u0442\\u0438\\u0439\\u0441\\u043a\", \"\\u0432\\u043c\\u0444\", \"\\u0441\\u043e\\u0441\\u0442\\u0430\\u0432\", \"\\u0430\\u0434\\u043c\\u0438\\u043d\\u0438\\u0441\\u0442\\u0440\\u0430\\u0442\\u0438\\u0432\\u043d\\u044b\\u0439\", \"\\u043c\\u0443\\u043d\\u0438\\u0446\\u0438\\u043f\\u0430\\u043b\\u044c\\u043d\\u044b\\u0439\", \"\\u0440\\u043e\\u0441\\u0441\\u0438\\u0439\\u0441\\u043a\\u0438\\u0439\", \"\\u043e\\u0431\\u0440\\u0430\\u0437\\u043e\\u0432\\u0430\\u043d\\u0438\\u0435\", \"\\u0430\\u0440\\u0445\\u0430\\u043d\\u0433\\u0435\\u043b\\u044c\\u0441\\u043a\\u0438\\u0439\", \"\\u0432\\u0445\\u043e\\u0434\\u0438\\u0442\\u044c\", \"\\u0435\\u0434\\u0438\\u043d\\u0438\\u0446\\u0430\", \"\\u0433\\u043e\\u0440\\u043e\\u0434\", \"\\u0447\\u0430\\u0441\\u0442\\u044c\", \"\\u043e\\u0431\\u043b\\u0430\\u0441\\u0442\\u044c\", \"\\u0446\\u0435\\u043d\\u0442\\u0440\", \"\\u0430\\u0434\\u043c\\u0438\\u043d\\u0438\\u0441\\u0442\\u0440\\u0430\\u0442\\u0438\\u0432\\u043d\\u043e-\\u0442\\u0435\\u0440\\u0440\\u0438\\u0442\\u043e\\u0440\\u0438\\u0430\\u043b\\u044c\\u043d\\u044b\\u0439\", \"\\u0441\\u0435\\u0432\\u0435\\u0440\", \"\\u0440\\u043e\\u0441\\u0441\\u0438\\u0438\", \"\\u043f\\u043e\\u0441\\u0451\\u043b\\u043e\\u043a\", \"\\u043f\\u0435\\u0440\\u0438\\u043e\\u0434\", \"\\u0440\\u0435\\u043a\\u0430\", \"\\u0441\\u0442\\u0430\\u0442\\u0443\\u0441\", \"\\u044f\\u0432\\u043b\\u044f\\u0442\\u044c\\u0441\\u044f\", \"\\u0433\\u043e\\u0440\\u043e\\u0434\\u0441\\u043a\\u043e\\u0439\", \"\\u0441\\u0435\\u0432\\u0435\\u0440\\u043d\\u044b\\u0439\", \"\\u043d\\u0430\\u0441\\u0435\\u043b\\u0435\\u043d\\u0438\\u0435\", \"\\u0442\\u0435\\u0440\\u0440\\u0438\\u0442\\u043e\\u0440\\u0438\\u044f\", \"\\u0440\\u0443\\u0441\\u0441\\u043a\\u0438\\u0439\", \"\\u0440\\u043e\\u0441\\u0441\\u0438\\u044f\", \"\\u043a\\u0440\\u0443\\u043f\\u043d\\u044b\\u0439\", \"\\u043a\\u0438\\u0440\\u043e\\u0432\", \"\\u0444\\u043b\\u043e\\u0442\\u0438\\u043b\\u0438\\u044f\", \"\\u0431\\u0440\\u044f\\u043d\\u0441\\u043a\", \"\\u0440\\u0443\\u0441\\u0438\", \"\\u043a\\u0430\\u0441\\u043f\\u0438\\u0439\\u0441\\u043a\\u0438\\u0439\", \"\\u0432\\u0437\\u0440\\u044b\\u0432\", \"\\u0431\\u0440\\u0438\\u0433\\u0430\\u0434\\u0430\", \"\\u0432\\u043e\\u0438\\u043d\\u0441\\u043a\\u0438\\u0439\", \"\\u0434\\u0438\\u0437\\u0435\\u043b\\u044c\\u043d\\u044b\\u0439\", \"\\u0440\\u0435\\u043f\\u0440\\u0435\\u0441\\u0441\\u0438\\u044f\", \"\\u00ab\\u0437\\u0432\\u0451\\u0437\\u0434\\u043e\\u0447\\u043a\\u0430\\u00bb\", \"\\u043b\\u0435\\u043e\\u043d\\u0438\\u0434\", \"\\u043f\\u043e\\u0432\\u043e\\u0434\", \"\\u0437\\u043d\\u0430\\u0447\\u0435\\u043d\\u0438\\u044f;\", \"\\u043d\\u0438\\u043a\\u043e\\u043b\\u0430\\u0435\\u0432\\u044b\\u043c.\", \"\\u0432\\u044b\\u0434\\u0435\\u043b\\u044f\\u044e\\u0442\\u0441\\u044f:\", \"\\u043c\\u0438\\u0440\\u043e\\u043d\\u043e\\u0432\\u0438\\u0447\", \"\\u0443\\u0431\\u0438\\u0439\\u0441\\u0442\\u0432\\u043e\", \"\\u0447\\u0438\\u0441\\u043b\\u0435:\", \"\\u0444\\u0451\\u0434\\u043e\\u0440\\u043e\\u0432\\u0438\\u0447\", \"\\u043c\\u0430\\u0448\\u0438\\u043d\\u043e\\u0441\\u0442\\u0440\\u043e\\u0438\\u0442\\u0435\\u043b\\u044c\", \"\\u043e\\u043f\\u043e\\u0437\\u043d\\u0430\\u0432\\u0430\\u0442\\u0435\\u043b\\u044c\\u043d\\u044b\\u0439\", \"\\u0441\\u0443\\u0434\\u043e\\u0441\\u0442\\u0440\\u043e\\u0438\\u0442\\u0435\\u043b\\u044c\", \"\\u0443\\u0431\\u0438\\u0442\\u044c\", \"\\u0433\\u0435\\u0440\\u0430\\u043b\\u044c\\u0434\\u0438\\u043a\\u0438\", \"1972\", \"\\u0437\\u0440\\u044f\\u0447\\u0435\\u0432\", \"\\u0430\\u0433\\u0440\\u043e\\u043d\\u043e\\u043c\\u0438\\u0438.\", \"\\u0441\\u043a\\u0443\\u043b\\u044c\\u043f\\u0442\\u043e\\u0440\", \"\\u0432\\u044b\\u0440\\u0430\\u0449\\u0438\\u0432\\u0430\\u043d\\u0438\\u0435\", \"\\u0434\\u0438\\u0437\\u0435\\u043b\\u044c-\\u044d\\u043b\\u0435\\u043a\\u0442\\u0440\\u0438\\u0447\\u0435\\u0441\\u043a\\u0438\\u0439\", \"\\u043b\\u043e\\u0434\\u043a\\u0430\", \"\\u0430\\u043d\\u0442\\u0438\\u0446\\u0438\\u043a\\u043b\\u043e\\u043d\", \"\\u0446\\u0435\\u043b\\u044c\\u0441\\u0438\\u0439\", \"\\u0441\\u0445\\u0435\\u043c\\u0430\", \"\\u0437\\u0438\\u043c\\u043d\\u0438\\u0439\", \"\\u0434\\u0432\\u0438\\u0433\\u0430\\u0442\\u0435\\u043b\\u044c\", \"\\u0441\\u0435\\u043b\\u044c\\u0441\\u043a\\u043e\\u0445\\u043e\\u0437\\u044f\\u0439\\u0441\\u0442\\u0432\\u0435\\u043d\\u043d\\u044b\\u0439\", \"\\u043f\\u043e\\u0434\\u0432\\u043e\\u0434\\u043d\\u044b\\u0439\", \"\\u0437\\u043d\\u0430\\u0447\\u0435\\u043d\\u0438\\u0435\", \"\\u0433\\u0440\\u0430\\u0434\\u0443\\u0441\", \"\\u043f\\u043e\\u0447\\u0451\\u0442\\u043d\\u044b\\u0439\", \"\\u043e\\u0431\\u043b\\u0430\\u0441\\u0442\\u043d\\u043e\\u0439\", \"\\u0433\\u043e\\u0434.\", \"\\u0442\\u0435\\u043c\\u043f\\u0435\\u0440\\u0430\\u0442\\u0443\\u0440\\u0430\", \"\\u043f\\u0440\\u0438\\u0437\\u043d\\u0430\\u043a\", \"\\u043f\\u043e\\u0441\\u043b\\u0435\\u0434\\u0441\\u0442\\u0432\\u0438\\u0435\", \"\\u0433\\u0435\\u0440\\u0431\", \"\\u044d\\u043b\\u0435\\u043a\\u0442\\u0440\\u043e\\u043c\\u043e\\u0442\\u043e\\u0440\", \"\\u043f\\u043e\\u0442\\u0435\\u043d\\u0446\\u0438\\u0430\\u043b\", \"\\u0434\\u0440\\u0435\\u0432\\u043d\\u0435\\u0440\\u0443\\u0441\\u0441\\u043a\\u0438\\u0439\", \"\\u043f\\u043e\\u0432\\u044b\\u0448\\u0435\\u043d\\u043d\\u044b\\u0439\", \"\\u0433\\u043e\\u0440\\u043e\\u0434\", \"\\u0433\\u043e\\u0440\\u043e\\u0434\\u0441\\u043a\\u043e\\u0439\", \"\\u0432\\u043e\\u0439\\u043d\\u0430\", \"\\u043c\\u043e\\u0440\\u0435\", \"\\u0440\\u043e\\u0441\\u0441\\u0438\\u044f\", \"\\u0432\\u044b\\u0441\\u043e\\u0442\\u0430\", \"\\u0432\\u043e\\u0434\\u0430\", \"\\u0440\\u043e\\u0441\\u0441\\u0438\\u0438\", \"\\u0440\\u0443\\u0441\\u0441\\u043a\\u0438\\u0439\", \"\\u0440\\u0430\\u0441\\u043f\\u043e\\u043b\\u043e\\u0436\\u0438\\u0442\\u044c\", \"\\u043f\\u0440\\u043e\\u0435\\u043a\\u0442\", \"\\u043d\\u0430\\u0447\\u0430\\u043b\\u043e\", \"\\u0447\\u0430\\u0441\\u0442\\u044c\", \"\\u0432\\u044b\\u0441\\u043e\\u043a\\u0438\\u0439\", \"\\u043c\\u0443\\u043d\\u0438\\u0446\\u0438\\u043f\\u0430\\u043b\\u044c\\u043d\\u044b\\u0439\", \"\\u043d\\u0430\\u0441\\u0435\\u043b\\u0435\\u043d\\u0438\\u0435\", \"\\u0440\\u043e\\u0441\\u0441\\u0438\\u0439\\u0441\\u043a\\u0438\\u0439\", \"\\u0437\\u0435\\u043c\\u043b\\u044f\", \"\\u043e\\u0431\\u043b\\u0430\\u0441\\u0442\\u044c\", \"\\u043e\\u0431\\u0440\\u0430\\u0437\\u043e\\u0432\\u0430\\u043d\\u0438\\u0435\", \"\\u0446\\u0435\\u043d\\u0442\\u0440\", \"\\u0442\\u043e\\u0447\\u043a\\u0430\", \"\\u043e\\u043a\\u0440\\u0443\\u0433\", \"\\u0441\\u0435\\u0432\\u0435\\u0440\\u043d\\u044b\\u0439\", \"\\u0430\\u0440\\u0445\\u0430\\u043d\\u0433\\u0435\\u043b\\u044c\\u0441\\u043a\\u0438\\u0439\", \"\\u043a\\u0440\\u0443\\u043f\\u043d\\u044b\\u0439\", \"\\u0441\\u043e\\u0432\\u0435\\u0442\\u0441\\u043a\\u0438\\u0439\", \"\\u044f\\u0432\\u043b\\u044f\\u0442\\u044c\\u0441\\u044f\", \"\\u0442\\u0435\\u0440\\u0440\\u0438\\u0442\\u043e\\u0440\\u0438\\u044f\", \"\\u0440\\u0430\\u0439\\u043e\\u043d\", \"\\u0441\\u0435\\u0432\\u0435\\u0440\", \"\\u0441\\u0441\\u0441\\u0440\", \"\\u043e\\u0441\\u0442\\u0440\\u043e\\u0432\"], \"Freq\": [42.0, 13.0, 17.0, 93.0, 20.0, 12.0, 18.0, 18.0, 11.0, 26.0, 34.0, 9.0, 11.0, 53.0, 12.0, 14.0, 28.0, 11.0, 61.0, 55.0, 12.0, 31.0, 47.0, 8.0, 9.0, 14.0, 24.0, 22.0, 26.0, 25.0, 7.078318827130167, 5.817400399425206, 2.550677920849156, 15.805838558930898, 1.897080063034707, 2.4848671221431555, 2.410645090761939, 10.724675984077612, 5.310318197856887, 2.9517052552748586, 1.7472672035798926, 1.750323503827739, 1.7433102443082453, 2.3264717825728773, 1.7261954886223483, 1.715255234847613, 5.739048715651479, 1.6777107778232099, 2.238214032366935, 1.6703552862742437, 1.09869486015062, 1.0986340758519904, 1.0961585449352658, 1.0958066531307673, 1.0957205037086017, 1.639204286061579, 1.639758901716101, 1.0931198557058333, 1.0920558347724183, 1.0917628215966464, 3.8078441502279072, 3.77756187263998, 4.258146325622176, 3.231214985539665, 5.750895936874521, 7.082748392537753, 5.179210211340116, 3.147746118087153, 8.0212784657568, 8.053243778432835, 12.821436476588282, 3.170178349929914, 12.138735622292073, 3.1046238309694862, 8.617318915502295, 4.372225245885929, 13.600239869815178, 5.934999946265577, 6.718005801617829, 6.249889686821535, 23.761446325575946, 25.6225472094169, 16.700446752226092, 8.83433029562901, 17.554502289985898, 9.549845471399408, 12.190231291537918, 20.72592707945787, 19.892439108397138, 6.376675351147328, 7.665514340015629, 10.277808220125042, 25.186315449182143, 11.926746273774505, 15.011758264357638, 13.46801213794852, 15.478894996249313, 12.914323821828868, 10.816642299340261, 8.507849350744562, 9.237280910976105, 9.473577670520966, 8.453070672245172, 7.899757707383651, 8.191712644944504, 8.116725979942906, 1.5481391116851733, 1.5470219666095646, 1.5465557031907569, 1.5442498445422657, 2.435009876848227, 7.494616004072342, 1.8306459629646625, 1.8131045598890103, 1.805911391819705, 1.777679043893794, 1.3319251624565458, 1.3501417484324763, 2.6133603523660387, 0.8603172503945908, 0.8602752350578827, 0.8602725645915665, 0.8602200454206813, 1.7368367540228058, 0.8601047702913656, 0.8600912399286968, 0.8601031680115758, 0.8600676508095705, 0.8601014767162423, 0.8599400025196563, 0.8600252794106868, 0.8599962603433842, 0.8599973285299106, 0.8600101467682284, 0.8599659950584673, 0.859960565110291, 2.5427153023441287, 2.432709003070192, 3.25432995032549, 1.6696937535279548, 3.2489213658797547, 3.1466959152957745, 1.212512590661529, 2.209127059244093, 3.7592004786976303, 3.392811787991199, 1.6035594771762751, 2.2292429698796457, 17.647491088716013, 5.251699534529423, 2.2087380613173666, 6.069494949771226, 4.810713325622023, 8.832152172321392, 16.79637573115377, 10.25225274994806, 4.676785167118692, 15.516058754506412, 6.052982210320573, 8.49738963616658, 11.304808859046647, 19.610231133918045, 8.160873849859643, 4.844547421723875, 8.586455028744346, 5.258236123947119, 4.4649249681409025, 5.668300825348199, 9.483723877618317, 10.733566916913949, 6.915473042265459, 7.197495648986278, 8.028195113530115, 4.794593322750939, 4.377531287477074, 5.593105478754579, 5.671480816637525, 8.368020141696084, 6.918718192932901, 6.557994451438559, 6.372775180493316, 5.407044832888646, 5.167415700906349, 1.9068350716252862, 9.902051662948217, 1.3241164996305834, 1.3199698681796495, 1.320002548512394, 2.630368923834294, 3.032642033031247, 1.273006051336877, 6.006802024046041, 2.108580485961511, 1.242761157543318, 1.2248843451662474, 1.2198504845791616, 1.2088040293371527, 1.2004464951142206, 1.9855030010165247, 1.1950635415368427, 1.1945378071582804, 7.998768524513639, 2.3458187527557204, 1.1787693790175835, 3.5770766007644057, 1.1753177493096838, 1.168194023341446, 1.1718279925469155, 1.1703034969222446, 3.116651604707445, 6.827014691183336, 1.1458350614305977, 1.127311848830985, 2.269538833935134, 7.009032413168999, 21.25771514125296, 9.426990905565196, 9.729186445228429, 4.204015768953013, 6.254106671282823, 3.842317555342998, 2.2072556502418648, 2.1969854785961265, 3.43035229741126, 14.449966763158413, 12.12083710217381, 11.27966209647401, 18.74784815696048, 11.533705260731267, 19.250102303015968, 7.732831059868962, 8.819976684863768, 24.721084965406117, 13.306057243692269, 15.368784876532873, 15.078515144449652, 4.89455790350342, 7.216893407106155, 7.283344087385879, 5.350938582689655, 5.583801874682343, 6.99600251311657, 5.798090335908827, 8.753617844698628, 6.314587744114543, 7.761723825844147, 6.570110405692154, 6.730550393311014, 6.09632736552372, 6.231818349168138, 6.245831005483202, 1.4780682794348485, 1.9583876430875087, 1.8761583430318438, 1.3860732686314174, 2.2463012115985936, 3.090527887964045, 1.3041502035798935, 1.6685111797197327, 1.6137419269727575, 0.8219576699762136, 0.8218299095127025, 0.8218210508037187, 0.8217778138020724, 0.8217266120895966, 0.8216764669203941, 0.8216476964343363, 0.8215845476556162, 0.8213713697320859, 0.821370882096729, 0.8212605952335074, 0.8210774881569867, 0.8209793921776878, 0.8210459544039064, 0.8209780105441765, 0.8208938121725496, 0.8209044588778422, 0.820931197549913, 0.8208117268874694, 0.8205887962568009, 0.8205764428277592, 1.6030181752937775, 2.7789015873170237, 10.481926153501837, 3.1480048173028363, 1.2049261611553548, 3.638594919387905, 1.6026352189934825, 1.5882680184727718, 4.955456476361553, 4.324517766571856, 2.196694066739893, 2.56802822848358, 4.208635125084475, 1.9078666695699547, 2.4124569452970976, 1.171802229176127, 2.0757323779200316, 2.7275444817074836, 1.1500056601751774, 2.1072747458916736, 1.4764644467459636, 2.035371774699105, 24.38521640286495, 8.6051158419978, 8.441992712583934, 5.281853251969452, 10.79337365451799, 4.206337387282704, 4.5275317438128235, 6.428305106936011, 7.65510463966103, 7.031631627185662, 3.0416105845902575, 4.508364748474024, 8.384970584488023, 5.259611878250439, 6.355229372710068, 6.708038754880009, 8.807537829915477, 5.519892451446249, 8.45335526658047, 6.346866751429258, 8.221016524425979, 4.081494933747415, 5.016169353928815, 7.373241650658514, 7.986397599342567, 6.643157895372098, 5.536117055041438, 7.033991132132642, 5.260143400789473, 5.046023365749707, 4.649231875108169, 4.536473675897645, 4.529300559797464], \"Total\": [42.0, 13.0, 17.0, 93.0, 20.0, 12.0, 18.0, 18.0, 11.0, 26.0, 34.0, 9.0, 11.0, 53.0, 12.0, 14.0, 28.0, 11.0, 61.0, 55.0, 12.0, 31.0, 47.0, 8.0, 9.0, 14.0, 24.0, 22.0, 26.0, 25.0, 8.348673423280912, 7.379099323240326, 3.2459267758900343, 20.371216536039547, 2.448975617995697, 3.2663970094907726, 3.228982187309145, 14.532359231662452, 7.222106464381983, 4.028398717055165, 2.402173525950421, 2.4069865064209264, 2.398894232741589, 3.2051439649591527, 2.3956284278683073, 2.397921732069924, 8.032332677662575, 2.3807838415477325, 3.1833856071167252, 2.381325771132417, 1.5854452262153178, 1.5853902661188992, 1.584930352276308, 1.5848626778261559, 1.5848474088962123, 2.374317224335872, 2.3764566125875297, 1.5842306383613265, 1.5839818885664836, 1.5839000825593221, 5.531912186952483, 5.508817359587701, 6.234602049722953, 4.722576949225042, 8.567730292254872, 10.77447338067673, 7.811880661952433, 4.6875102841501715, 12.413295615103092, 12.494701838518884, 20.895606770194952, 4.77094426825172, 21.187329486683495, 4.668910892372557, 15.095201749677198, 6.928849562430246, 26.056933663326944, 9.946228274238287, 11.529956239955666, 10.732185949087665, 55.06511405691363, 61.22706725347152, 36.7193356598567, 17.075058092958365, 41.748300049887845, 19.062157832946504, 26.878365773727186, 55.28163413948516, 53.82060027576641, 11.417565132025583, 14.83706906910689, 23.366123113176346, 93.90284795137126, 29.805026123852485, 47.794214829576305, 39.976928019252966, 55.57480239627871, 41.52406984294206, 34.863832347302896, 21.08592603605988, 28.768362504785596, 42.33531062896219, 29.4019983264162, 19.02785840302787, 31.239700358011376, 29.981330169259415, 2.0831923247965234, 2.083309758613973, 2.083159351602975, 2.082465828615568, 3.479212676907329, 11.10330841089975, 2.7149894885997794, 2.7121651336736754, 2.7108255254087648, 2.7076270687348676, 2.0803419507294407, 2.1385453835728065, 4.213785020471137, 1.393931332637613, 1.3939223441233695, 1.3939455788310273, 1.3939173602859787, 2.814771418187247, 1.3939317526847217, 1.393920069900727, 1.3939465268919042, 1.3939309774939557, 1.3939991828027294, 1.3937760359626874, 1.3939539399787473, 1.3939167411180862, 1.3939251847441612, 1.39394740766779, 1.3939206866630571, 1.3939240175224747, 4.152932438433826, 4.069272711214083, 5.570198605121102, 2.8043392212168285, 5.994481411841469, 6.067158325106561, 2.057249146047935, 4.1019585429485454, 7.563434513559664, 6.769380952132048, 2.8528983704008852, 4.19287100602385, 47.794214829576305, 11.497296058309756, 4.230181693483363, 14.348373839166598, 11.338270198952397, 24.473592325650685, 55.57480239627871, 29.805026123852485, 11.123038597951153, 55.06511405691363, 15.889131352724661, 26.878365773727186, 41.748300049887845, 93.90284795137126, 26.818737227257408, 12.296642263001441, 29.981330169259415, 14.14482350140448, 10.952083101155436, 16.577970886574718, 39.976928019252966, 55.28163413948516, 26.4190767003078, 29.4019983264162, 36.7193356598567, 13.753879639920306, 11.428808544483347, 20.31877555442553, 21.08592603605988, 61.22706725347152, 41.52406984294206, 42.33531062896219, 53.82060027576641, 34.863832347302896, 31.239700358011376, 2.4742598390295703, 13.634181644553044, 1.883497509857624, 1.8845230695901798, 1.8845940740137577, 3.798339503460226, 4.48282149152736, 1.8895339198000751, 9.023532495664677, 3.2567073918780483, 1.9226905523973203, 1.895315778507187, 1.900261135033839, 1.8972057682701966, 1.9040970340792807, 3.159644784333309, 1.90449879969818, 1.905068858284318, 12.788196969788737, 3.7552268412992538, 1.9006079550439252, 5.8063071972500895, 1.9082844988115981, 1.901921441736397, 1.9084441888951997, 1.9086799137540145, 5.144678269126269, 11.32877291306376, 1.91304736955689, 1.9089045415371455, 3.860737816650269, 12.067339715391771, 42.33531062896219, 18.13342915916314, 18.903088581216466, 7.684021225443648, 12.09222818331763, 7.046164953162152, 3.819702062159049, 3.802298678328718, 6.363296622387879, 34.863832347302896, 28.768362504785596, 26.67316935217332, 53.82060027576641, 31.239700358011376, 61.22706725347152, 19.65266595399516, 23.506845141255333, 93.90284795137126, 41.52406984294206, 55.28163413948516, 55.57480239627871, 11.112199990617999, 21.12813637254562, 22.144563098809023, 13.77885285166631, 15.674225996063415, 24.473592325650685, 19.619329007044715, 55.06511405691363, 25.50494223298061, 47.794214829576305, 29.981330169259415, 36.7193356598567, 29.4019983264162, 39.976928019252966, 41.748300049887845, 2.022266450335323, 2.7304800230133806, 2.669628165848923, 2.02992603356583, 3.4005251762677093, 4.804261688512721, 2.065177770523463, 2.695435507025863, 2.6758175796744634, 1.363487351229804, 1.3634815869523935, 1.3634901932305525, 1.3635197448244725, 1.3634645034662622, 1.3634497668606262, 1.3634487181915846, 1.3635208116091224, 1.3634390191845394, 1.3635835303714154, 1.3635253014649287, 1.363521898052154, 1.363543879688036, 1.3636873304793193, 1.363593121546757, 1.3635586371534831, 1.363628977646496, 1.363691997761049, 1.3636161322865945, 1.3635546729934118, 1.3635948670248967, 2.674400761494943, 4.66721019216472, 17.88228145224251, 5.3543946241525875, 2.0232893388484054, 6.366910816142084, 2.724466978679514, 2.7413518904020977, 9.41056314421045, 8.407640203493461, 4.018466830804764, 4.809684897648175, 8.393904037399423, 3.488599510597565, 4.6167011937548335, 2.0496813825160123, 3.973685950238835, 5.459481154111895, 2.0212058400951323, 4.206620838121646, 2.7575435249861133, 4.093759230361265, 93.90284795137126, 25.50494223298061, 26.818737227257408, 14.673831360561355, 39.976928019252966, 10.994677008219929, 12.437369546083556, 22.144563098809023, 29.4019983264162, 26.4190767003078, 7.162247905426124, 14.326354226760627, 41.52406984294206, 19.02785840302787, 26.67316935217332, 29.981330169259415, 53.82060027576641, 22.38935172626279, 55.28163413948516, 31.239700358011376, 55.57480239627871, 12.671114425427929, 20.073273203841502, 47.794214829576305, 61.22706725347152, 41.748300049887845, 26.056933663326944, 55.06511405691363, 36.7193356598567, 42.33531062896219, 21.12813637254562, 21.187329486683495, 20.31877555442553], \"Category\": [\"Default\", \"Default\", \"Default\", \"Default\", \"Default\", \"Default\", \"Default\", \"Default\", \"Default\", \"Default\", \"Default\", \"Default\", \"Default\", \"Default\", \"Default\", \"Default\", \"Default\", \"Default\", \"Default\", \"Default\", \"Default\", \"Default\", \"Default\", \"Default\", \"Default\", \"Default\", \"Default\", \"Default\", \"Default\", \"Default\", \"Topic1\", \"Topic1\", \"Topic1\", \"Topic1\", \"Topic1\", \"Topic1\", \"Topic1\", \"Topic1\", \"Topic1\", \"Topic1\", \"Topic1\", \"Topic1\", \"Topic1\", \"Topic1\", \"Topic1\", \"Topic1\", \"Topic1\", \"Topic1\", \"Topic1\", \"Topic1\", \"Topic1\", \"Topic1\", \"Topic1\", \"Topic1\", \"Topic1\", \"Topic1\", \"Topic1\", \"Topic1\", \"Topic1\", \"Topic1\", \"Topic1\", \"Topic1\", \"Topic1\", \"Topic1\", \"Topic1\", \"Topic1\", \"Topic1\", \"Topic1\", \"Topic1\", \"Topic1\", \"Topic1\", \"Topic1\", \"Topic1\", \"Topic1\", \"Topic1\", \"Topic1\", \"Topic1\", \"Topic1\", \"Topic1\", \"Topic1\", \"Topic1\", \"Topic1\", \"Topic1\", \"Topic1\", \"Topic1\", \"Topic1\", \"Topic1\", \"Topic1\", \"Topic1\", \"Topic1\", \"Topic1\", \"Topic1\", \"Topic1\", \"Topic1\", \"Topic1\", \"Topic1\", \"Topic1\", \"Topic1\", \"Topic1\", \"Topic1\", \"Topic1\", \"Topic1\", \"Topic1\", \"Topic1\", \"Topic1\", \"Topic1\", \"Topic2\", \"Topic2\", \"Topic2\", \"Topic2\", \"Topic2\", \"Topic2\", \"Topic2\", \"Topic2\", \"Topic2\", \"Topic2\", \"Topic2\", \"Topic2\", \"Topic2\", \"Topic2\", \"Topic2\", \"Topic2\", \"Topic2\", \"Topic2\", \"Topic2\", \"Topic2\", \"Topic2\", \"Topic2\", \"Topic2\", \"Topic2\", \"Topic2\", \"Topic2\", \"Topic2\", \"Topic2\", \"Topic2\", \"Topic2\", \"Topic2\", \"Topic2\", \"Topic2\", \"Topic2\", \"Topic2\", \"Topic2\", \"Topic2\", \"Topic2\", \"Topic2\", \"Topic2\", \"Topic2\", \"Topic2\", \"Topic2\", \"Topic2\", \"Topic2\", \"Topic2\", \"Topic2\", \"Topic2\", \"Topic2\", \"Topic2\", \"Topic2\", \"Topic2\", \"Topic2\", \"Topic2\", \"Topic2\", \"Topic2\", \"Topic2\", \"Topic2\", \"Topic2\", \"Topic2\", \"Topic2\", \"Topic2\", \"Topic2\", \"Topic2\", \"Topic2\", \"Topic2\", \"Topic2\", \"Topic2\", \"Topic2\", \"Topic2\", \"Topic2\", \"Topic2\", \"Topic2\", \"Topic2\", \"Topic2\", \"Topic2\", \"Topic2\", \"Topic3\", \"Topic3\", \"Topic3\", \"Topic3\", \"Topic3\", \"Topic3\", \"Topic3\", \"Topic3\", \"Topic3\", \"Topic3\", \"Topic3\", \"Topic3\", \"Topic3\", \"Topic3\", \"Topic3\", \"Topic3\", \"Topic3\", \"Topic3\", \"Topic3\", \"Topic3\", \"Topic3\", \"Topic3\", \"Topic3\", \"Topic3\", \"Topic3\", \"Topic3\", \"Topic3\", \"Topic3\", \"Topic3\", \"Topic3\", \"Topic3\", \"Topic3\", \"Topic3\", \"Topic3\", \"Topic3\", \"Topic3\", \"Topic3\", \"Topic3\", \"Topic3\", \"Topic3\", \"Topic3\", \"Topic3\", \"Topic3\", \"Topic3\", \"Topic3\", \"Topic3\", \"Topic3\", \"Topic3\", \"Topic3\", \"Topic3\", \"Topic3\", \"Topic3\", \"Topic3\", \"Topic3\", \"Topic3\", \"Topic3\", \"Topic3\", \"Topic3\", \"Topic3\", \"Topic3\", \"Topic3\", \"Topic3\", \"Topic3\", \"Topic3\", \"Topic3\", \"Topic3\", \"Topic3\", \"Topic3\", \"Topic4\", \"Topic4\", \"Topic4\", \"Topic4\", \"Topic4\", \"Topic4\", \"Topic4\", \"Topic4\", \"Topic4\", \"Topic4\", \"Topic4\", \"Topic4\", \"Topic4\", \"Topic4\", \"Topic4\", \"Topic4\", \"Topic4\", \"Topic4\", \"Topic4\", \"Topic4\", \"Topic4\", \"Topic4\", \"Topic4\", \"Topic4\", \"Topic4\", \"Topic4\", \"Topic4\", \"Topic4\", \"Topic4\", \"Topic4\", \"Topic4\", \"Topic4\", \"Topic4\", \"Topic4\", \"Topic4\", \"Topic4\", \"Topic4\", \"Topic4\", \"Topic4\", \"Topic4\", \"Topic4\", \"Topic4\", \"Topic4\", \"Topic4\", \"Topic4\", \"Topic4\", \"Topic4\", \"Topic4\", \"Topic4\", \"Topic4\", \"Topic4\", \"Topic4\", \"Topic4\", \"Topic4\", \"Topic4\", \"Topic4\", \"Topic4\", \"Topic4\", \"Topic4\", \"Topic4\", \"Topic4\", \"Topic4\", \"Topic4\", \"Topic4\", \"Topic4\", \"Topic4\", \"Topic4\", \"Topic4\", \"Topic4\", \"Topic4\", \"Topic4\", \"Topic4\", \"Topic4\", \"Topic4\", \"Topic4\", \"Topic4\", \"Topic4\", \"Topic4\", \"Topic4\", \"Topic4\", \"Topic4\", \"Topic4\", \"Topic4\", \"Topic4\", \"Topic4\"], \"logprob\": [30.0, 29.0, 28.0, 27.0, 26.0, 25.0, 24.0, 23.0, 22.0, 21.0, 20.0, 19.0, 18.0, 17.0, 16.0, 15.0, 14.0, 13.0, 12.0, 11.0, 10.0, 9.0, 8.0, 7.0, 6.0, 5.0, 4.0, 3.0, 2.0, 1.0, -6.4583, -6.6545, -7.479, -5.6549, -7.775, -7.5051, -7.5354, -6.0428, -6.7457, -7.3329, -7.8573, -7.8555, -7.8595, -7.571, -7.8694, -7.8758, -6.668, -7.8979, -7.6096, -7.9023, -8.3212, -8.3213, -8.3235, -8.3238, -8.3239, -7.9211, -7.9208, -8.3263, -8.3273, -8.3275, -7.0783, -7.0862, -6.9665, -7.2425, -6.666, -6.4577, -6.7707, -7.2686, -6.3332, -6.3293, -5.8642, -7.2615, -5.9189, -7.2824, -6.2616, -6.9401, -5.8052, -6.6345, -6.5105, -6.5828, -5.2473, -5.1719, -5.5999, -6.2367, -5.55, -6.1588, -5.9147, -5.3839, -5.425, -6.5627, -6.3786, -6.0853, -5.189, -5.9365, -5.7065, -5.815, -5.6758, -5.857, -6.0342, -6.2743, -6.1921, -6.1668, -6.2808, -6.3485, -6.3122, -6.3214, -7.5886, -7.5894, -7.5897, -7.5912, -7.1357, -6.0115, -7.421, -7.4307, -7.4346, -7.4504, -7.7391, -7.7255, -7.0651, -8.1762, -8.1762, -8.1762, -8.1763, -7.4736, -8.1764, -8.1764, -8.1764, -8.1764, -8.1764, -8.1766, -8.1765, -8.1765, -8.1765, -8.1765, -8.1766, -8.1766, -7.0925, -7.1367, -6.8457, -7.5131, -6.8474, -6.8793, -7.833, -7.2331, -6.7015, -6.804, -7.5535, -7.224, -5.1551, -6.3671, -7.2333, -6.2224, -6.4549, -5.8473, -5.2045, -5.6982, -6.4831, -5.2838, -6.2251, -5.8859, -5.6005, -5.0496, -5.9263, -6.4478, -5.8755, -6.3659, -6.5294, -6.2908, -5.7761, -5.6523, -6.0919, -6.052, -5.9427, -6.4582, -6.5492, -6.3042, -6.2902, -5.9013, -6.0915, -6.145, -6.1737, -6.338, -6.3833, -7.3198, -5.6725, -7.6845, -7.6877, -7.6876, -6.9981, -6.8558, -7.7239, -6.1724, -7.2193, -7.7479, -7.7624, -7.7665, -7.7756, -7.7826, -7.2794, -7.7871, -7.7875, -5.886, -7.1126, -7.8008, -6.6907, -7.8037, -7.8098, -7.8067, -7.808, -6.8285, -6.0444, -7.8291, -7.8454, -7.1457, -6.0181, -4.9085, -5.7217, -5.6901, -6.5292, -6.132, -6.6192, -7.1735, -7.1782, -6.7326, -5.2946, -5.4703, -5.5423, -5.0342, -5.52, -5.0078, -5.9198, -5.7882, -4.7576, -5.377, -5.2329, -5.252, -6.3771, -5.9888, -5.9797, -6.288, -6.2454, -6.0199, -6.2077, -5.7958, -6.1224, -5.9161, -6.0827, -6.0586, -6.1576, -6.1356, -6.1334, -7.544, -7.2626, -7.3055, -7.6082, -7.1254, -6.8064, -7.6691, -7.4228, -7.4561, -8.1308, -8.1309, -8.1309, -8.131, -8.131, -8.1311, -8.1311, -8.1312, -8.1315, -8.1315, -8.1316, -8.1318, -8.132, -8.1319, -8.132, -8.1321, -8.132, -8.132, -8.1322, -8.1324, -8.1324, -7.4628, -6.9126, -5.585, -6.7879, -7.7483, -6.6431, -7.463, -7.472, -6.3342, -6.4704, -7.1477, -6.9916, -6.4976, -7.2887, -7.054, -7.7762, -7.2044, -6.9313, -7.7949, -7.1893, -7.545, -7.224, -4.7407, -5.7823, -5.8015, -6.2704, -5.5558, -6.4981, -6.4245, -6.074, -5.8993, -5.9843, -6.8223, -6.4288, -5.8083, -6.2746, -6.0854, -6.0314, -5.7591, -6.2263, -5.8001, -6.0867, -5.828, -6.5282, -6.322, -5.9368, -5.857, -6.0411, -6.2234, -5.9839, -6.2745, -6.3161, -6.398, -6.4225, -6.4241], \"loglift\": [30.0, 29.0, 28.0, 27.0, 26.0, 25.0, 24.0, 23.0, 22.0, 21.0, 20.0, 19.0, 18.0, 17.0, 16.0, 15.0, 14.0, 13.0, 12.0, 11.0, 10.0, 9.0, 8.0, 7.0, 6.0, 5.0, 4.0, 3.0, 2.0, 1.0, 0.9111, 0.8383, 0.8351, 0.8224, 0.8208, 0.8027, 0.7839, 0.7723, 0.7686, 0.7651, 0.7578, 0.7576, 0.7569, 0.7557, 0.7484, 0.7411, 0.7399, 0.7261, 0.7239, 0.7215, 0.7094, 0.7094, 0.7074, 0.7071, 0.707, 0.7056, 0.7051, 0.7051, 0.7042, 0.704, 0.7027, 0.6989, 0.6948, 0.6966, 0.6775, 0.6566, 0.6651, 0.6779, 0.6395, 0.6369, 0.5877, 0.6674, 0.5191, 0.6681, 0.5155, 0.6157, 0.4259, 0.5598, 0.536, 0.5354, 0.2357, 0.205, 0.2883, 0.4172, 0.2098, 0.3849, 0.2854, 0.0951, 0.0808, 0.4936, 0.4157, 0.2548, -0.2398, 0.1602, -0.0819, -0.0119, -0.2021, -0.0918, -0.0942, 0.1685, -0.0599, -0.421, -0.1704, 0.1971, -0.2624, -0.2305, 1.1689, 1.1681, 1.1679, 1.1667, 1.1089, 1.0727, 1.0716, 1.063, 1.0596, 1.045, 1.0198, 1.0058, 0.988, 0.9832, 0.9831, 0.9831, 0.9831, 0.9829, 0.9829, 0.9829, 0.9829, 0.9829, 0.9829, 0.9828, 0.9828, 0.9828, 0.9828, 0.9828, 0.9828, 0.9828, 0.9752, 0.9513, 0.9283, 0.9472, 0.8532, 0.8092, 0.9371, 0.8469, 0.7666, 0.775, 0.8896, 0.834, 0.4694, 0.6822, 0.8159, 0.6054, 0.6084, 0.4466, 0.2692, 0.3986, 0.5993, 0.1991, 0.5007, 0.3142, 0.1593, -0.1005, 0.276, 0.5343, 0.2154, 0.4762, 0.5685, 0.3926, 0.027, -0.1733, 0.1254, 0.0584, -0.0546, 0.4119, 0.5061, 0.1757, 0.1526, -0.5244, -0.3263, -0.3992, -0.6679, -0.398, -0.3336, 1.2657, 1.2063, 1.1738, 1.1701, 1.1701, 1.1587, 1.1354, 1.1312, 1.1192, 1.0915, 1.0898, 1.0896, 1.0829, 1.0754, 1.0649, 1.0616, 1.0602, 1.0594, 1.0569, 1.0557, 1.0485, 1.0418, 1.0415, 1.0388, 1.0385, 1.037, 1.025, 1.0197, 1.0136, 0.9995, 0.9949, 0.9829, 0.8373, 0.872, 0.862, 0.9231, 0.8669, 0.9198, 0.9778, 0.9777, 0.9083, 0.6454, 0.6618, 0.6655, 0.4716, 0.5298, 0.3691, 0.5934, 0.5459, 0.1916, 0.3881, 0.2461, 0.2217, 0.7063, 0.452, 0.4142, 0.5803, 0.494, 0.2739, 0.3072, -0.3129, 0.1302, -0.2915, 0.0081, -0.1705, -0.0472, -0.3325, -0.3736, 1.2433, 1.2244, 1.204, 1.1752, 1.1421, 1.1156, 1.0971, 1.0771, 1.0511, 1.0506, 1.0505, 1.0505, 1.0504, 1.0504, 1.0503, 1.0503, 1.0502, 1.05, 1.0499, 1.0498, 1.0495, 1.0494, 1.0494, 1.0494, 1.0493, 1.0493, 1.0492, 1.0492, 1.0489, 1.0489, 1.0449, 1.0383, 1.0226, 1.0256, 1.0385, 0.9972, 1.0261, 1.0109, 0.9154, 0.8919, 0.9528, 0.9293, 0.8664, 0.9532, 0.9077, 0.9976, 0.9074, 0.8628, 0.9928, 0.8655, 0.9321, 0.858, 0.2085, 0.4702, 0.4009, 0.535, 0.2474, 0.5959, 0.5462, 0.3199, 0.2111, 0.2331, 0.7003, 0.4006, -0.0431, 0.2709, 0.1224, 0.0595, -0.2533, 0.1565, -0.3211, -0.037, -0.3543, 0.4239, 0.17, -0.3123, -0.4801, -0.2813, 0.0078, -0.501, -0.3864, -0.5703, 0.0429, 0.0155, 0.0558]}, \"token.table\": {\"Topic\": [4, 1, 4, 3, 3, 2, 1, 2, 1, 4, 3, 1, 2, 3, 4, 4, 1, 2, 3, 4, 1, 2, 3, 4, 1, 1, 3, 1, 2, 1, 2, 3, 4, 1, 2, 3, 4, 1, 2, 3, 4, 2, 3, 1, 2, 3, 4, 1, 2, 3, 2, 3, 4, 4, 4, 1, 2, 3, 2, 3, 1, 2, 4, 1, 4, 1, 3, 4, 1, 2, 3, 4, 1, 2, 3, 4, 1, 2, 3, 4, 1, 2, 3, 4, 1, 2, 3, 4, 4, 1, 2, 3, 4, 2, 1, 2, 3, 4, 1, 2, 3, 4, 4, 4, 1, 2, 3, 4, 1, 1, 2, 4, 2, 1, 2, 3, 1, 1, 1, 4, 2, 1, 2, 3, 4, 2, 2, 1, 3, 4, 3, 1, 4, 1, 1, 2, 3, 1, 2, 3, 4, 1, 2, 3, 4, 1, 2, 3, 4, 1, 2, 3, 4, 2, 3, 4, 1, 1, 2, 4, 3, 1, 3, 4, 1, 4, 1, 3, 4, 4, 1, 2, 3, 4, 1, 3, 1, 2, 2, 1, 1, 4, 1, 2, 3, 4, 1, 2, 3, 4, 3, 1, 2, 3, 4, 1, 2, 4, 1, 2, 3, 4, 4, 4, 2, 1, 4, 1, 2, 3, 4, 2, 2, 1, 2, 4, 2, 4, 1, 3, 1, 2, 4, 2, 3, 4, 1, 2, 4, 3, 3, 1, 2, 3, 4, 2, 1, 3, 4, 1, 3, 4, 1, 2, 1, 2, 1, 2, 1, 3, 4, 1, 2, 3, 4, 1, 2, 3, 3, 4, 1, 2, 3, 4, 2, 4, 2, 3, 3, 3, 4, 2, 3, 4, 2, 3, 4, 3, 1, 2, 3, 4, 1, 1, 2, 3, 4, 4, 3, 1, 2, 3, 4, 1, 2, 3, 4, 1, 2, 3, 4, 1, 2, 3, 4, 1, 2, 3, 4, 1, 2, 3, 4, 1, 2, 3, 1, 2, 4, 3, 1, 2, 3, 4, 1, 2, 3, 4, 1, 2, 3, 4, 1, 2, 3, 4, 1, 2, 3, 4, 1, 2, 3, 4, 1, 2, 3, 4, 1, 2, 3, 4, 4, 1, 2, 3, 4, 1, 1, 1, 2, 3, 4, 1, 2, 3, 4, 1, 2, 3, 4, 1, 4, 1, 2, 4, 1, 2, 3, 4, 1, 2, 3, 1, 3, 4, 1, 2, 3, 4, 1, 2, 4, 1, 3, 4, 1, 2, 3, 4, 1, 3, 4, 2, 4, 1, 2, 3, 4, 1, 1, 2, 3, 1, 2, 2, 3, 4, 1, 2, 3, 4, 1, 2, 3, 4, 3, 1, 1, 2, 3, 4, 2, 3, 4, 4, 1, 2, 3, 4, 1, 2, 3, 4, 1, 2, 3, 4, 1, 2, 3, 4, 1, 2, 3, 4, 4, 1, 2, 3, 4, 2, 1, 2, 3, 4, 1, 2, 3, 4, 1, 2, 3, 4, 1, 2, 3, 4, 1, 4, 1, 2, 3, 4, 1, 2, 3, 4, 2, 3, 4, 1, 2, 3, 4, 1, 2, 3, 4, 1, 2, 3, 4, 1, 3, 4, 1, 4, 1, 2, 3, 4, 1, 2, 3, 4, 1, 2, 3, 4, 3, 1, 2, 3, 4, 1, 2, 3, 4, 4, 1, 4, 1, 3, 4, 2, 3, 4, 1, 2, 3, 4, 1, 2, 3, 4, 2, 4, 4, 3, 2, 1, 2, 4, 1, 2, 3, 4, 1, 2, 3, 4, 2, 1, 2, 3, 4, 4, 2, 4, 1, 2, 1, 2, 3, 4, 1, 2, 3, 4, 1, 2, 3, 4, 4, 1, 2, 3, 4, 2, 4, 2, 1, 2, 3, 4], \"Freq\": [0.7333373053760651, 0.7447127781316186, 0.24823759271053955, 0.5249154095671837, 0.5250725283515418, 0.7173881213057164, 0.8384565601140854, 0.1197795085877265, 0.8348540102187935, 0.7334165782430294, 0.525183318970688, 0.6400507401952994, 0.12801014803905988, 0.12801014803905988, 0.12801014803905988, 0.7333442134650747, 0.35996472376101846, 0.08999118094025461, 0.4499559047012731, 0.08999118094025461, 0.3128436663193067, 0.13904162947524742, 0.4171248884257423, 0.10428122210643558, 0.8325793196845341, 0.22307379445958847, 0.6692213833787654, 0.44317198591920526, 0.44317198591920526, 0.16776382857030742, 0.22368510476040987, 0.05592127619010247, 0.5592127619010246, 0.42464878960090685, 0.13066116603104827, 0.31032026932373963, 0.13066116603104827, 0.08827081341235565, 0.1765416268247113, 0.6178956938864896, 0.1765416268247113, 0.2629988027241314, 0.5259976054482628, 0.07334506947833627, 0.14669013895667254, 0.7334506947833627, 0.07334506947833627, 0.6312212223305853, 0.7386541607203296, 0.3693270803601648, 0.5004603057194931, 0.16682010190649768, 0.16682010190649768, 0.4842198159757108, 0.7491680023401365, 0.6307595179375242, 0.7377826353093752, 0.3688913176546876, 0.7374182254496299, 0.36870911272481494, 0.4181658540023446, 0.4181658540023446, 0.06969430900039077, 0.7569314675371975, 0.20643585478287205, 0.2081485282933401, 0.2081485282933401, 0.6244455848800203, 0.525506089137198, 0.175168696379066, 0.087584348189533, 0.087584348189533, 0.6032437457262662, 0.20108124857542203, 0.20108124857542203, 0.10054062428771102, 0.15715124711956957, 0.15715124711956957, 0.4714537413587087, 0.31430249423913914, 0.24120856012875166, 0.3216114135050022, 0.1608057067525011, 0.40201426688125275, 0.08286830598831241, 0.16573661197662481, 0.5800781419181869, 0.16573661197662481, 0.7419951227869649, 0.2610115435593851, 0.29829890692501154, 0.11186209009687934, 0.29829890692501154, 0.46760756525509345, 0.3619260789545094, 0.3619260789545094, 0.12064202631816981, 0.1809630394772547, 0.2544184087647181, 0.1526510452588309, 0.407069454023549, 0.1526510452588309, 0.7334342587716491, 0.7333556499679474, 0.42043617471564604, 0.21021808735782302, 0.10510904367891151, 0.2627726091972788, 0.6309694928090738, 0.3638124154997448, 0.2728593116248086, 0.3638124154997448, 0.7174012496076755, 0.6496837249191236, 0.09281196070273194, 0.18562392140546388, 0.6193902239103677, 0.8423474249779014, 0.8337174572779266, 0.7333751352912586, 0.9600108633536095, 0.183167588965269, 0.183167588965269, 0.183167588965269, 0.549502766895807, 0.7173952369432675, 0.7174000791478056, 0.5772964132009568, 0.1443241033002392, 0.1443241033002392, 0.5276165646590211, 0.28664797921407414, 0.5732959584281483, 0.8309145043666673, 0.25901784775109127, 0.25901784775109127, 0.5180356955021825, 0.2662326068421967, 0.21298608547375736, 0.2662326068421967, 0.25558330256850886, 0.2744566106465536, 0.15683234894088777, 0.23524852341133162, 0.35287278511699743, 0.4279700124647943, 0.21398500623239716, 0.17118800498591774, 0.17118800498591774, 0.4026166576783032, 0.335513881398586, 0.2013083288391516, 0.0671027762797172, 0.24885112708513601, 0.24885112708513601, 0.49770225417027203, 0.6239969317651192, 0.23731633083839465, 0.711948992515184, 0.7340885448974513, 0.5306182449519365, 0.6399985958737772, 0.21333286529125906, 0.21333286529125906, 0.8131073640793964, 0.13551789401323275, 0.26327293784271155, 0.7898188135281348, 0.7478310763275565, 0.7474351073825135, 0.5245995803642061, 0.15737987410926182, 0.26229979018210303, 0.05245995803642061, 0.8166679918344185, 0.5227262094569175, 0.8415891076683126, 0.7173871801039449, 0.9603999126984994, 0.630942551238154, 0.3626416014612266, 0.3626416014612266, 0.1322150668730202, 0.5288602674920808, 0.2644301337460404, 0.1322150668730202, 0.3403264007537839, 0.17016320037689195, 0.38286720084800685, 0.12762240028266897, 0.530638237406914, 0.31264862357711654, 0.17865635632978089, 0.2679845344946713, 0.2679845344946713, 0.31412407959750005, 0.15706203979875002, 0.6282481591950001, 0.23787887583117312, 0.11893943791558656, 0.11893943791558656, 0.47575775166234624, 0.7334257675632582, 0.7333034157579793, 0.7173838183026667, 0.6282619345670322, 0.3141309672835161, 0.13014019231086435, 0.13014019231086435, 0.5205607692434574, 0.13014019231086435, 0.7173876333905788, 0.7174009321821071, 0.6122954417937695, 0.29407222360210933, 0.5881444472042187, 0.7174029628181965, 0.494494679390139, 0.3070585962048402, 0.6141171924096804, 0.2385000632176166, 0.4770001264352332, 0.2385000632176166, 0.494465421742115, 0.16482180724737167, 0.16482180724737167, 0.17952681239778862, 0.5385804371933659, 0.17952681239778862, 0.5257840718631523, 0.5292310392108793, 0.62214034476103, 0.19142779838800922, 0.14357084879100693, 0.09571389919400461, 0.717360535312103, 0.6425481379182026, 0.21418271263940086, 0.21418271263940086, 0.7003021565027473, 0.11671702608379121, 0.11671702608379121, 0.35526863515049273, 0.7105372703009855, 0.5218618333885084, 0.43488486115709035, 0.6288063392321558, 0.20960211307738527, 0.6415806442975375, 0.16039516107438437, 0.16039516107438437, 0.1722265057683492, 0.1722265057683492, 0.6889060230733968, 0.1722265057683492, 0.194375614506567, 0.194375614506567, 0.583126843519701, 0.5325909950377403, 0.26629549751887016, 0.43115528005908244, 0.2634837822583282, 0.1437184266863608, 0.1676714978007543, 0.5748426973937677, 0.28742134869688385, 0.3164912729932083, 0.6329825459864166, 0.530927168613879, 0.526147434743789, 0.7334119489562841, 0.21426075938872283, 0.21426075938872283, 0.6427822781661685, 0.9600649811319513, 0.5201044956262686, 0.7333948955484619, 0.5270909548792716, 0.3635337905304638, 0.3635337905304638, 0.14541351621218554, 0.07270675810609277, 0.834055579567882, 0.32529205245202075, 0.4066150655650259, 0.16264602622601038, 0.16264602622601038, 0.7333954799119471, 0.5262434628397493, 0.2725941099984795, 0.2725941099984795, 0.13629705499923975, 0.34074263749809935, 0.2645906251446703, 0.44098437524111717, 0.08819687504822343, 0.17639375009644687, 0.22494514696698845, 0.11247257348349422, 0.4123994361061455, 0.22494514696698845, 0.6402713808934168, 0.1600678452233542, 0.0800339226116771, 0.0800339226116771, 0.2668327240598082, 0.30018681456728424, 0.23347863355233217, 0.23347863355233217, 0.3490071459115781, 0.20940428754694687, 0.13960285836463124, 0.3490071459115781, 0.23639646531980174, 0.4727929306396035, 0.23639646531980174, 0.6309755717722144, 0.7174026441530494, 0.7334336946659373, 0.5238606636635428, 0.15870422376272553, 0.15870422376272553, 0.5290140792090852, 0.15870422376272553, 0.23826815163586676, 0.11913407581793338, 0.11913407581793338, 0.4765363032717335, 0.37987299628323856, 0.19898109329122018, 0.27133785448802755, 0.14471352239361468, 0.256084402485263, 0.16005275155328938, 0.38412660372789453, 0.19206330186394727, 0.42682498196231655, 0.28454998797487774, 0.1896999919832518, 0.14227499398743887, 0.2697104728695804, 0.449517454782634, 0.1798069819130536, 0.0899034909565268, 0.09006324628597483, 0.6304427240018238, 0.09006324628597483, 0.09006324628597483, 0.39853988528731865, 0.19926994264365933, 0.19926994264365933, 0.24908742830457417, 0.7333830725189344, 0.4241834477046845, 0.35348620642057044, 0.14139448256822817, 0.07069724128411409, 0.6313529565477163, 0.630737652405149, 0.3937245125116587, 0.29529338438374403, 0.14764669219187201, 0.24607782031978667, 0.5270845903424209, 0.17569486344747368, 0.2342598179299649, 0.11712990896498245, 0.25519601420858684, 0.12759800710429342, 0.3827940213128802, 0.25519601420858684, 0.9242352668838005, 0.7333960537027142, 0.24427425838420702, 0.24427425838420702, 0.48854851676841404, 0.10626356623675792, 0.21252713247351585, 0.10626356623675792, 0.5313178311837896, 0.22164268826658437, 0.11082134413329219, 0.6649280647997531, 0.25165551896216054, 0.25165551896216054, 0.5033110379243211, 0.3628749108381209, 0.14514996433524835, 0.3628749108381209, 0.14514996433524835, 0.23772049787271135, 0.23772049787271135, 0.4754409957454227, 0.2079138283027599, 0.2079138283027599, 0.6237414849082797, 0.5590659748594885, 0.18635532495316284, 0.09317766247658142, 0.09317766247658142, 0.7261086616056144, 0.1815271654014036, 0.1815271654014036, 0.7174753864305721, 0.4878807060112368, 0.41886291002678055, 0.13962097000892684, 0.13962097000892684, 0.41886291002678055, 0.8398682885999755, 0.63524639878918, 0.21174879959639334, 0.21174879959639334, 0.35659024144949586, 0.7131804828989917, 0.26180052363423334, 0.5236010472684667, 0.26180052363423334, 0.2125884956621287, 0.16534660773721122, 0.49603982321163365, 0.11810471981229373, 0.2649600544109267, 0.2649600544109267, 0.22710861806650856, 0.2649600544109267, 0.5239870287110157, 0.8400594649112759, 0.20430184230696358, 0.3677433161525344, 0.286022579229749, 0.16344147384557084, 0.49148831792187564, 0.24574415896093782, 0.24574415896093782, 0.733413477652026, 0.5962159465800091, 0.13249243257333534, 0.19873864886000303, 0.06624621628666767, 0.18063124488625054, 0.18063124488625054, 0.3161046785509385, 0.27094686732937584, 0.3716049226044274, 0.11148147678132822, 0.35302467647420605, 0.16722221517199232, 0.32518756803272064, 0.22512985479188352, 0.15008656986125568, 0.2751587114123021, 0.6444702718806202, 0.08055878398507753, 0.16111756797015506, 0.16111756797015506, 0.49262878718953595, 0.2720903494784709, 0.238079055793662, 0.20406776210885316, 0.2720903494784709, 0.7366511024805014, 0.2839815066603099, 0.1893210044402066, 0.3313117577703616, 0.23665125555025826, 0.313845515686087, 0.3766146188233043, 0.16738427503257972, 0.14646124065350724, 0.14192117366642457, 0.14192117366642457, 0.5676846946656983, 0.28384234733284913, 0.27573383699869103, 0.11029353479947641, 0.4963209065976439, 0.05514676739973821, 0.3647835228673694, 0.7295670457347389, 0.6071141862396969, 0.17346119606848484, 0.08673059803424242, 0.08673059803424242, 0.2437859840682802, 0.4875719681365604, 0.2437859840682802, 0.2437859840682802, 0.7173954531230663, 0.523922315519729, 0.7333772673776988, 0.785421919780478, 0.04908886998627988, 0.04908886998627988, 0.1472666099588396, 0.537285015224331, 0.07675500217490443, 0.19188750543726107, 0.2302650065247133, 0.365227323702283, 0.365227323702283, 0.09130683092557075, 0.1826136618511415, 0.7230772768653781, 0.18076931921634454, 0.18076931921634454, 0.7469810129609836, 0.24899367098699451, 0.31551321984403047, 0.14341509992910476, 0.40156227980149334, 0.11473207994328381, 0.5391900491086381, 0.2021962684157393, 0.2021962684157393, 0.06739875613857976, 0.566376239513439, 0.04719801995945325, 0.14159405987835974, 0.23599009979726626, 0.5240308772736766, 0.3567909991970933, 0.20388057096976758, 0.3058208564546514, 0.1529104282273257, 0.44645571464503425, 0.2976371430966895, 0.07440928577417237, 0.14881857154834474, 0.733305925522174, 0.6313203498210501, 0.4942446840396883, 0.6923187887992267, 0.13846375775984535, 0.13846375775984535, 0.21660487825218872, 0.21660487825218872, 0.43320975650437743, 0.46297133906442645, 0.21786886544208303, 0.19063525726182265, 0.1361680409013019, 0.47351793998161834, 0.1578393133272061, 0.07891965666360305, 0.3156786266544122, 0.7173986171887256, 0.7334394761550033, 0.7333565887056365, 0.8083225409278034, 0.48069020559305886, 0.2407937077775156, 0.7223811233325468, 0.2407937077775156, 0.349992738475857, 0.349992738475857, 0.1749963692379285, 0.1749963692379285, 0.33079097907847765, 0.08269774476961941, 0.4961864686177165, 0.08269774476961941, 0.7173956359000109, 0.15639421293907707, 0.15639421293907707, 0.6255768517563083, 0.07819710646953854, 0.7324719401509422, 0.7173992179124474, 0.733393064965961, 0.3505207231968384, 0.7010414463936768, 0.1867624764691797, 0.1867624764691797, 0.1867624764691797, 0.5602874294075392, 0.26990649274903045, 0.30589402511556785, 0.26990649274903045, 0.14395012946614957, 0.3130714318025751, 0.1685769248167712, 0.3130714318025751, 0.1926593426477385, 0.7333617469900199, 0.18880830760364767, 0.37761661520729534, 0.18880830760364767, 0.18880830760364767, 0.960080177477069, 0.4947541611857469, 0.4860859959140308, 0.4358476398540522, 0.2905650932360348, 0.16344286494526958, 0.12712222829076522], \"Term\": [\"1972\", \"1993\", \"1993\", \"2016\", \"668-\\u0440\", \"lan\", \"\\u00ab\\u0433\\u0430\\u0437\\u043f\\u0440\\u043e\\u043c\\u00bb\", \"\\u00ab\\u0433\\u0430\\u0437\\u043f\\u0440\\u043e\\u043c\\u00bb\", \"\\u00ab\\u0433\\u0430\\u0437\\u043f\\u0440\\u043e\\u043c\\u0430\\u00bb\", \"\\u00ab\\u0437\\u0432\\u0451\\u0437\\u0434\\u043e\\u0447\\u043a\\u0430\\u00bb\", \"\\u00ab\\u043c\\u043e\\u043d\\u043e\\u043f\\u0440\\u043e\\u0444\\u0438\\u043b\\u044c\\u043d\\u044b\\u0439\", \"\\u0430\\u0433\\u043b\\u043e\\u043c\\u0435\\u0440\\u0430\\u0446\\u0438\\u044f\", \"\\u0430\\u0433\\u043b\\u043e\\u043c\\u0435\\u0440\\u0430\\u0446\\u0438\\u044f\", \"\\u0430\\u0433\\u043b\\u043e\\u043c\\u0435\\u0440\\u0430\\u0446\\u0438\\u044f\", \"\\u0430\\u0433\\u043b\\u043e\\u043c\\u0435\\u0440\\u0430\\u0446\\u0438\\u044f\", \"\\u0430\\u0433\\u0440\\u043e\\u043d\\u043e\\u043c\\u0438\\u0438.\", \"\\u0430\\u0434\\u043c\\u0438\\u043d\\u0438\\u0441\\u0442\\u0440\\u0430\\u0442\\u0438\\u0432\\u043d\\u043e-\\u0442\\u0435\\u0440\\u0440\\u0438\\u0442\\u043e\\u0440\\u0438\\u0430\\u043b\\u044c\\u043d\\u044b\\u0439\", \"\\u0430\\u0434\\u043c\\u0438\\u043d\\u0438\\u0441\\u0442\\u0440\\u0430\\u0442\\u0438\\u0432\\u043d\\u043e-\\u0442\\u0435\\u0440\\u0440\\u0438\\u0442\\u043e\\u0440\\u0438\\u0430\\u043b\\u044c\\u043d\\u044b\\u0439\", \"\\u0430\\u0434\\u043c\\u0438\\u043d\\u0438\\u0441\\u0442\\u0440\\u0430\\u0442\\u0438\\u0432\\u043d\\u043e-\\u0442\\u0435\\u0440\\u0440\\u0438\\u0442\\u043e\\u0440\\u0438\\u0430\\u043b\\u044c\\u043d\\u044b\\u0439\", \"\\u0430\\u0434\\u043c\\u0438\\u043d\\u0438\\u0441\\u0442\\u0440\\u0430\\u0442\\u0438\\u0432\\u043d\\u043e-\\u0442\\u0435\\u0440\\u0440\\u0438\\u0442\\u043e\\u0440\\u0438\\u0430\\u043b\\u044c\\u043d\\u044b\\u0439\", \"\\u0430\\u0434\\u043c\\u0438\\u043d\\u0438\\u0441\\u0442\\u0440\\u0430\\u0442\\u0438\\u0432\\u043d\\u044b\\u0439\", \"\\u0430\\u0434\\u043c\\u0438\\u043d\\u0438\\u0441\\u0442\\u0440\\u0430\\u0442\\u0438\\u0432\\u043d\\u044b\\u0439\", \"\\u0430\\u0434\\u043c\\u0438\\u043d\\u0438\\u0441\\u0442\\u0440\\u0430\\u0442\\u0438\\u0432\\u043d\\u044b\\u0439\", \"\\u0430\\u0434\\u043c\\u0438\\u043d\\u0438\\u0441\\u0442\\u0440\\u0430\\u0442\\u0438\\u0432\\u043d\\u044b\\u0439\", \"\\u0430\\u043a\\u0446\\u0438\\u044f\", \"\\u0430\\u043b\\u0435\\u043a\\u0441\\u0435\\u0439\", \"\\u0430\\u043b\\u0435\\u043a\\u0441\\u0435\\u0439\", \"\\u0430\\u043d\\u0433\\u043b\\u0438\\u044f\", \"\\u0430\\u043d\\u0433\\u043b\\u0438\\u044f\", \"\\u0430\\u043d\\u0442\\u0438\\u0446\\u0438\\u043a\\u043b\\u043e\\u043d\", \"\\u0430\\u043d\\u0442\\u0438\\u0446\\u0438\\u043a\\u043b\\u043e\\u043d\", \"\\u0430\\u043d\\u0442\\u0438\\u0446\\u0438\\u043a\\u043b\\u043e\\u043d\", \"\\u0430\\u043d\\u0442\\u0438\\u0446\\u0438\\u043a\\u043b\\u043e\\u043d\", \"\\u0430\\u0440\\u0445\\u0430\\u043d\\u0433\\u0435\\u043b\\u044c\\u0441\\u043a\\u0438\\u0439\", \"\\u0430\\u0440\\u0445\\u0430\\u043d\\u0433\\u0435\\u043b\\u044c\\u0441\\u043a\\u0438\\u0439\", \"\\u0430\\u0440\\u0445\\u0430\\u043d\\u0433\\u0435\\u043b\\u044c\\u0441\\u043a\\u0438\\u0439\", \"\\u0430\\u0440\\u0445\\u0430\\u043d\\u0433\\u0435\\u043b\\u044c\\u0441\\u043a\\u0438\\u0439\", \"\\u0431\\u0430\\u0437\\u0430\", \"\\u0431\\u0430\\u0437\\u0430\", \"\\u0431\\u0430\\u0437\\u0430\", \"\\u0431\\u0430\\u0437\\u0430\", \"\\u0431\\u0430\\u043b\\u0442\\u0438\\u0439\\u0441\\u043a\", \"\\u0431\\u0430\\u043b\\u0442\\u0438\\u0439\\u0441\\u043a\", \"\\u0431\\u0430\\u043b\\u0442\\u0438\\u0439\\u0441\\u043a\\u0438\\u0439\", \"\\u0431\\u0430\\u043b\\u0442\\u0438\\u0439\\u0441\\u043a\\u0438\\u0439\", \"\\u0431\\u0430\\u043b\\u0442\\u0438\\u0439\\u0441\\u043a\\u0438\\u0439\", \"\\u0431\\u0430\\u043b\\u0442\\u0438\\u0439\\u0441\\u043a\\u0438\\u0439\", \"\\u0431\\u0435\\u043b\\u044b\\u0435\", \"\\u0431\\u0438\\u0430\\u0440\\u043c\\u0438\\u044f\", \"\\u0431\\u0438\\u0430\\u0440\\u043c\\u0438\\u044f\", \"\\u0431\\u043e\\u043b\\u043e\\u0442\\u043e\", \"\\u0431\\u043e\\u043b\\u043e\\u0442\\u043e\", \"\\u0431\\u043e\\u043b\\u043e\\u0442\\u043e\", \"\\u0431\\u0440\\u0438\\u0433\\u0430\\u0434\\u0430\", \"\\u0431\\u0440\\u044f\\u043d\\u0441\\u043a\", \"\\u0431\\u0443\\u0434\\u0443\\u0449\\u0435\\u043c.\", \"\\u0431\\u044c\\u044f\\u0440\\u043c\\u0430\\u043b\\u0430\\u043d\\u0434\\u0430\", \"\\u0431\\u044c\\u044f\\u0440\\u043c\\u0430\\u043b\\u0430\\u043d\\u0434\\u0430\", \"\\u0431\\u044c\\u044f\\u0440\\u043c\\u0438\\u044f\", \"\\u0431\\u044c\\u044f\\u0440\\u043c\\u0438\\u044f\", \"\\u0432\\u0435\\u043b\\u0438\\u043a\\u043e\\u0431\\u0440\\u0438\\u0442\\u0430\\u043d\\u0438\\u044f\", \"\\u0432\\u0435\\u043b\\u0438\\u043a\\u043e\\u0431\\u0440\\u0438\\u0442\\u0430\\u043d\\u0438\\u044f\", \"\\u0432\\u0435\\u043b\\u0438\\u043a\\u043e\\u0431\\u0440\\u0438\\u0442\\u0430\\u043d\\u0438\\u044f\", \"\\u0432\\u0435\\u0440\\u0445\\u043e\\u0432\\u043d\\u044b\\u0439\", \"\\u0432\\u0435\\u0440\\u0445\\u043e\\u0432\\u043d\\u044b\\u0439\", \"\\u0432\\u0437\\u0440\\u044b\\u0432\", \"\\u0432\\u0437\\u0440\\u044b\\u0432\", \"\\u0432\\u0437\\u0440\\u044b\\u0432\", \"\\u0432\\u0438\\u043a\\u0438\\u043f\\u0435\\u0434\\u0438\\u044f\", \"\\u0432\\u0438\\u043a\\u0438\\u043f\\u0435\\u0434\\u0438\\u044f\", \"\\u0432\\u0438\\u043a\\u0438\\u043f\\u0435\\u0434\\u0438\\u044f\", \"\\u0432\\u0438\\u043a\\u0438\\u043f\\u0435\\u0434\\u0438\\u044f\", \"\\u0432\\u043b\\u0430\\u0441\\u0442\\u044c\", \"\\u0432\\u043b\\u0430\\u0441\\u0442\\u044c\", \"\\u0432\\u043b\\u0430\\u0441\\u0442\\u044c\", \"\\u0432\\u043b\\u0430\\u0441\\u0442\\u044c\", \"\\u0432\\u043c\\u0444\", \"\\u0432\\u043c\\u0444\", \"\\u0432\\u043c\\u0444\", \"\\u0432\\u043c\\u0444\", \"\\u0432\\u043e\\u0434\\u0430\", \"\\u0432\\u043e\\u0434\\u0430\", \"\\u0432\\u043e\\u0434\\u0430\", \"\\u0432\\u043e\\u0434\\u0430\", \"\\u0432\\u043e\\u0435\\u043d\\u043d\\u043e-\\u043c\\u043e\\u0440\\u0441\\u043a\\u043e\\u0439\", \"\\u0432\\u043e\\u0435\\u043d\\u043d\\u043e-\\u043c\\u043e\\u0440\\u0441\\u043a\\u043e\\u0439\", \"\\u0432\\u043e\\u0435\\u043d\\u043d\\u043e-\\u043c\\u043e\\u0440\\u0441\\u043a\\u043e\\u0439\", \"\\u0432\\u043e\\u0435\\u043d\\u043d\\u043e-\\u043c\\u043e\\u0440\\u0441\\u043a\\u043e\\u0439\", \"\\u0432\\u043e\\u0438\\u043d\\u0441\\u043a\\u0438\\u0439\", \"\\u0432\\u043e\\u0439\\u043d\\u0430\", \"\\u0432\\u043e\\u0439\\u043d\\u0430\", \"\\u0432\\u043e\\u0439\\u043d\\u0430\", \"\\u0432\\u043e\\u0439\\u043d\\u0430\", \"\\u0432\\u043e\\u0441\\u043a\\u0440\\u0435\\u0441\\u043d\\u044b\\u0439\", \"\\u0432\\u0442\\u043e\\u0440\\u043e\\u0439\", \"\\u0432\\u0442\\u043e\\u0440\\u043e\\u0439\", \"\\u0432\\u0442\\u043e\\u0440\\u043e\\u0439\", \"\\u0432\\u0442\\u043e\\u0440\\u043e\\u0439\", \"\\u0432\\u0445\\u043e\\u0434\\u0438\\u0442\\u044c\", \"\\u0432\\u0445\\u043e\\u0434\\u0438\\u0442\\u044c\", \"\\u0432\\u0445\\u043e\\u0434\\u0438\\u0442\\u044c\", \"\\u0432\\u0445\\u043e\\u0434\\u0438\\u0442\\u044c\", \"\\u0432\\u044b\\u0434\\u0435\\u043b\\u044f\\u044e\\u0442\\u0441\\u044f:\", \"\\u0432\\u044b\\u0440\\u0430\\u0449\\u0438\\u0432\\u0430\\u043d\\u0438\\u0435\", \"\\u0432\\u044b\\u0441\\u043e\\u043a\\u0438\\u0439\", \"\\u0432\\u044b\\u0441\\u043e\\u043a\\u0438\\u0439\", \"\\u0432\\u044b\\u0441\\u043e\\u043a\\u0438\\u0439\", \"\\u0432\\u044b\\u0441\\u043e\\u043a\\u0438\\u0439\", \"\\u0432\\u044b\\u0441\\u043e\\u043a\\u0438\\u043c\", \"\\u0432\\u044b\\u0441\\u043e\\u0442\\u0430\", \"\\u0432\\u044b\\u0441\\u043e\\u0442\\u0430\", \"\\u0432\\u044b\\u0441\\u043e\\u0442\\u0430\", \"\\u0432\\u044b\\u0447\\u0438\\u0441\\u043b\\u0438\\u0442\\u0435\\u043b\\u044c\\u043d\\u044b\\u0439\", \"\\u0433\\u0430\\u0437\", \"\\u0433\\u0430\\u0437\", \"\\u0433\\u0430\\u0437\", \"\\u0433\\u0430\\u0437\\u0430.\", \"\\u0433\\u0430\\u0437\\u043f\\u0440\\u043e\\u043c\", \"\\u0433\\u0433.\", \"\\u0433\\u0435\\u0440\\u0430\\u043b\\u044c\\u0434\\u0438\\u043a\\u0438\", \"\\u0433\\u0435\\u0440\\u0430\\u043b\\u044c\\u0434\\u0438\\u0447\\u0435\\u0441\\u043a\\u0438\\u0439\", \"\\u0433\\u0435\\u0440\\u0431\", \"\\u0433\\u0435\\u0440\\u0431\", \"\\u0433\\u0435\\u0440\\u0431\", \"\\u0433\\u0435\\u0440\\u0431\", \"\\u0433\\u0435\\u0440\\u0431\\u0430.\", \"\\u0433\\u0435\\u0440\\u0431\\u043e\\u0432\\u044b\\u0439\", \"\\u0433\\u0435\\u0440\\u043e\\u0439\", \"\\u0433\\u0435\\u0440\\u043e\\u0439\", \"\\u0433\\u0435\\u0440\\u043e\\u0439\", \"\\u0433\\u0438\\u043c\\u043d\\u0430\\u0441\\u0442\\u043a\\u0430\", \"\\u0433\\u043e\\u0434.\", \"\\u0433\\u043e\\u0434.\", \"\\u0433\\u043e\\u0434\\u0430\\u0445.\", \"\\u0433\\u043e\\u0434\\u0443.\", \"\\u0433\\u043e\\u0434\\u0443.\", \"\\u0433\\u043e\\u0434\\u0443.\", \"\\u0433\\u043e\\u0440\\u043e\\u0434\", \"\\u0433\\u043e\\u0440\\u043e\\u0434\", \"\\u0433\\u043e\\u0440\\u043e\\u0434\", \"\\u0433\\u043e\\u0440\\u043e\\u0434\", \"\\u0433\\u043e\\u0440\\u043e\\u0434\\u0441\\u043a\\u043e\\u0439\", \"\\u0433\\u043e\\u0440\\u043e\\u0434\\u0441\\u043a\\u043e\\u0439\", \"\\u0433\\u043e\\u0440\\u043e\\u0434\\u0441\\u043a\\u043e\\u0439\", \"\\u0433\\u043e\\u0440\\u043e\\u0434\\u0441\\u043a\\u043e\\u0439\", \"\\u0433\\u043e\\u0441\\u0443\\u0434\\u0430\\u0440\\u0441\\u0442\\u0432\\u0435\\u043d\\u043d\\u044b\\u0439\", \"\\u0433\\u043e\\u0441\\u0443\\u0434\\u0430\\u0440\\u0441\\u0442\\u0432\\u0435\\u043d\\u043d\\u044b\\u0439\", \"\\u0433\\u043e\\u0441\\u0443\\u0434\\u0430\\u0440\\u0441\\u0442\\u0432\\u0435\\u043d\\u043d\\u044b\\u0439\", \"\\u0433\\u043e\\u0441\\u0443\\u0434\\u0430\\u0440\\u0441\\u0442\\u0432\\u0435\\u043d\\u043d\\u044b\\u0439\", \"\\u0433\\u043e\\u0441\\u0443\\u0434\\u0430\\u0440\\u0441\\u0442\\u0432\\u043e\", \"\\u0433\\u043e\\u0441\\u0443\\u0434\\u0430\\u0440\\u0441\\u0442\\u0432\\u043e\", \"\\u0433\\u043e\\u0441\\u0443\\u0434\\u0430\\u0440\\u0441\\u0442\\u0432\\u043e\", \"\\u0433\\u043e\\u0441\\u0443\\u0434\\u0430\\u0440\\u0441\\u0442\\u0432\\u043e\", \"\\u0433\\u0440\\u0430\\u0434\\u0443\\u0441\", \"\\u0433\\u0440\\u0430\\u0434\\u0443\\u0441\", \"\\u0433\\u0440\\u0430\\u0434\\u0443\\u0441\", \"\\u0433\\u0443\\u0431\\u0435\\u0440\\u043d\\u0438\\u0438\", \"\\u0434\\u0430\\u043b\\u044c\\u043d\\u0435\\u0432\\u043e\\u0441\\u0442\\u043e\\u0447\\u043d\\u044b\\u0439\", \"\\u0434\\u0430\\u043b\\u044c\\u043d\\u0435\\u0432\\u043e\\u0441\\u0442\\u043e\\u0447\\u043d\\u044b\\u0439\", \"\\u0434\\u0432\\u0438\\u0433\\u0430\\u0442\\u0435\\u043b\\u044c\", \"\\u0434\\u0432\\u0438\\u0436\\u0438\\u0442\\u0435\\u043b\\u044c\", \"\\u0434\\u0435\\u0439\\u0441\\u0442\\u0432\\u043e\\u0432\\u0430\\u0442\\u044c\", \"\\u0434\\u0435\\u0439\\u0441\\u0442\\u0432\\u043e\\u0432\\u0430\\u0442\\u044c\", \"\\u0434\\u0435\\u0439\\u0441\\u0442\\u0432\\u043e\\u0432\\u0430\\u0442\\u044c\", \"\\u0434\\u0435\\u043f\\u0443\\u0442\\u0430\\u0442\", \"\\u0434\\u0435\\u043f\\u0443\\u0442\\u0430\\u0442\", \"\\u0434\\u0435\\u0440\\u0435\\u0432\\u043d\\u044f\", \"\\u0434\\u0435\\u0440\\u0435\\u0432\\u043d\\u044f\", \"\\u0434\\u0438\\u0437\\u0435\\u043b\\u044c-\\u044d\\u043b\\u0435\\u043a\\u0442\\u0440\\u0438\\u0447\\u0435\\u0441\\u043a\\u0438\\u0439\", \"\\u0434\\u0438\\u0437\\u0435\\u043b\\u044c\\u043d\\u044b\\u0439\", \"\\u0434\\u0438\\u043f\\u043b\\u043e\\u043c\\u0430\\u0442\\u0438\\u0447\\u0435\\u0441\\u043a\\u0438\\u0439\", \"\\u0434\\u0438\\u043f\\u043b\\u043e\\u043c\\u0430\\u0442\\u0438\\u0447\\u0435\\u0441\\u043a\\u0438\\u0439\", \"\\u0434\\u0438\\u043f\\u043b\\u043e\\u043c\\u0430\\u0442\\u0438\\u0447\\u0435\\u0441\\u043a\\u0438\\u0439\", \"\\u0434\\u0438\\u043f\\u043b\\u043e\\u043c\\u0430\\u0442\\u0438\\u0447\\u0435\\u0441\\u043a\\u0438\\u0439\", \"\\u0434\\u043b\\u0438\\u043d\\u043d\\u044b\\u0439\", \"\\u0434\\u043e\\u0431\\u043b\\u0435\\u0441\\u0442\\u044c\", \"\\u0434\\u043e\\u043a\\u0442\\u043e\\u0440\", \"\\u0434\\u043e\\u043c\", \"\\u0434\\u043e\\u043d\\u0443\\u0437\\u043b\\u0430\\u0432\", \"\\u0434\\u043e\\u0441\\u0442\\u0430\\u0442\\u043e\\u0447\\u043d\\u043e\", \"\\u0434\\u0440\\u0435\\u0432\\u043d\\u0435\\u0440\\u0443\\u0441\\u0441\\u043a\\u0438\\u0439\", \"\\u0434\\u0440\\u0435\\u0432\\u043d\\u0435\\u0440\\u0443\\u0441\\u0441\\u043a\\u0438\\u0439\", \"\\u0435\\u0432\\u0440\\u043e\\u043f\\u044b.\", \"\\u0435\\u0432\\u0440\\u043e\\u043f\\u044b.\", \"\\u0435\\u0432\\u0440\\u043e\\u043f\\u044b.\", \"\\u0435\\u0432\\u0440\\u043e\\u043f\\u044b.\", \"\\u0435\\u0434\\u0438\\u043d\\u0438\\u0446\\u0430\", \"\\u0435\\u0434\\u0438\\u043d\\u0438\\u0446\\u0430\", \"\\u0435\\u0434\\u0438\\u043d\\u0438\\u0446\\u0430\", \"\\u0435\\u0434\\u0438\\u043d\\u0438\\u0446\\u0430\", \"\\u0437\\u0430\\u043a\\u0430\\u0437\", \"\\u0437\\u0435\\u043c\\u043b\\u044f\", \"\\u0437\\u0435\\u043c\\u043b\\u044f\", \"\\u0437\\u0435\\u043c\\u043b\\u044f\", \"\\u0437\\u0435\\u043c\\u043b\\u044f\", \"\\u0437\\u0438\\u043c\\u043d\\u0438\\u0439\", \"\\u0437\\u0438\\u043c\\u043d\\u0438\\u0439\", \"\\u0437\\u0438\\u043c\\u043d\\u0438\\u0439\", \"\\u0437\\u043d\\u0430\\u0447\\u0435\\u043d\\u0438\\u0435\", \"\\u0437\\u043d\\u0430\\u0447\\u0435\\u043d\\u0438\\u0435\", \"\\u0437\\u043d\\u0430\\u0447\\u0435\\u043d\\u0438\\u0435\", \"\\u0437\\u043d\\u0430\\u0447\\u0435\\u043d\\u0438\\u0435\", \"\\u0437\\u043d\\u0430\\u0447\\u0435\\u043d\\u0438\\u044f;\", \"\\u0437\\u0440\\u044f\\u0447\\u0435\\u0432\", \"\\u0438\\u0433\\u0440\\u043e\\u043a\", \"\\u0438\\u0437\\u0431\\u0440\\u0430\\u0442\\u044c\", \"\\u0438\\u0437\\u0431\\u0440\\u0430\\u0442\\u044c\", \"\\u0438\\u0437\\u043b\\u0443\\u0447\\u0435\\u043d\\u0438\\u0435\", \"\\u0438\\u0437\\u043b\\u0443\\u0447\\u0435\\u043d\\u0438\\u0435\", \"\\u0438\\u0437\\u043b\\u0443\\u0447\\u0435\\u043d\\u0438\\u0435\", \"\\u0438\\u0437\\u043b\\u0443\\u0447\\u0435\\u043d\\u0438\\u0435\", \"\\u0438\\u0437\\u043e\\u0431\\u0440\\u0430\\u0437\\u0438\\u0442\\u044c\", \"\\u0438\\u043d\\u0442\\u0435\\u0440\\u043d\\u0435\\u0442.\", \"\\u0438\\u0441\\u0441\\u043b\\u0435\\u0434\\u043e\\u0432\\u0430\\u043d\\u0438\\u0435\", \"\\u043a\\u0430\\u0441\\u043f\\u0438\\u0439\\u0441\\u043a\\u0438\\u0439\", \"\\u043a\\u0430\\u0441\\u043f\\u0438\\u0439\\u0441\\u043a\\u0438\\u0439\", \"\\u043a\\u0438\\u0431\\u0435\\u0440\\u0441\\u043f\\u043e\\u0440\\u0442\", \"\\u043a\\u0438\\u0440\\u043e\\u0432\", \"\\u043a\\u043b\\u0438\\u043c\\u043e\\u0432\", \"\\u043a\\u043b\\u0438\\u043c\\u043e\\u0432\", \"\\u043a\\u043e\\u0430\\u043b\\u0438\\u0446\\u0438\\u044f\", \"\\u043a\\u043e\\u0430\\u043b\\u0438\\u0446\\u0438\\u044f\", \"\\u043a\\u043e\\u0430\\u043b\\u0438\\u0446\\u0438\\u044f\", \"\\u043a\\u043e\\u043b\\u0435\\u0441\\u043e\", \"\\u043a\\u043e\\u043b\\u0435\\u0441\\u043e\", \"\\u043a\\u043e\\u043b\\u0435\\u0441\\u043e\", \"\\u043a\\u043e\\u043b\\u043b\\u0435\\u0434\\u0436\", \"\\u043a\\u043e\\u043b\\u043b\\u0435\\u0434\\u0436\", \"\\u043a\\u043e\\u043b\\u043b\\u0435\\u0434\\u0436\", \"\\u043a\\u043e\\u043c\\u0430\\u043d\\u0434\\u0430\", \"\\u043a\\u043e\\u043c\\u0430\\u043d\\u0434\\u0443\\u044e\\u0449\\u0438\\u0439\", \"\\u043a\\u043e\\u043c\\u043f\\u0430\\u043d\\u0438\\u044f\", \"\\u043a\\u043e\\u043c\\u043f\\u0430\\u043d\\u0438\\u044f\", \"\\u043a\\u043e\\u043c\\u043f\\u0430\\u043d\\u0438\\u044f\", \"\\u043a\\u043e\\u043c\\u043f\\u0430\\u043d\\u0438\\u044f\", \"\\u043a\\u043e\\u043c\\u043f\\u044c\\u044e\\u0442\\u0435\\u0440\\u043d\\u044b\\u0439\", \"\\u043a\\u043e\\u043d\\u0441\\u0442\\u0438\\u0442\\u0443\\u0446\\u0438\\u043e\\u043d\\u043d\\u044b\\u0439\", \"\\u043a\\u043e\\u043d\\u0441\\u0442\\u0438\\u0442\\u0443\\u0446\\u0438\\u043e\\u043d\\u043d\\u044b\\u0439\", \"\\u043a\\u043e\\u043d\\u0441\\u0442\\u0438\\u0442\\u0443\\u0446\\u0438\\u043e\\u043d\\u043d\\u044b\\u0439\", \"\\u043a\\u043e\\u043d\\u0441\\u0442\\u0438\\u0442\\u0443\\u0446\\u0438\\u044f\", \"\\u043a\\u043e\\u043d\\u0441\\u0442\\u0438\\u0442\\u0443\\u0446\\u0438\\u044f\", \"\\u043a\\u043e\\u043d\\u0441\\u0442\\u0438\\u0442\\u0443\\u0446\\u0438\\u044f\", \"\\u043a\\u043e\\u043d\\u0444\\u043b\\u0438\\u043a\\u0442\", \"\\u043a\\u043e\\u043d\\u0444\\u043b\\u0438\\u043a\\u0442\", \"\\u043a\\u043e\\u0440\\u043e\\u043b\\u0435\\u0432\\u0441\\u0442\\u0432\\u043e\", \"\\u043a\\u043e\\u0440\\u043e\\u043b\\u0435\\u0432\\u0441\\u0442\\u0432\\u043e\", \"\\u043a\\u043e\\u0441\\u043c\\u0438\\u0447\\u0435\\u0441\\u043a\\u0438\\u0439\", \"\\u043a\\u043e\\u0441\\u043c\\u0438\\u0447\\u0435\\u0441\\u043a\\u0438\\u0439\", \"\\u043a\\u043f\\u0441\\u0441\", \"\\u043a\\u043f\\u0441\\u0441\", \"\\u043a\\u043f\\u0441\\u0441\", \"\\u043a\\u0440\\u0430\\u0439\\u043d\\u0438\\u0439\", \"\\u043a\\u0440\\u0430\\u0439\\u043d\\u0438\\u0439\", \"\\u043a\\u0440\\u0430\\u0439\\u043d\\u0438\\u0439\", \"\\u043a\\u0440\\u0430\\u0439\\u043d\\u0438\\u0439\", \"\\u043a\\u0440\\u0430\\u0441\\u043d\\u043e\\u0431\\u043e\\u0440\\u0441\\u043a\\u0438\\u0439\", \"\\u043a\\u0440\\u0430\\u0441\\u043d\\u043e\\u0431\\u043e\\u0440\\u0441\\u043a\\u0438\\u0439\", \"\\u043a\\u0440\\u0430\\u0441\\u043d\\u043e\\u0431\\u043e\\u0440\\u0441\\u043a\\u0438\\u0439\", \"\\u043a\\u0440\\u0430\\u0441\\u043d\\u043e\\u0437\\u043d\\u0430\\u043c\\u0451\\u043d\\u043d\\u044b\\u0439\", \"\\u043a\\u0440\\u0430\\u0441\\u043d\\u043e\\u0437\\u043d\\u0430\\u043c\\u0451\\u043d\\u043d\\u044b\\u0439\", \"\\u043a\\u0440\\u0443\\u043f\\u043d\\u044b\\u0439\", \"\\u043a\\u0440\\u0443\\u043f\\u043d\\u044b\\u0439\", \"\\u043a\\u0440\\u0443\\u043f\\u043d\\u044b\\u0439\", \"\\u043a\\u0440\\u0443\\u043f\\u043d\\u044b\\u0439\", \"\\u043b\\u0430\\u043f\\u043b\\u0430\\u043d\\u0434\\u0438\\u044f\", \"\\u043b\\u0430\\u043f\\u043b\\u0430\\u043d\\u0434\\u0438\\u044f\", \"\\u043b\\u0435\\u0432\\u044b\\u0439\", \"\\u043b\\u0435\\u0432\\u044b\\u0439\", \"\\u043b\\u0435\\u0434\\u043d\\u0438\\u043a\\u043e\\u0432\\u044b\\u0439\", \"\\u043b\\u0435\\u043d\\u0438\\u043d\\u0433\\u0440\\u0430\\u0434\\u0441\\u043a\\u0438\\u0439\", \"\\u043b\\u0435\\u043e\\u043d\\u0438\\u0434\", \"\\u043b\\u043e\\u0434\\u043a\\u0430\", \"\\u043b\\u043e\\u0434\\u043a\\u0430\", \"\\u043b\\u043e\\u0434\\u043a\\u0430\", \"\\u043b\\u043e\\u043a\\u0430\\u043b\\u044c\\u043d\\u044b\\u0439\", \"\\u043c\\u0430\\u0442\\u0438\\u0433\\u043e\\u0440\\u0441\\u043a\\u0438\\u0439\", \"\\u043c\\u0430\\u0448\\u0438\\u043d\\u043e\\u0441\\u0442\\u0440\\u043e\\u0438\\u0442\\u0435\\u043b\\u044c\", \"\\u043c\\u0435\\u0434\\u0430\\u043b\\u0438\\u0441\\u0442\\u043a\\u0430\", \"\\u043c\\u0435\\u0436\\u0434\\u0443\\u043d\\u0430\\u0440\\u043e\\u0434\\u043d\\u044b\\u0439\", \"\\u043c\\u0435\\u0436\\u0434\\u0443\\u043d\\u0430\\u0440\\u043e\\u0434\\u043d\\u044b\\u0439\", \"\\u043c\\u0435\\u0436\\u0434\\u0443\\u043d\\u0430\\u0440\\u043e\\u0434\\u043d\\u044b\\u0439\", \"\\u043c\\u0435\\u0436\\u0434\\u0443\\u043d\\u0430\\u0440\\u043e\\u0434\\u043d\\u044b\\u0439\", \"\\u043c\\u0438\\u043b\\u043b\\u0438\\u043c\\u0435\\u0442\\u0440\", \"\\u043c\\u0438\\u0440\\u043e\\u0432\\u043e\\u0439\", \"\\u043c\\u0438\\u0440\\u043e\\u0432\\u043e\\u0439\", \"\\u043c\\u0438\\u0440\\u043e\\u0432\\u043e\\u0439\", \"\\u043c\\u0438\\u0440\\u043e\\u0432\\u043e\\u0439\", \"\\u043c\\u0438\\u0440\\u043e\\u043d\\u043e\\u0432\\u0438\\u0447\", \"\\u043c\\u043e\\u043d\\u043e\\u0433\\u043e\\u0440\\u043e\\u0434\\u043e\\u0432\\u00bb\", \"\\u043c\\u043e\\u0440\\u0435\", \"\\u043c\\u043e\\u0440\\u0435\", \"\\u043c\\u043e\\u0440\\u0435\", \"\\u043c\\u043e\\u0440\\u0435\", \"\\u043c\\u043e\\u0441\\u043a\\u0432\\u0430\", \"\\u043c\\u043e\\u0441\\u043a\\u0432\\u0430\", \"\\u043c\\u043e\\u0441\\u043a\\u0432\\u0430\", \"\\u043c\\u043e\\u0441\\u043a\\u0432\\u0430\", \"\\u043c\\u0443\\u043d\\u0438\\u0446\\u0438\\u043f\\u0430\\u043b\\u044c\\u043d\\u044b\\u0439\", \"\\u043c\\u0443\\u043d\\u0438\\u0446\\u0438\\u043f\\u0430\\u043b\\u044c\\u043d\\u044b\\u0439\", \"\\u043c\\u0443\\u043d\\u0438\\u0446\\u0438\\u043f\\u0430\\u043b\\u044c\\u043d\\u044b\\u0439\", \"\\u043c\\u0443\\u043d\\u0438\\u0446\\u0438\\u043f\\u0430\\u043b\\u044c\\u043d\\u044b\\u0439\", \"\\u043d\\u0430\\u0440\\u043e\\u0434\\u043d\\u044b\\u0439\", \"\\u043d\\u0430\\u0440\\u043e\\u0434\\u043d\\u044b\\u0439\", \"\\u043d\\u0430\\u0440\\u043e\\u0434\\u043d\\u044b\\u0439\", \"\\u043d\\u0430\\u0440\\u043e\\u0434\\u043d\\u044b\\u0439\", \"\\u043d\\u0430\\u0441\\u0435\\u043b\\u0435\\u043d\\u0438\\u0435\", \"\\u043d\\u0430\\u0441\\u0435\\u043b\\u0435\\u043d\\u0438\\u0435\", \"\\u043d\\u0430\\u0441\\u0435\\u043b\\u0435\\u043d\\u0438\\u0435\", \"\\u043d\\u0430\\u0441\\u0435\\u043b\\u0435\\u043d\\u0438\\u0435\", \"\\u043d\\u0430\\u0447\\u0430\\u043b\\u043e\", \"\\u043d\\u0430\\u0447\\u0430\\u043b\\u043e\", \"\\u043d\\u0430\\u0447\\u0430\\u043b\\u043e\", \"\\u043d\\u0430\\u0447\\u0430\\u043b\\u043e\", \"\\u043d\\u0435\\u0431\\u043e\\u043b\\u044c\\u0448\\u043e\\u0439\", \"\\u043d\\u0435\\u0431\\u043e\\u043b\\u044c\\u0448\\u043e\\u0439\", \"\\u043d\\u0435\\u0431\\u043e\\u043b\\u044c\\u0448\\u043e\\u0439\", \"\\u043d\\u0435\\u0433\\u043e.\", \"\\u043d\\u0435\\u0441\\u0443\\u0449\\u0438\\u0439\", \"\\u043d\\u0438\\u043a\\u043e\\u043b\\u0430\\u0435\\u0432\\u044b\\u043c.\", \"\\u043e\\u0431\\u0435\\u0441\\u043f\\u0435\\u0447\\u0435\\u043d\\u0438\\u044f.\", \"\\u043e\\u0431\\u043b\\u0430\\u0441\\u0442\\u0438.\", \"\\u043e\\u0431\\u043b\\u0430\\u0441\\u0442\\u0438.\", \"\\u043e\\u0431\\u043b\\u0430\\u0441\\u0442\\u0438.\", \"\\u043e\\u0431\\u043b\\u0430\\u0441\\u0442\\u0438.\", \"\\u043e\\u0431\\u043b\\u0430\\u0441\\u0442\\u043d\\u043e\\u0439\", \"\\u043e\\u0431\\u043b\\u0430\\u0441\\u0442\\u043d\\u043e\\u0439\", \"\\u043e\\u0431\\u043b\\u0430\\u0441\\u0442\\u043d\\u043e\\u0439\", \"\\u043e\\u0431\\u043b\\u0430\\u0441\\u0442\\u043d\\u043e\\u0439\", \"\\u043e\\u0431\\u043b\\u0430\\u0441\\u0442\\u044c\", \"\\u043e\\u0431\\u043b\\u0430\\u0441\\u0442\\u044c\", \"\\u043e\\u0431\\u043b\\u0430\\u0441\\u0442\\u044c\", \"\\u043e\\u0431\\u043b\\u0430\\u0441\\u0442\\u044c\", \"\\u043e\\u0431\\u0440\\u0430\\u0437\\u043e\\u0432\\u0430\\u043d\\u0438\\u0435\", \"\\u043e\\u0431\\u0440\\u0430\\u0437\\u043e\\u0432\\u0430\\u043d\\u0438\\u0435\", \"\\u043e\\u0431\\u0440\\u0430\\u0437\\u043e\\u0432\\u0430\\u043d\\u0438\\u0435\", \"\\u043e\\u0431\\u0440\\u0430\\u0437\\u043e\\u0432\\u0430\\u043d\\u0438\\u0435\", \"\\u043e\\u0431\\u0440\\u0430\\u0437\\u043e\\u0432\\u0430\\u0442\\u044c\", \"\\u043e\\u0431\\u0440\\u0430\\u0437\\u043e\\u0432\\u0430\\u0442\\u044c\", \"\\u043e\\u0431\\u0440\\u0430\\u0437\\u043e\\u0432\\u0430\\u0442\\u044c\", \"\\u043e\\u0431\\u0440\\u0430\\u0437\\u043e\\u0432\\u0430\\u0442\\u044c\", \"\\u043e\\u0431\\u044b\\u0447\\u043d\\u043e\", \"\\u043e\\u0431\\u044b\\u0447\\u043d\\u043e\", \"\\u043e\\u0431\\u044b\\u0447\\u043d\\u043e\", \"\\u043e\\u0431\\u044b\\u0447\\u043d\\u043e\", \"\\u043e\\u0437\\u0435\\u0440\\u043e\", \"\\u043e\\u0437\\u0435\\u0440\\u043e\", \"\\u043e\\u0437\\u0435\\u0440\\u043e\", \"\\u043e\\u0437\\u0435\\u0440\\u043e\", \"\\u043e\\u043a\\u0440\\u0443\\u0433\", \"\\u043e\\u043a\\u0440\\u0443\\u0433\", \"\\u043e\\u043a\\u0440\\u0443\\u0433\", \"\\u043e\\u043a\\u0440\\u0443\\u0433\", \"\\u043e\\u043f\\u043e\\u0437\\u043d\\u0430\\u0432\\u0430\\u0442\\u0435\\u043b\\u044c\\u043d\\u044b\\u0439\", \"\\u043e\\u0440\\u0433\\u0430\\u043d\\u0438\\u0437\\u0430\\u0446\\u0438\\u044f\", \"\\u043e\\u0440\\u0433\\u0430\\u043d\\u0438\\u0437\\u0430\\u0446\\u0438\\u044f\", \"\\u043e\\u0440\\u0433\\u0430\\u043d\\u0438\\u0437\\u0430\\u0446\\u0438\\u044f\", \"\\u043e\\u0440\\u0433\\u0430\\u043d\\u0438\\u0437\\u0430\\u0446\\u0438\\u044f\", \"\\u043e\\u0441\\u0432\\u0435\\u0449\\u0435\\u043d\\u0438\\u0435\", \"\\u043e\\u0441\\u0435\\u0442\\u0438\\u0438\", \"\\u043e\\u0441\\u0442\\u0440\\u043e\\u0432\", \"\\u043e\\u0441\\u0442\\u0440\\u043e\\u0432\", \"\\u043e\\u0441\\u0442\\u0440\\u043e\\u0432\", \"\\u043e\\u0441\\u0442\\u0440\\u043e\\u0432\", \"\\u043e\\u0442\\u043d\\u043e\\u0448\\u0435\\u043d\\u0438\\u0435\", \"\\u043e\\u0442\\u043d\\u043e\\u0448\\u0435\\u043d\\u0438\\u0435\", \"\\u043e\\u0442\\u043d\\u043e\\u0448\\u0435\\u043d\\u0438\\u0435\", \"\\u043e\\u0442\\u043d\\u043e\\u0448\\u0435\\u043d\\u0438\\u0435\", \"\\u043f\\u0435\\u0440\\u0438\\u043e\\u0434\", \"\\u043f\\u0435\\u0440\\u0438\\u043e\\u0434\", \"\\u043f\\u0435\\u0440\\u0438\\u043e\\u0434\", \"\\u043f\\u0435\\u0440\\u0438\\u043e\\u0434\", \"\\u043f\\u043b\\u0430\\u0432\\u0443\\u0447\\u0438\\u0439\", \"\\u043f\\u043e\\u0432\\u043e\\u0434\", \"\\u043f\\u043e\\u0432\\u044b\\u0448\\u0435\\u043d\\u043d\\u044b\\u0439\", \"\\u043f\\u043e\\u0432\\u044b\\u0448\\u0435\\u043d\\u043d\\u044b\\u0439\", \"\\u043f\\u043e\\u0432\\u044b\\u0448\\u0435\\u043d\\u043d\\u044b\\u0439\", \"\\u043f\\u043e\\u0434\\u0432\\u043e\\u0434\\u043d\\u044b\\u0439\", \"\\u043f\\u043e\\u0434\\u0432\\u043e\\u0434\\u043d\\u044b\\u0439\", \"\\u043f\\u043e\\u0434\\u0432\\u043e\\u0434\\u043d\\u044b\\u0439\", \"\\u043f\\u043e\\u0434\\u0432\\u043e\\u0434\\u043d\\u044b\\u0439\", \"\\u043f\\u043e\\u0441\\u0435\\u043b\\u0435\\u043d\\u0438\\u044f.\", \"\\u043f\\u043e\\u0441\\u0435\\u043b\\u0435\\u043d\\u0438\\u044f.\", \"\\u043f\\u043e\\u0441\\u0435\\u043b\\u0435\\u043d\\u0438\\u044f.\", \"\\u043f\\u043e\\u0441\\u043b\\u0435\\u0434\\u0441\\u0442\\u0432\\u0438\\u0435\", \"\\u043f\\u043e\\u0441\\u043b\\u0435\\u0434\\u0441\\u0442\\u0432\\u0438\\u0435\", \"\\u043f\\u043e\\u0441\\u043b\\u0435\\u0434\\u0441\\u0442\\u0432\\u0438\\u0435\", \"\\u043f\\u043e\\u0441\\u0451\\u043b\\u043e\\u043a\", \"\\u043f\\u043e\\u0441\\u0451\\u043b\\u043e\\u043a\", \"\\u043f\\u043e\\u0441\\u0451\\u043b\\u043e\\u043a\", \"\\u043f\\u043e\\u0441\\u0451\\u043b\\u043e\\u043a\", \"\\u043f\\u043e\\u0442\\u0435\\u043d\\u0446\\u0438\\u0430\\u043b\", \"\\u043f\\u043e\\u0442\\u0435\\u043d\\u0446\\u0438\\u0430\\u043b\", \"\\u043f\\u043e\\u0442\\u0435\\u043d\\u0446\\u0438\\u0430\\u043b\", \"\\u043f\\u043e\\u0447\\u0451\\u0442\\u043d\\u044b\\u0439\", \"\\u043f\\u043e\\u0447\\u0451\\u0442\\u043d\\u044b\\u0439\", \"\\u043f\\u043e\\u0447\\u0451\\u0442\\u043d\\u044b\\u0439\", \"\\u043f\\u0440\\u0430\\u0432\\u043e\", \"\\u043f\\u0440\\u0430\\u0432\\u043e\", \"\\u043f\\u0440\\u0430\\u0432\\u043e\", \"\\u043f\\u0440\\u0430\\u0432\\u043e\", \"\\u043f\\u0440\\u0435\\u043c\\u0438\\u044f\", \"\\u043f\\u0440\\u0435\\u043c\\u0438\\u044f\", \"\\u043f\\u0440\\u0435\\u043c\\u0438\\u044f\", \"\\u043f\\u0440\\u0438\\u0431\\u0440\\u0435\\u0436\\u043d\\u043e-\\u0432\\u043e\\u0434\\u043d\\u044b\\u0439\", \"\\u043f\\u0440\\u0438\\u0437\\u043d\\u0430\\u043a\", \"\\u043f\\u0440\\u043e\\u0435\\u043a\\u0442\", \"\\u043f\\u0440\\u043e\\u0435\\u043a\\u0442\", \"\\u043f\\u0440\\u043e\\u0435\\u043a\\u0442\", \"\\u043f\\u0440\\u043e\\u0435\\u043a\\u0442\", \"\\u043f\\u0440\\u043e\\u0438\\u0437\\u0432\\u043e\\u0434\\u0438\\u0442\\u0435\\u043b\\u044c\", \"\\u043f\\u0440\\u043e\\u0438\\u0437\\u0432\\u043e\\u0434\\u0441\\u0442\\u0432\\u043e\", \"\\u043f\\u0440\\u043e\\u0438\\u0437\\u0432\\u043e\\u0434\\u0441\\u0442\\u0432\\u043e\", \"\\u043f\\u0440\\u043e\\u0438\\u0437\\u0432\\u043e\\u0434\\u0441\\u0442\\u0432\\u043e\", \"\\u043f\\u0440\\u043e\\u0438\\u0441\\u0445\\u043e\\u0436\\u0434\\u0435\\u043d\\u0438\\u0435\", \"\\u043f\\u0440\\u043e\\u0438\\u0441\\u0445\\u043e\\u0436\\u0434\\u0435\\u043d\\u0438\\u0435\", \"\\u043f\\u0443\\u0442\\u044c\", \"\\u043f\\u0443\\u0442\\u044c\", \"\\u043f\\u0443\\u0442\\u044c\", \"\\u0440\\u0430\\u0439\\u043e\\u043d\", \"\\u0440\\u0430\\u0439\\u043e\\u043d\", \"\\u0440\\u0430\\u0439\\u043e\\u043d\", \"\\u0440\\u0430\\u0439\\u043e\\u043d\", \"\\u0440\\u0430\\u0441\\u043f\\u043e\\u043b\\u043e\\u0436\\u0438\\u0442\\u044c\", \"\\u0440\\u0430\\u0441\\u043f\\u043e\\u043b\\u043e\\u0436\\u0438\\u0442\\u044c\", \"\\u0440\\u0430\\u0441\\u043f\\u043e\\u043b\\u043e\\u0436\\u0438\\u0442\\u044c\", \"\\u0440\\u0430\\u0441\\u043f\\u043e\\u043b\\u043e\\u0436\\u0438\\u0442\\u044c\", \"\\u0440\\u0430\\u0441\\u043f\\u043e\\u0440\\u044f\\u0436\\u0435\\u043d\\u0438\\u0435\", \"\\u0440\\u0435\\u0430\\u043b\\u0438\\u0437\\u043e\\u0432\\u0430\\u0442\\u044c\", \"\\u0440\\u0435\\u043a\\u0430\", \"\\u0440\\u0435\\u043a\\u0430\", \"\\u0440\\u0435\\u043a\\u0430\", \"\\u0440\\u0435\\u043a\\u0430\", \"\\u0440\\u0435\\u043a\\u0438\", \"\\u0440\\u0435\\u043a\\u0438\", \"\\u0440\\u0435\\u043a\\u0438\", \"\\u0440\\u0435\\u043f\\u0440\\u0435\\u0441\\u0441\\u0438\\u044f\", \"\\u0440\\u0435\\u0441\\u043f\\u0443\\u0431\\u043b\\u0438\\u043a\\u0430\", \"\\u0440\\u0435\\u0441\\u043f\\u0443\\u0431\\u043b\\u0438\\u043a\\u0430\", \"\\u0440\\u0435\\u0441\\u043f\\u0443\\u0431\\u043b\\u0438\\u043a\\u0430\", \"\\u0440\\u0435\\u0441\\u043f\\u0443\\u0431\\u043b\\u0438\\u043a\\u0430\", \"\\u0440\\u043e\\u0441\\u0441\\u0438\\u0438\", \"\\u0440\\u043e\\u0441\\u0441\\u0438\\u0438\", \"\\u0440\\u043e\\u0441\\u0441\\u0438\\u0438\", \"\\u0440\\u043e\\u0441\\u0441\\u0438\\u0438\", \"\\u0440\\u043e\\u0441\\u0441\\u0438\\u0439\\u0441\\u043a\\u0438\\u0439\", \"\\u0440\\u043e\\u0441\\u0441\\u0438\\u0439\\u0441\\u043a\\u0438\\u0439\", \"\\u0440\\u043e\\u0441\\u0441\\u0438\\u0439\\u0441\\u043a\\u0438\\u0439\", \"\\u0440\\u043e\\u0441\\u0441\\u0438\\u0439\\u0441\\u043a\\u0438\\u0439\", \"\\u0440\\u043e\\u0441\\u0441\\u0438\\u044f\", \"\\u0440\\u043e\\u0441\\u0441\\u0438\\u044f\", \"\\u0440\\u043e\\u0441\\u0441\\u0438\\u044f\", \"\\u0440\\u043e\\u0441\\u0441\\u0438\\u044f\", \"\\u0440\\u0441\\u0444\\u0441\\u0440\", \"\\u0440\\u0441\\u0444\\u0441\\u0440\", \"\\u0440\\u0441\\u0444\\u0441\\u0440\", \"\\u0440\\u0441\\u0444\\u0441\\u0440\", \"\\u0440\\u0443\\u0441\\u0438\", \"\\u0440\\u0443\\u0441\\u0441\\u043a\\u0438\\u0439\", \"\\u0440\\u0443\\u0441\\u0441\\u043a\\u0438\\u0439\", \"\\u0440\\u0443\\u0441\\u0441\\u043a\\u0438\\u0439\", \"\\u0440\\u0443\\u0441\\u0441\\u043a\\u0438\\u0439\", \"\\u0441\\u0430\\u0433\\u0430\", \"\\u0441\\u0435\\u0432\\u0435\\u0440\", \"\\u0441\\u0435\\u0432\\u0435\\u0440\", \"\\u0441\\u0435\\u0432\\u0435\\u0440\", \"\\u0441\\u0435\\u0432\\u0435\\u0440\", \"\\u0441\\u0435\\u0432\\u0435\\u0440\\u043d\\u044b\\u0439\", \"\\u0441\\u0435\\u0432\\u0435\\u0440\\u043d\\u044b\\u0439\", \"\\u0441\\u0435\\u0432\\u0435\\u0440\\u043d\\u044b\\u0439\", \"\\u0441\\u0435\\u0432\\u0435\\u0440\\u043d\\u044b\\u0439\", \"\\u0441\\u0435\\u0432\\u0435\\u0440\\u043e\\u0434\\u0432\\u0438\\u043d\\u0441\\u043a\", \"\\u0441\\u0435\\u0432\\u0435\\u0440\\u043e\\u0434\\u0432\\u0438\\u043d\\u0441\\u043a\", \"\\u0441\\u0435\\u0432\\u0435\\u0440\\u043e\\u0434\\u0432\\u0438\\u043d\\u0441\\u043a\", \"\\u0441\\u0435\\u0432\\u0435\\u0440\\u043e\\u0434\\u0432\\u0438\\u043d\\u0441\\u043a\", \"\\u0441\\u0435\\u043b\\u044c\\u0441\\u043a\\u0438\\u0439\", \"\\u0441\\u0435\\u043b\\u044c\\u0441\\u043a\\u0438\\u0439\", \"\\u0441\\u0435\\u043b\\u044c\\u0441\\u043a\\u0438\\u0439\", \"\\u0441\\u0435\\u043b\\u044c\\u0441\\u043a\\u0438\\u0439\", \"\\u0441\\u0435\\u043b\\u044c\\u0441\\u043a\\u043e\\u0445\\u043e\\u0437\\u044f\\u0439\\u0441\\u0442\\u0432\\u0435\\u043d\\u043d\\u044b\\u0439\", \"\\u0441\\u0435\\u043b\\u044c\\u0441\\u043a\\u043e\\u0445\\u043e\\u0437\\u044f\\u0439\\u0441\\u0442\\u0432\\u0435\\u043d\\u043d\\u044b\\u0439\", \"\\u0441\\u0435\\u043d\\u0442\\u044f\\u0431\\u0440\\u044c\", \"\\u0441\\u0435\\u043d\\u0442\\u044f\\u0431\\u0440\\u044c\", \"\\u0441\\u0435\\u043d\\u0442\\u044f\\u0431\\u0440\\u044c\", \"\\u0441\\u0435\\u043d\\u0442\\u044f\\u0431\\u0440\\u044c\", \"\\u0441\\u0435\\u0442\\u044c\", \"\\u0441\\u0435\\u0442\\u044c\", \"\\u0441\\u0435\\u0442\\u044c\", \"\\u0441\\u0435\\u0442\\u044c\", \"\\u0441\\u0435\\u0442\\u044c\\u044e\", \"\\u0441\\u0438\\u0442\\u0443\\u0430\\u0446\\u0438\\u0435\\u0439\\u00bb.\", \"\\u0441\\u043a\\u0443\\u043b\\u044c\\u043f\\u0442\\u043e\\u0440\", \"\\u0441\\u043e\\u0432\\u0435\\u0442\", \"\\u0441\\u043e\\u0432\\u0435\\u0442\", \"\\u0441\\u043e\\u0432\\u0435\\u0442\", \"\\u0441\\u043e\\u0432\\u0435\\u0442\", \"\\u0441\\u043e\\u0432\\u0435\\u0442\\u0441\\u043a\\u0438\\u0439\", \"\\u0441\\u043e\\u0432\\u0435\\u0442\\u0441\\u043a\\u0438\\u0439\", \"\\u0441\\u043e\\u0432\\u0435\\u0442\\u0441\\u043a\\u0438\\u0439\", \"\\u0441\\u043e\\u0432\\u0435\\u0442\\u0441\\u043a\\u0438\\u0439\", \"\\u0441\\u043e\\u0435\\u0434\\u0438\\u043d\\u0438\\u0442\\u044c\", \"\\u0441\\u043e\\u0435\\u0434\\u0438\\u043d\\u0438\\u0442\\u044c\", \"\\u0441\\u043e\\u0435\\u0434\\u0438\\u043d\\u0438\\u0442\\u044c\", \"\\u0441\\u043e\\u0435\\u0434\\u0438\\u043d\\u0438\\u0442\\u044c\", \"\\u0441\\u043e\\u0437\\u044b\\u0432\", \"\\u0441\\u043e\\u0437\\u044b\\u0432\", \"\\u0441\\u043e\\u0437\\u044b\\u0432\", \"\\u0441\\u043e\\u043b\\u043d\\u0446\\u0435\\u0441\\u0442\\u043e\\u044f\\u043d\\u0438\\u0435\", \"\\u0441\\u043e\\u043b\\u043d\\u0446\\u0435\\u0441\\u0442\\u043e\\u044f\\u043d\\u0438\\u0435\", \"\\u0441\\u043e\\u0441\\u0442\\u0430\\u0432\", \"\\u0441\\u043e\\u0441\\u0442\\u0430\\u0432\", \"\\u0441\\u043e\\u0441\\u0442\\u0430\\u0432\", \"\\u0441\\u043e\\u0441\\u0442\\u0430\\u0432\", \"\\u0441\\u043e\\u0441\\u0442\\u0430\\u0432\\u043b\\u044f\\u0442\\u044c\", \"\\u0441\\u043e\\u0441\\u0442\\u0430\\u0432\\u043b\\u044f\\u0442\\u044c\", \"\\u0441\\u043e\\u0441\\u0442\\u0430\\u0432\\u043b\\u044f\\u0442\\u044c\", \"\\u0441\\u043e\\u0441\\u0442\\u0430\\u0432\\u043b\\u044f\\u0442\\u044c\", \"\\u0441\\u0441\\u0441\\u0440\", \"\\u0441\\u0441\\u0441\\u0440\", \"\\u0441\\u0441\\u0441\\u0440\", \"\\u0441\\u0441\\u0441\\u0440\", \"\\u0441\\u0442\\u0430\\u0431\\u0438\\u043b\\u044c\\u043d\\u044b\\u0439\", \"\\u0441\\u0442\\u0430\\u0442\\u0443\\u0441\", \"\\u0441\\u0442\\u0430\\u0442\\u0443\\u0441\", \"\\u0441\\u0442\\u0430\\u0442\\u0443\\u0441\", \"\\u0441\\u0442\\u0430\\u0442\\u0443\\u0441\", \"\\u0441\\u0442\\u0440\\u0430\\u043d\\u0430\", \"\\u0441\\u0442\\u0440\\u0430\\u043d\\u0430\", \"\\u0441\\u0442\\u0440\\u0430\\u043d\\u0430\", \"\\u0441\\u0442\\u0440\\u0430\\u043d\\u0430\", \"\\u0441\\u0443\\u0434\\u043e\\u0441\\u0442\\u0440\\u043e\\u0438\\u0442\\u0435\\u043b\\u044c\", \"\\u0441\\u0443\\u043c\\u0435\\u0440\\u0435\\u043a.\", \"\\u0441\\u0445\\u0435\\u043c\\u0430\", \"\\u0441\\u044a\\u0435\\u0437\\u0434\", \"\\u0441\\u044a\\u0435\\u0437\\u0434\", \"\\u0441\\u044a\\u0435\\u0437\\u0434\", \"\\u0442\\u0435\\u043c\\u043f\\u0435\\u0440\\u0430\\u0442\\u0443\\u0440\\u0430\", \"\\u0442\\u0435\\u043c\\u043f\\u0435\\u0440\\u0430\\u0442\\u0443\\u0440\\u0430\", \"\\u0442\\u0435\\u043c\\u043f\\u0435\\u0440\\u0430\\u0442\\u0443\\u0440\\u0430\", \"\\u0442\\u0435\\u0440\\u0440\\u0438\\u0442\\u043e\\u0440\\u0438\\u044f\", \"\\u0442\\u0435\\u0440\\u0440\\u0438\\u0442\\u043e\\u0440\\u0438\\u044f\", \"\\u0442\\u0435\\u0440\\u0440\\u0438\\u0442\\u043e\\u0440\\u0438\\u044f\", \"\\u0442\\u0435\\u0440\\u0440\\u0438\\u0442\\u043e\\u0440\\u0438\\u044f\", \"\\u0442\\u043e\\u0447\\u043a\\u0430\", \"\\u0442\\u043e\\u0447\\u043a\\u0430\", \"\\u0442\\u043e\\u0447\\u043a\\u0430\", \"\\u0442\\u043e\\u0447\\u043a\\u0430\", \"\\u0442\\u0440\\u0430\\u0434\\u0438\\u0446\\u0438\\u044f\", \"\\u0443\\u0431\\u0438\\u0439\\u0441\\u0442\\u0432\\u043e\", \"\\u0443\\u0431\\u0438\\u0442\\u044c\", \"\\u0443\\u0433\\u043e\\u043b\\u044c\", \"\\u0443\\u043d\\u0438\\u0432\\u0435\\u0440\\u0441\\u0438\\u0442\\u0435\\u0442\", \"\\u0443\\u0447\\u0435\\u0431\\u043d\\u044b\\u0439\", \"\\u0443\\u0447\\u0435\\u0431\\u043d\\u044b\\u0439\", \"\\u0443\\u0447\\u0435\\u0431\\u043d\\u044b\\u0439\", \"\\u0444\\u0435\\u0434\\u0435\\u0440\\u0430\\u043b\\u044c\\u043d\\u044b\\u0439\", \"\\u0444\\u0435\\u0434\\u0435\\u0440\\u0430\\u043b\\u044c\\u043d\\u044b\\u0439\", \"\\u0444\\u0435\\u0434\\u0435\\u0440\\u0430\\u043b\\u044c\\u043d\\u044b\\u0439\", \"\\u0444\\u0435\\u0434\\u0435\\u0440\\u0430\\u043b\\u044c\\u043d\\u044b\\u0439\", \"\\u0444\\u0435\\u0434\\u0435\\u0440\\u0430\\u0446\\u0438\\u0438.\", \"\\u0444\\u0435\\u0434\\u0435\\u0440\\u0430\\u0446\\u0438\\u0438.\", \"\\u0444\\u0435\\u0434\\u0435\\u0440\\u0430\\u0446\\u0438\\u0438.\", \"\\u0444\\u0435\\u0434\\u0435\\u0440\\u0430\\u0446\\u0438\\u0438.\", \"\\u0444\\u0438\\u0433\\u0443\\u0440.\", \"\\u0444\\u043b\\u043e\\u0442\", \"\\u0444\\u043b\\u043e\\u0442\", \"\\u0444\\u043b\\u043e\\u0442\", \"\\u0444\\u043b\\u043e\\u0442\", \"\\u0444\\u043b\\u043e\\u0442\\u0438\\u043b\\u0438\\u044f\", \"\\u0444\\u043e\\u0440\\u043c\\u044b\", \"\\u0444\\u0451\\u0434\\u043e\\u0440\\u043e\\u0432\\u0438\\u0447\", \"\\u0445\\u043e\\u043b\\u043c\\u043e\\u0433\\u043e\\u0440\", \"\\u0445\\u043e\\u043b\\u043c\\u043e\\u0433\\u043e\\u0440\", \"\\u0446\\u0435\\u043b\\u044c\\u0441\\u0438\\u0439\", \"\\u0446\\u0435\\u043b\\u044c\\u0441\\u0438\\u0439\", \"\\u0446\\u0435\\u043b\\u044c\\u0441\\u0438\\u0439\", \"\\u0446\\u0435\\u043b\\u044c\\u0441\\u0438\\u0439\", \"\\u0446\\u0435\\u043d\\u0442\\u0440\", \"\\u0446\\u0435\\u043d\\u0442\\u0440\", \"\\u0446\\u0435\\u043d\\u0442\\u0440\", \"\\u0446\\u0435\\u043d\\u0442\\u0440\", \"\\u0447\\u0430\\u0441\\u0442\\u044c\", \"\\u0447\\u0430\\u0441\\u0442\\u044c\", \"\\u0447\\u0430\\u0441\\u0442\\u044c\", \"\\u0447\\u0430\\u0441\\u0442\\u044c\", \"\\u0447\\u0438\\u0441\\u043b\\u0435:\", \"\\u0447\\u0438\\u0441\\u043b\\u043e\", \"\\u0447\\u0438\\u0441\\u043b\\u043e\", \"\\u0447\\u0438\\u0441\\u043b\\u043e\", \"\\u0447\\u0438\\u0441\\u043b\\u043e\", \"\\u0449\\u0438\\u0442\", \"\\u044d\\u043b\\u0435\\u043a\\u0442\\u0440\\u043e\\u043c\\u043e\\u0442\\u043e\\u0440\", \"\\u044d\\u0441\\u0442\\u0443\\u0430\\u0440\\u0438\\u0439\", \"\\u044f\\u0432\\u043b\\u044f\\u0442\\u044c\\u0441\\u044f\", \"\\u044f\\u0432\\u043b\\u044f\\u0442\\u044c\\u0441\\u044f\", \"\\u044f\\u0432\\u043b\\u044f\\u0442\\u044c\\u0441\\u044f\", \"\\u044f\\u0432\\u043b\\u044f\\u0442\\u044c\\u0441\\u044f\"]}, \"R\": 30, \"lambda.step\": 0.01, \"plot.opts\": {\"xlab\": \"PC1\", \"ylab\": \"PC2\"}, \"topic.order\": [3, 4, 2, 1]};\n",
              "\n",
              "function LDAvis_load_lib(url, callback){\n",
              "  var s = document.createElement('script');\n",
              "  s.src = url;\n",
              "  s.async = true;\n",
              "  s.onreadystatechange = s.onload = callback;\n",
              "  s.onerror = function(){console.warn(\"failed to load library \" + url);};\n",
              "  document.getElementsByTagName(\"head\")[0].appendChild(s);\n",
              "}\n",
              "\n",
              "if(typeof(LDAvis) !== \"undefined\"){\n",
              "   // already loaded: just create the visualization\n",
              "   !function(LDAvis){\n",
              "       new LDAvis(\"#\" + \"ldavis_el21191402300273516321081028571\", ldavis_el21191402300273516321081028571_data);\n",
              "   }(LDAvis);\n",
              "}else if(typeof define === \"function\" && define.amd){\n",
              "   // require.js is available: use it to load d3/LDAvis\n",
              "   require.config({paths: {d3: \"https://d3js.org/d3.v5\"}});\n",
              "   require([\"d3\"], function(d3){\n",
              "      window.d3 = d3;\n",
              "      LDAvis_load_lib(\"https://cdn.jsdelivr.net/gh/bmabey/pyLDAvis@3.3.1/pyLDAvis/js/ldavis.v3.0.0.js\", function(){\n",
              "        new LDAvis(\"#\" + \"ldavis_el21191402300273516321081028571\", ldavis_el21191402300273516321081028571_data);\n",
              "      });\n",
              "    });\n",
              "}else{\n",
              "    // require.js not available: dynamically load d3 & LDAvis\n",
              "    LDAvis_load_lib(\"https://d3js.org/d3.v5.js\", function(){\n",
              "         LDAvis_load_lib(\"https://cdn.jsdelivr.net/gh/bmabey/pyLDAvis@3.3.1/pyLDAvis/js/ldavis.v3.0.0.js\", function(){\n",
              "                 new LDAvis(\"#\" + \"ldavis_el21191402300273516321081028571\", ldavis_el21191402300273516321081028571_data);\n",
              "            })\n",
              "         });\n",
              "}\n",
              "</script>"
            ],
            "text/plain": [
              "PreparedData(topic_coordinates=              x         y  topics  cluster       Freq\n",
              "topic                                                \n",
              "2      0.006918 -0.028354       1        1  34.091395\n",
              "3      0.015848 -0.009521       2        1  23.090373\n",
              "1     -0.041751  0.006124       3        1  21.736367\n",
              "0      0.018984  0.031750       4        1  21.081865, topic_info=            Term       Freq      Total Category  logprob  loglift\n",
              "29         район  42.000000  42.000000  Default  30.0000  30.0000\n",
              "1211  балтийский  13.000000  13.000000  Default  29.0000  29.0000\n",
              "589   антициклон  17.000000  17.000000  Default  28.0000  28.0000\n",
              "13         город  93.000000  93.000000  Default  27.0000  27.0000\n",
              "399        совет  20.000000  20.000000  Default  26.0000  26.0000\n",
              "...          ...        ...        ...      ...      ...      ...\n",
              "79    территория   5.260143  36.719336   Topic4  -6.2745  -0.3864\n",
              "29         район   5.046023  42.335311   Topic4  -6.3161  -0.5703\n",
              "817        север   4.649232  21.128136   Topic4  -6.3980   0.0429\n",
              "404         ссср   4.536474  21.187329   Topic4  -6.4225   0.0155\n",
              "349       остров   4.529301  20.318776   Topic4  -6.4241   0.0558\n",
              "\n",
              "[336 rows x 6 columns], token_table=      Topic      Freq      Term\n",
              "term                           \n",
              "3309      4  0.733337      1972\n",
              "2000      1  0.744713      1993\n",
              "2000      4  0.248238      1993\n",
              "3         3  0.524915      2016\n",
              "4         3  0.525073     668-р\n",
              "...     ...       ...       ...\n",
              "3011      2  0.486086  эстуарий\n",
              "291       1  0.435848  являться\n",
              "291       2  0.290565  являться\n",
              "291       3  0.163443  являться\n",
              "291       4  0.127122  являться\n",
              "\n",
              "[596 rows x 3 columns], R=30, lambda_step=0.01, plot_opts={'xlab': 'PC1', 'ylab': 'PC2'}, topic_order=[3, 4, 2, 1])"
            ]
          },
          "metadata": {
            "tags": []
          },
          "execution_count": 32
        }
      ]
    },
    {
      "cell_type": "code",
      "metadata": {
        "id": "designed-aerospace",
        "colab": {
          "base_uri": "https://localhost:8080/"
        },
        "outputId": "f34d7bab-05a1-4359-9f63-fb6dc886ccef"
      },
      "source": [
        "LDAvis_prepared.topic_order"
      ],
      "id": "designed-aerospace",
      "execution_count": 29,
      "outputs": [
        {
          "output_type": "execute_result",
          "data": {
            "text/plain": [
              "[3, 5, 1, 2, 4]"
            ]
          },
          "metadata": {
            "tags": []
          },
          "execution_count": 29
        }
      ]
    },
    {
      "cell_type": "markdown",
      "metadata": {
        "id": "subsequent-blogger"
      },
      "source": [
        "### Вывод\n",
        "Только при маленьком количестве тем (4 и меньше) круги не пересекаются.\n",
        "Во всех темах преобладают слова темы города, севера, государства и административных единиц, что очень хорошо отображает содержание корпуса"
      ],
      "id": "subsequent-blogger"
    }
  ]
}