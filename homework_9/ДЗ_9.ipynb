{
  "nbformat": 4,
  "nbformat_minor": 5,
  "metadata": {
    "kernelspec": {
      "display_name": "cs224",
      "language": "python",
      "name": "cs224"
    },
    "language_info": {
      "codemirror_mode": {
        "name": "ipython",
        "version": 3
      },
      "file_extension": ".py",
      "mimetype": "text/x-python",
      "name": "python",
      "nbconvert_exporter": "python",
      "pygments_lexer": "ipython3",
      "version": "3.8.5"
    },
    "colab": {
      "name": "ДЗ 9.ipynb",
      "provenance": []
    }
  },
  "cells": [
    {
      "cell_type": "code",
      "metadata": {
        "colab": {
          "base_uri": "https://localhost:8080/"
        },
        "id": "sudden-marketing",
        "outputId": "007bf863-3fcd-4b71-a3cf-5ba2875338ad"
      },
      "source": [
        "!pip install natasha\n",
        "!pip install pymorphy2\n",
        "import json\n",
        "import pandas as pd\n",
        "import re\n",
        "import pymorphy2\n",
        "from natasha import NewsNERTagger\n",
        "from natasha import MorphVocab, NewsEmbedding, NewsMorphTagger\n",
        "from natasha import Doc, Segmenter\n",
        "analyzer = pymorphy2.MorphAnalyzer()\n",
        "from sklearn.feature_extraction.text import CountVectorizer\n",
        "from sklearn.feature_extraction.text import TfidfTransformer\n",
        "from sklearn.pipeline import Pipeline\n",
        "from sklearn import metrics\n",
        "from sklearn.cluster import KMeans"
      ],
      "id": "sudden-marketing",
      "execution_count": 43,
      "outputs": [
        {
          "output_type": "stream",
          "text": [
            "Requirement already satisfied: natasha in /usr/local/lib/python3.7/dist-packages (1.4.0)\n",
            "Requirement already satisfied: razdel>=0.5.0 in /usr/local/lib/python3.7/dist-packages (from natasha) (0.5.0)\n",
            "Requirement already satisfied: slovnet>=0.3.0 in /usr/local/lib/python3.7/dist-packages (from natasha) (0.5.0)\n",
            "Requirement already satisfied: pymorphy2 in /usr/local/lib/python3.7/dist-packages (from natasha) (0.9.1)\n",
            "Requirement already satisfied: ipymarkup>=0.8.0 in /usr/local/lib/python3.7/dist-packages (from natasha) (0.9.0)\n",
            "Requirement already satisfied: navec>=0.9.0 in /usr/local/lib/python3.7/dist-packages (from natasha) (0.10.0)\n",
            "Requirement already satisfied: yargy>=0.14.0 in /usr/local/lib/python3.7/dist-packages (from natasha) (0.15.0)\n",
            "Requirement already satisfied: numpy in /usr/local/lib/python3.7/dist-packages (from slovnet>=0.3.0->natasha) (1.19.5)\n",
            "Requirement already satisfied: dawg-python>=0.7.1 in /usr/local/lib/python3.7/dist-packages (from pymorphy2->natasha) (0.7.2)\n",
            "Requirement already satisfied: docopt>=0.6 in /usr/local/lib/python3.7/dist-packages (from pymorphy2->natasha) (0.6.2)\n",
            "Requirement already satisfied: pymorphy2-dicts-ru<3.0,>=2.4 in /usr/local/lib/python3.7/dist-packages (from pymorphy2->natasha) (2.4.417127.4579844)\n",
            "Requirement already satisfied: intervaltree>=3 in /usr/local/lib/python3.7/dist-packages (from ipymarkup>=0.8.0->natasha) (3.1.0)\n",
            "Requirement already satisfied: sortedcontainers<3.0,>=2.0 in /usr/local/lib/python3.7/dist-packages (from intervaltree>=3->ipymarkup>=0.8.0->natasha) (2.4.0)\n",
            "Requirement already satisfied: pymorphy2 in /usr/local/lib/python3.7/dist-packages (0.9.1)\n",
            "Requirement already satisfied: dawg-python>=0.7.1 in /usr/local/lib/python3.7/dist-packages (from pymorphy2) (0.7.2)\n",
            "Requirement already satisfied: docopt>=0.6 in /usr/local/lib/python3.7/dist-packages (from pymorphy2) (0.6.2)\n",
            "Requirement already satisfied: pymorphy2-dicts-ru<3.0,>=2.4 in /usr/local/lib/python3.7/dist-packages (from pymorphy2) (2.4.417127.4579844)\n"
          ],
          "name": "stdout"
        }
      ]
    },
    {
      "cell_type": "code",
      "metadata": {
        "id": "lasting-adelaide"
      },
      "source": [
        "embedding = NewsEmbedding()\n",
        "segmenter = Segmenter()"
      ],
      "id": "lasting-adelaide",
      "execution_count": 4,
      "outputs": []
    },
    {
      "cell_type": "code",
      "metadata": {
        "id": "stainless-valuable"
      },
      "source": [
        "morph_tagger = NewsMorphTagger(embedding)\n",
        "morph_vocab = MorphVocab()\n",
        "ner_tagger = NewsNERTagger(embedding)"
      ],
      "id": "stainless-valuable",
      "execution_count": 5,
      "outputs": []
    },
    {
      "cell_type": "code",
      "metadata": {
        "id": "vocal-currency"
      },
      "source": [
        "with open(\"new_corpus.json\") as f:\n",
        "    docs = json.load(f)"
      ],
      "id": "vocal-currency",
      "execution_count": 6,
      "outputs": []
    },
    {
      "cell_type": "code",
      "metadata": {
        "id": "regular-chosen"
      },
      "source": [
        "titles = list(docs.keys())\n",
        "texts = list(docs.values())\n",
        "df = pd.DataFrame.from_dict({'doc_num':titles, 'text':texts})\n",
        "df.set_index('doc_num', inplace=True)"
      ],
      "id": "regular-chosen",
      "execution_count": 77,
      "outputs": []
    },
    {
      "cell_type": "code",
      "metadata": {
        "colab": {
          "base_uri": "https://localhost:8080/",
          "height": 234
        },
        "id": "universal-ethnic",
        "outputId": "8ddb39a2-4758-4620-81eb-853f28fcb894"
      },
      "source": [
        "df.head()"
      ],
      "id": "universal-ethnic",
      "execution_count": 79,
      "outputs": [
        {
          "output_type": "execute_result",
          "data": {
            "text/html": [
              "<div>\n",
              "<style scoped>\n",
              "    .dataframe tbody tr th:only-of-type {\n",
              "        vertical-align: middle;\n",
              "    }\n",
              "\n",
              "    .dataframe tbody tr th {\n",
              "        vertical-align: top;\n",
              "    }\n",
              "\n",
              "    .dataframe thead th {\n",
              "        text-align: right;\n",
              "    }\n",
              "</style>\n",
              "<table border=\"1\" class=\"dataframe\">\n",
              "  <thead>\n",
              "    <tr style=\"text-align: right;\">\n",
              "      <th></th>\n",
              "      <th>text</th>\n",
              "    </tr>\n",
              "    <tr>\n",
              "      <th>doc_num</th>\n",
              "      <th></th>\n",
              "    </tr>\n",
              "  </thead>\n",
              "  <tbody>\n",
              "    <tr>\n",
              "      <th>0</th>\n",
              "      <td>Северодвинск  — город в Архангельской области ...</td>\n",
              "    </tr>\n",
              "    <tr>\n",
              "      <th>1</th>\n",
              "      <td>Абхазия  — регион в северо-западной части южно...</td>\n",
              "    </tr>\n",
              "    <tr>\n",
              "      <th>2</th>\n",
              "      <td>Авария на Чернобыльской АЭС  — разрушение 26 а...</td>\n",
              "    </tr>\n",
              "    <tr>\n",
              "      <th>3</th>\n",
              "      <td>Авнюгский  — посёлок в Верхнетоемском районе А...</td>\n",
              "    </tr>\n",
              "    <tr>\n",
              "      <th>4</th>\n",
              "      <td>«Авторадио»  — российская музыкальная радиоста...</td>\n",
              "    </tr>\n",
              "  </tbody>\n",
              "</table>\n",
              "</div>"
            ],
            "text/plain": [
              "                                                      text\n",
              "doc_num                                                   \n",
              "0        Северодвинск  — город в Архангельской области ...\n",
              "1        Абхазия  — регион в северо-западной части южно...\n",
              "2        Авария на Чернобыльской АЭС  — разрушение 26 а...\n",
              "3        Авнюгский  — посёлок в Верхнетоемском районе А...\n",
              "4        «Авторадио»  — российская музыкальная радиоста..."
            ]
          },
          "metadata": {
            "tags": []
          },
          "execution_count": 79
        }
      ]
    },
    {
      "cell_type": "code",
      "metadata": {
        "id": "otherwise-justice"
      },
      "source": [
        "def NER (transcript):\n",
        "  script = Doc(re.sub(r'\\((.*?)\\)', \"\", transcript))\n",
        "  script.segment(segmenter)\n",
        "  script.tag_morph(morph_tagger)\n",
        "  for token in script.tokens:\n",
        "    token.lemmatize(morph_vocab)\n",
        "  script.tag_ner(ner_tagger)\n",
        "  for span in script.spans:\n",
        "    span.normalize(morph_vocab)\n",
        "  named_ents = [(i.text, i.type, i.normal) for i in script.spans]\n",
        "  normed_ents = []\n",
        "  for word, tag, norm in named_ents:\n",
        "    if len(word.split()) == 1 and tag == \"LOC\":\n",
        "      for gram in range(len(analyzer.parse(word))):\n",
        "        if \"Geox\" in analyzer.parse(word)[gram].tag:\n",
        "          normed_ents.append((analyzer.parse(word)[gram].normal_form))\n",
        "          break\n",
        "        elif gram == len(analyzer.parse(word)) - 1:\n",
        "          normed_ents.append((norm.lower().strip(\".,!?;-\")))\n",
        "    else:\n",
        "      normed_ents.append((norm.lower().strip(\".,!?;-\")))\n",
        "  return sorted(normed_ents)"
      ],
      "id": "otherwise-justice",
      "execution_count": 71,
      "outputs": []
    },
    {
      "cell_type": "code",
      "metadata": {
        "id": "sticky-warner"
      },
      "source": [
        "df[\"named_entities\"] = df.apply(lambda row: NER(row[\"text\"]), axis=1)"
      ],
      "id": "sticky-warner",
      "execution_count": 72,
      "outputs": []
    },
    {
      "cell_type": "code",
      "metadata": {
        "colab": {
          "base_uri": "https://localhost:8080/",
          "height": 234
        },
        "id": "forward-olympus",
        "outputId": "0a76d651-47d7-41d0-b9ba-da881d312309"
      },
      "source": [
        "df.head()"
      ],
      "id": "forward-olympus",
      "execution_count": 73,
      "outputs": [
        {
          "output_type": "execute_result",
          "data": {
            "text/html": [
              "<div>\n",
              "<style scoped>\n",
              "    .dataframe tbody tr th:only-of-type {\n",
              "        vertical-align: middle;\n",
              "    }\n",
              "\n",
              "    .dataframe tbody tr th {\n",
              "        vertical-align: top;\n",
              "    }\n",
              "\n",
              "    .dataframe thead th {\n",
              "        text-align: right;\n",
              "    }\n",
              "</style>\n",
              "<table border=\"1\" class=\"dataframe\">\n",
              "  <thead>\n",
              "    <tr style=\"text-align: right;\">\n",
              "      <th></th>\n",
              "      <th>text</th>\n",
              "      <th>named_entities</th>\n",
              "    </tr>\n",
              "    <tr>\n",
              "      <th>title</th>\n",
              "      <th></th>\n",
              "      <th></th>\n",
              "    </tr>\n",
              "  </thead>\n",
              "  <tbody>\n",
              "    <tr>\n",
              "      <th>0</th>\n",
              "      <td>Северодвинск  — город в Архангельской области ...</td>\n",
              "      <td>[архангельская область, город, крайний север, ...</td>\n",
              "    </tr>\n",
              "    <tr>\n",
              "      <th>1</th>\n",
              "      <td>Абхазия  — регион в северо-западной части южно...</td>\n",
              "      <td>[абжуа, абхазия, абхазская автономная республи...</td>\n",
              "    </tr>\n",
              "    <tr>\n",
              "      <th>2</th>\n",
              "      <td>Авария на Чернобыльской АЭС  — разрушение 26 а...</td>\n",
              "      <td>[аэс, белоруссия, европа, нагасаки, припять, р...</td>\n",
              "    </tr>\n",
              "    <tr>\n",
              "      <th>3</th>\n",
              "      <td>Авнюгский  — посёлок в Верхнетоемском районе А...</td>\n",
              "      <td>[авнюгский, архангельская область, верхнетоемс...</td>\n",
              "    </tr>\n",
              "    <tr>\n",
              "      <th>4</th>\n",
              "      <td>«Авторадио»  — российская музыкальная радиоста...</td>\n",
              "      <td>[авторадио, авторадио, авторадио, авторадио, а...</td>\n",
              "    </tr>\n",
              "  </tbody>\n",
              "</table>\n",
              "</div>"
            ],
            "text/plain": [
              "                                                    text                                     named_entities\n",
              "title                                                                                                      \n",
              "0      Северодвинск  — город в Архангельской области ...  [архангельская область, город, крайний север, ...\n",
              "1      Абхазия  — регион в северо-западной части южно...  [абжуа, абхазия, абхазская автономная республи...\n",
              "2      Авария на Чернобыльской АЭС  — разрушение 26 а...  [аэс, белоруссия, европа, нагасаки, припять, р...\n",
              "3      Авнюгский  — посёлок в Верхнетоемском районе А...  [авнюгский, архангельская область, верхнетоемс...\n",
              "4      «Авторадио»  — российская музыкальная радиоста...  [авторадио, авторадио, авторадио, авторадио, а..."
            ]
          },
          "metadata": {
            "tags": []
          },
          "execution_count": 73
        }
      ]
    },
    {
      "cell_type": "code",
      "metadata": {
        "id": "catholic-treatment"
      },
      "source": [
        "has_ner = [i for i in df.index.values if df.named_entities[i]]"
      ],
      "id": "catholic-treatment",
      "execution_count": 74,
      "outputs": []
    },
    {
      "cell_type": "code",
      "metadata": {
        "colab": {
          "base_uri": "https://localhost:8080/"
        },
        "id": "loving-implementation",
        "outputId": "3eba2028-e21f-4d1e-b761-5380ba3b77c9"
      },
      "source": [
        "len(has_ner), df.shape[0] # выведет количество док-в с именованными сущностями и общее кол-во док-в"
      ],
      "id": "loving-implementation",
      "execution_count": 40,
      "outputs": [
        {
          "output_type": "execute_result",
          "data": {
            "text/plain": [
              "(163, 201)"
            ]
          },
          "metadata": {
            "tags": []
          },
          "execution_count": 40
        }
      ]
    },
    {
      "cell_type": "code",
      "metadata": {
        "id": "stretch-geneva"
      },
      "source": [
        "df_ner = df[df.index.isin(has_ner)]"
      ],
      "id": "stretch-geneva",
      "execution_count": 75,
      "outputs": []
    },
    {
      "cell_type": "code",
      "metadata": {
        "colab": {
          "base_uri": "https://localhost:8080/"
        },
        "id": "operating-station",
        "outputId": "a494143f-e73f-4a43-ec2e-d9d9030e1c93"
      },
      "source": [
        "ner_voc = []\n",
        "for row in df_ner.named_entities.tolist():\n",
        "  ner_voc.extend(row)\n",
        "len(set(ner_voc)), len(ner_voc) # выведем кол-во уникальных сущностей и общее количество сущностей"
      ],
      "id": "operating-station",
      "execution_count": 44,
      "outputs": [
        {
          "output_type": "execute_result",
          "data": {
            "text/plain": [
              "(983, 1979)"
            ]
          },
          "metadata": {
            "tags": []
          },
          "execution_count": 44
        }
      ]
    },
    {
      "cell_type": "code",
      "metadata": {
        "id": "assigned-certification"
      },
      "source": [
        "vocabulary = sorted(set(ner_voc))\n",
        "corpus = df_ner.named_entities.apply(str).tolist()"
      ],
      "id": "assigned-certification",
      "execution_count": 48,
      "outputs": []
    },
    {
      "cell_type": "code",
      "metadata": {
        "id": "republican-buffer"
      },
      "source": [
        "pipe = Pipeline([('count', CountVectorizer(vocabulary = vocabulary)),\n",
        "                 ('tfid', TfidfTransformer())]).fit(corpus)\n",
        "X = pipe.fit_transform(corpus)\n",
        "km = KMeans(n_clusters = 30, init = 'k-means++', max_iter = 600, \n",
        "            algorithm = \"full\", precompute_distances = True)"
      ],
      "id": "republican-buffer",
      "execution_count": 60,
      "outputs": []
    },
    {
      "cell_type": "code",
      "metadata": {
        "colab": {
          "base_uri": "https://localhost:8080/"
        },
        "id": "public-sheep",
        "outputId": "a9fd3660-8bb8-4b5a-ad5b-94099d10cf53"
      },
      "source": [
        "km.fit(X)"
      ],
      "id": "public-sheep",
      "execution_count": 61,
      "outputs": [
        {
          "output_type": "execute_result",
          "data": {
            "text/plain": [
              "KMeans(algorithm='full', copy_x=True, init='k-means++', max_iter=600,\n",
              "       n_clusters=30, n_init=10, n_jobs=None, precompute_distances=True,\n",
              "       random_state=None, tol=0.0001, verbose=0)"
            ]
          },
          "metadata": {
            "tags": []
          },
          "execution_count": 61
        }
      ]
    },
    {
      "cell_type": "markdown",
      "metadata": {
        "id": "offensive-slave"
      },
      "source": [
        "Для оценки качества проведенной кластеризации используем 2 метрики:\n",
        "\n",
        "1.   Индекс Дэвиcа-Болдуина: оценивает расстояние от объекта кластера до центроида и расстояние между центроидами; чем он ниже, тем лучше разбиение. В нашем случае разбиение прошло успешно: с увеличением числа кластеров он уменьшается\n",
        "2.   Силуэт: показывает, насколько объект похож на свой кластер относительно других кластеров; если значение стремится к 1 - хорошее разбиение, если к -1 - плохое, если в районе 0 - кластеры пересекаются. Наш результат не намного больше 0, поэтому кластеры во многом схожи\n"
      ],
      "id": "offensive-slave"
    },
    {
      "cell_type": "code",
      "metadata": {
        "colab": {
          "base_uri": "https://localhost:8080/"
        },
        "id": "tired-cholesterol",
        "outputId": "ba4ece06-bae1-43af-b8bc-3ee8b009898e"
      },
      "source": [
        "print('Индекс Дэвиса-Болдуина: ', metrics.davies_bouldin_score(X.toarray(), km.labels_))\n",
        "print('Силуэт: ', metrics.silhouette_score(X, km.labels_, sample_size=1000))"
      ],
      "id": "tired-cholesterol",
      "execution_count": 62,
      "outputs": [
        {
          "output_type": "stream",
          "text": [
            "Индекс Дэвиса-Болдуина:  1.4669628222326678\n",
            "Силуэт:  0.1743023639029352\n"
          ],
          "name": "stdout"
        }
      ]
    },
    {
      "cell_type": "code",
      "metadata": {
        "colab": {
          "base_uri": "https://localhost:8080/"
        },
        "id": "actual-artist",
        "outputId": "3f6172ec-1fbf-4670-bbc3-be878c45cac2"
      },
      "source": [
        "df_ner[\"label\"] = km.predict(X)"
      ],
      "id": "actual-artist",
      "execution_count": 63,
      "outputs": [
        {
          "output_type": "stream",
          "text": [
            "/usr/local/lib/python3.7/dist-packages/ipykernel_launcher.py:1: SettingWithCopyWarning: \n",
            "A value is trying to be set on a copy of a slice from a DataFrame.\n",
            "Try using .loc[row_indexer,col_indexer] = value instead\n",
            "\n",
            "See the caveats in the documentation: https://pandas.pydata.org/pandas-docs/stable/user_guide/indexing.html#returning-a-view-versus-a-copy\n",
            "  \"\"\"Entry point for launching an IPython kernel.\n"
          ],
          "name": "stderr"
        }
      ]
    },
    {
      "cell_type": "code",
      "metadata": {
        "colab": {
          "base_uri": "https://localhost:8080/"
        },
        "id": "designing-acquisition",
        "outputId": "bc08fc7a-4178-422b-88f9-f1b8c1a09454"
      },
      "source": [
        "df_ner[\"label\"].value_counts()"
      ],
      "id": "designing-acquisition",
      "execution_count": 64,
      "outputs": [
        {
          "output_type": "execute_result",
          "data": {
            "text/plain": [
              "4     79\n",
              "6      7\n",
              "13     6\n",
              "1      6\n",
              "2      5\n",
              "29     5\n",
              "7      4\n",
              "18     4\n",
              "11     4\n",
              "25     3\n",
              "22     3\n",
              "20     3\n",
              "8      3\n",
              "10     3\n",
              "28     3\n",
              "5      2\n",
              "12     2\n",
              "14     2\n",
              "15     2\n",
              "16     2\n",
              "17     2\n",
              "19     2\n",
              "21     2\n",
              "23     2\n",
              "26     2\n",
              "9      1\n",
              "24     1\n",
              "3      1\n",
              "27     1\n",
              "0      1\n",
              "Name: label, dtype: int64"
            ]
          },
          "metadata": {
            "tags": []
          },
          "execution_count": 64
        }
      ]
    },
    {
      "cell_type": "code",
      "metadata": {
        "colab": {
          "base_uri": "https://localhost:8080/",
          "height": 172
        },
        "id": "breeding-hampton",
        "outputId": "15a925ad-648e-41b6-de76-7f88db91817b"
      },
      "source": [
        "df_ner.query(\"label == 20\")"
      ],
      "id": "breeding-hampton",
      "execution_count": 66,
      "outputs": [
        {
          "output_type": "execute_result",
          "data": {
            "text/html": [
              "<div>\n",
              "<style scoped>\n",
              "    .dataframe tbody tr th:only-of-type {\n",
              "        vertical-align: middle;\n",
              "    }\n",
              "\n",
              "    .dataframe tbody tr th {\n",
              "        vertical-align: top;\n",
              "    }\n",
              "\n",
              "    .dataframe thead th {\n",
              "        text-align: right;\n",
              "    }\n",
              "</style>\n",
              "<table border=\"1\" class=\"dataframe\">\n",
              "  <thead>\n",
              "    <tr style=\"text-align: right;\">\n",
              "      <th></th>\n",
              "      <th>text</th>\n",
              "      <th>named_entities</th>\n",
              "      <th>label</th>\n",
              "    </tr>\n",
              "    <tr>\n",
              "      <th>title</th>\n",
              "      <th></th>\n",
              "      <th></th>\n",
              "      <th></th>\n",
              "    </tr>\n",
              "  </thead>\n",
              "  <tbody>\n",
              "    <tr>\n",
              "      <th>98</th>\n",
              "      <td>Сумерки — интервал времени, в течение которого...</td>\n",
              "      <td>[земля, солнце, солнце, солнце]</td>\n",
              "      <td>20</td>\n",
              "    </tr>\n",
              "    <tr>\n",
              "      <th>118</th>\n",
              "      <td>Зимнее солнцестояние — один из двух дней в год...</td>\n",
              "      <td>[солнце, солнце, солнце]</td>\n",
              "      <td>20</td>\n",
              "    </tr>\n",
              "    <tr>\n",
              "      <th>172</th>\n",
              "      <td>Летнее солнцестояние — момент, когда Солнце в ...</td>\n",
              "      <td>[солнце]</td>\n",
              "      <td>20</td>\n",
              "    </tr>\n",
              "  </tbody>\n",
              "</table>\n",
              "</div>"
            ],
            "text/plain": [
              "                                                    text  ... label\n",
              "title                                                     ...      \n",
              "98     Сумерки — интервал времени, в течение которого...  ...    20\n",
              "118    Зимнее солнцестояние — один из двух дней в год...  ...    20\n",
              "172    Летнее солнцестояние — момент, когда Солнце в ...  ...    20\n",
              "\n",
              "[3 rows x 3 columns]"
            ]
          },
          "metadata": {
            "tags": []
          },
          "execution_count": 66
        }
      ]
    },
    {
      "cell_type": "code",
      "metadata": {
        "colab": {
          "base_uri": "https://localhost:8080/",
          "height": 172
        },
        "id": "RaJWD1V7NgOL",
        "outputId": "5a3a80ee-88df-403e-de2b-049de688a24c"
      },
      "source": [
        "df_ner.query(\"label == 10\")"
      ],
      "id": "RaJWD1V7NgOL",
      "execution_count": 69,
      "outputs": [
        {
          "output_type": "execute_result",
          "data": {
            "text/html": [
              "<div>\n",
              "<style scoped>\n",
              "    .dataframe tbody tr th:only-of-type {\n",
              "        vertical-align: middle;\n",
              "    }\n",
              "\n",
              "    .dataframe tbody tr th {\n",
              "        vertical-align: top;\n",
              "    }\n",
              "\n",
              "    .dataframe thead th {\n",
              "        text-align: right;\n",
              "    }\n",
              "</style>\n",
              "<table border=\"1\" class=\"dataframe\">\n",
              "  <thead>\n",
              "    <tr style=\"text-align: right;\">\n",
              "      <th></th>\n",
              "      <th>text</th>\n",
              "      <th>named_entities</th>\n",
              "      <th>label</th>\n",
              "    </tr>\n",
              "    <tr>\n",
              "      <th>title</th>\n",
              "      <th></th>\n",
              "      <th></th>\n",
              "      <th></th>\n",
              "    </tr>\n",
              "  </thead>\n",
              "  <tbody>\n",
              "    <tr>\n",
              "      <th>87</th>\n",
              "      <td>Город — крупный населённый пункт, жители котор...</td>\n",
              "      <td>[город, древняя русь]</td>\n",
              "      <td>10</td>\n",
              "    </tr>\n",
              "    <tr>\n",
              "      <th>173</th>\n",
              "      <td>Русские летописи — летописи, исторические сочи...</td>\n",
              "      <td>[великий княжестве литовский, киев, киевская р...</td>\n",
              "      <td>10</td>\n",
              "    </tr>\n",
              "    <tr>\n",
              "      <th>191</th>\n",
              "      <td>Монгольское нашествие на Русь, также известное...</td>\n",
              "      <td>[батый, батый, западный поход, монгольская имп...</td>\n",
              "      <td>10</td>\n",
              "    </tr>\n",
              "  </tbody>\n",
              "</table>\n",
              "</div>"
            ],
            "text/plain": [
              "                                                    text  ... label\n",
              "title                                                     ...      \n",
              "87     Город — крупный населённый пункт, жители котор...  ...    10\n",
              "173    Русские летописи — летописи, исторические сочи...  ...    10\n",
              "191    Монгольское нашествие на Русь, также известное...  ...    10\n",
              "\n",
              "[3 rows x 3 columns]"
            ]
          },
          "metadata": {
            "tags": []
          },
          "execution_count": 69
        }
      ]
    },
    {
      "cell_type": "code",
      "metadata": {
        "colab": {
          "base_uri": "https://localhost:8080/",
          "height": 234
        },
        "id": "available-proxy",
        "outputId": "f4ced449-a48d-4964-9236-adb3373cd289"
      },
      "source": [
        "df_ner.query(\"label == 2\")"
      ],
      "id": "available-proxy",
      "execution_count": 67,
      "outputs": [
        {
          "output_type": "execute_result",
          "data": {
            "text/html": [
              "<div>\n",
              "<style scoped>\n",
              "    .dataframe tbody tr th:only-of-type {\n",
              "        vertical-align: middle;\n",
              "    }\n",
              "\n",
              "    .dataframe tbody tr th {\n",
              "        vertical-align: top;\n",
              "    }\n",
              "\n",
              "    .dataframe thead th {\n",
              "        text-align: right;\n",
              "    }\n",
              "</style>\n",
              "<table border=\"1\" class=\"dataframe\">\n",
              "  <thead>\n",
              "    <tr style=\"text-align: right;\">\n",
              "      <th></th>\n",
              "      <th>text</th>\n",
              "      <th>named_entities</th>\n",
              "      <th>label</th>\n",
              "    </tr>\n",
              "    <tr>\n",
              "      <th>title</th>\n",
              "      <th></th>\n",
              "      <th></th>\n",
              "      <th></th>\n",
              "    </tr>\n",
              "  </thead>\n",
              "  <tbody>\n",
              "    <tr>\n",
              "      <th>55</th>\n",
              "      <td>Верхнее Шилово — деревня в Красноборском район...</td>\n",
              "      <td>[архангельская область, верхнее шилово, красно...</td>\n",
              "      <td>2</td>\n",
              "    </tr>\n",
              "    <tr>\n",
              "      <th>90</th>\n",
              "      <td>Городищенская — сельский населённый пункт в Кр...</td>\n",
              "      <td>[архангельская область, городищенская, красноб...</td>\n",
              "      <td>2</td>\n",
              "    </tr>\n",
              "    <tr>\n",
              "      <th>109</th>\n",
              "      <td>Дябрино — посёлок в Красноборском районе Архан...</td>\n",
              "      <td>[алексеевское сельское поселение, архангельска...</td>\n",
              "      <td>2</td>\n",
              "    </tr>\n",
              "    <tr>\n",
              "      <th>158</th>\n",
              "      <td>Красноборский район — административно-территор...</td>\n",
              "      <td>[архангельская область, красноборск, краснобор...</td>\n",
              "      <td>2</td>\n",
              "    </tr>\n",
              "    <tr>\n",
              "      <th>190</th>\n",
              "      <td>Монастырская Пашня — это сельский населённый п...</td>\n",
              "      <td>[архангельская область, красноборский район, м...</td>\n",
              "      <td>2</td>\n",
              "    </tr>\n",
              "  </tbody>\n",
              "</table>\n",
              "</div>"
            ],
            "text/plain": [
              "                                                    text  ... label\n",
              "title                                                     ...      \n",
              "55     Верхнее Шилово — деревня в Красноборском район...  ...     2\n",
              "90     Городищенская — сельский населённый пункт в Кр...  ...     2\n",
              "109    Дябрино — посёлок в Красноборском районе Архан...  ...     2\n",
              "158    Красноборский район — административно-территор...  ...     2\n",
              "190    Монастырская Пашня — это сельский населённый п...  ...     2\n",
              "\n",
              "[5 rows x 3 columns]"
            ]
          },
          "metadata": {
            "tags": []
          },
          "execution_count": 67
        }
      ]
    },
    {
      "cell_type": "code",
      "metadata": {
        "colab": {
          "base_uri": "https://localhost:8080/"
        },
        "id": "corrected-adjustment",
        "outputId": "096df7e0-d6e2-4acf-b4c0-2ed30ca989b9"
      },
      "source": [
        "order_centroids = km.cluster_centers_.argsort()[:, ::-1]\n",
        "terms = pipe[0].get_feature_names()\n",
        "for i in range(30):\n",
        "  print(\"Cluster %d:\" % i, end='')\n",
        "  for ind in order_centroids[i, :10]:\n",
        "    print(' %s' % terms[ind], end='')\n",
        "  print()"
      ],
      "id": "corrected-adjustment",
      "execution_count": 68,
      "outputs": [
        {
          "output_type": "stream",
          "text": [
            "Cluster 0: мурманск россия кольский запад баренцево город север западный поход западная европа западная сибирь\n",
            "Cluster 1: земля евразия европа виктория архангельская россия испания колгуев франция ненецкий\n",
            "Cluster 2: красноборский архангельская дябрино городищенская красноборск уфтюга северная западный поход закавказье запад\n",
            "Cluster 3: ссср цик президиум ярославль закавказье запад западная европа западная сибирь западный поход заполярный район\n",
            "Cluster 4: россия архангельская архангельск ссср северная белоруссия виноградовский рф европа украина\n",
            "Cluster 5: архангельский архангельск вологодский архангельская россия ссузы архангельское запад заполярный район западная европа\n",
            "Cluster 6: северодвинск архангельская звездочка кудемскай россия город север рф зато западная европа\n",
            "Cluster 7: рсфср ссср кпсс ран рф советский россия ярославль западная европа закавказье\n",
            "Cluster 8: вмф ссср ораниенбаум приозерск адмиралтейства россия кронштадт заполярье заполярный транссиб заполярный район\n",
            "Cluster 9: африка азия европа ярославль запад земля франц-иосиф земля зеленник звездочка зато\n",
            "Cluster 10: русь город батый киев субэдэя центральная россия европа заполярный транссиб заполярье\n",
            "Cluster 11: сша конгресс великобритания содружество китай ссср трумэн австралия британская франция\n",
            "Cluster 12: каргополь каргопольский архангельская онега заполярный район запад западная европа западная сибирь западный поход ярославль\n",
            "Cluster 13: россия архангельская новосибирск ненецкий заполярный район запад западная европа западная сибирь западный поход заполярье\n",
            "Cluster 14: калининград вмф россия рбк кёнигсберг храброво твангсте преголи крулевец прибалтика\n",
            "Cluster 15: котлас котласский архангельская вычегда архангельск северная россия заполярный район заполярный транссиб заволочье\n",
            "Cluster 16: приморский владивосток восток россия зато петр ран закавказье запад западная европа\n",
            "Cluster 17: абхазия южная грузия абжуа самурзакан гуму бзыпын кавказский оон екатеринбург\n",
            "Cluster 18: верхнетоемский архангельская россия зеленник авнюгский заполярный район закавказье запад западная европа западная сибирь\n",
            "Cluster 19: новгород москва ярославль литва иван испания земля франц-иосиф зеленник звездочка зато\n",
            "Cluster 20: солнце земля земские соборы зеленник звездочка зато заполярье заполярный транссиб заполярный район западный поход\n",
            "Cluster 21: ссср кпсс вкп цк азербайджан армения москва западная европа заволочья закавказье\n",
            "Cluster 22: великобритания королевство англия лондон ирландия соединенного шотландия северная британская европа\n",
            "Cluster 23: иван молотовск казанское башкирия судебник иона астраханское васильевич русь россия\n",
            "Cluster 24: васильевич ярославль земские соборы земля зеленник звездочка зато заполярье заполярный транссиб заполярный район\n",
            "Cluster 25: холмогорский архангельская ракульское ичково россия единая россия заволочья звездочка европейская часть зато\n",
            "Cluster 26: вельск вельский вель архангельская вага москва архангельск россия западный поход запад\n",
            "Cluster 27: дагестан ссср ярославль зимний земля франц-иосиф земля зеленник звездочка зато заполярье\n",
            "Cluster 28: бьярмаланд европа ярославль заволочья земля зеленник звездочка зато заполярье заполярный транссиб\n",
            "Cluster 29: википедия викигид викимедиа интернет проверяемость википедию западная сибирь заволочья закавказье запад\n"
          ],
          "name": "stdout"
        }
      ]
    },
    {
      "cell_type": "markdown",
      "metadata": {
        "id": "conditional-angle"
      },
      "source": [
        "### Вывод\n",
        "Кластеризация прошла успешно, но мы можем наблюдать пересечение содержания некоторых кластеров (например, 3 и 29), что говорит лишь об очень смежных темах в собранных документах (север России, исторические события, природа и т.д.)"
      ],
      "id": "conditional-angle"
    }
  ]
}